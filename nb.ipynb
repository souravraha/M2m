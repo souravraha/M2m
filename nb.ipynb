{
 "cells": [
  {
   "attachments": {},
   "cell_type": "markdown",
   "metadata": {},
   "source": [
    "# Constructing baseline"
   ]
  },
  {
   "cell_type": "code",
   "execution_count": 1,
   "metadata": {},
   "outputs": [
    {
     "name": "stdout",
     "output_type": "stream",
     "text": [
      "Requirement already satisfied: torch in /DATA/souraviai/miniconda3/envs/tmp/lib/python3.8/site-packages (2.0.1)\n",
      "Requirement already satisfied: torchvision in /DATA/souraviai/miniconda3/envs/tmp/lib/python3.8/site-packages (0.15.2)\n",
      "Requirement already satisfied: filelock in /DATA/souraviai/miniconda3/envs/tmp/lib/python3.8/site-packages (from torch) (3.12.0)\n",
      "Requirement already satisfied: networkx in /DATA/souraviai/miniconda3/envs/tmp/lib/python3.8/site-packages (from torch) (3.1)\n",
      "Requirement already satisfied: typing-extensions in /DATA/souraviai/miniconda3/envs/tmp/lib/python3.8/site-packages (from torch) (4.5.0)\n",
      "Requirement already satisfied: jinja2 in /DATA/souraviai/miniconda3/envs/tmp/lib/python3.8/site-packages (from torch) (3.1.2)\n",
      "Requirement already satisfied: nvidia-cublas-cu11==11.10.3.66 in /DATA/souraviai/miniconda3/envs/tmp/lib/python3.8/site-packages (from torch) (11.10.3.66)\n",
      "Requirement already satisfied: nvidia-cusolver-cu11==11.4.0.1 in /DATA/souraviai/miniconda3/envs/tmp/lib/python3.8/site-packages (from torch) (11.4.0.1)\n",
      "Requirement already satisfied: nvidia-cufft-cu11==10.9.0.58 in /DATA/souraviai/miniconda3/envs/tmp/lib/python3.8/site-packages (from torch) (10.9.0.58)\n",
      "Requirement already satisfied: nvidia-nvtx-cu11==11.7.91 in /DATA/souraviai/miniconda3/envs/tmp/lib/python3.8/site-packages (from torch) (11.7.91)\n",
      "Requirement already satisfied: nvidia-cusparse-cu11==11.7.4.91 in /DATA/souraviai/miniconda3/envs/tmp/lib/python3.8/site-packages (from torch) (11.7.4.91)\n",
      "Requirement already satisfied: nvidia-cudnn-cu11==8.5.0.96 in /DATA/souraviai/miniconda3/envs/tmp/lib/python3.8/site-packages (from torch) (8.5.0.96)\n",
      "Requirement already satisfied: triton==2.0.0 in /DATA/souraviai/miniconda3/envs/tmp/lib/python3.8/site-packages (from torch) (2.0.0)\n",
      "Requirement already satisfied: nvidia-cuda-cupti-cu11==11.7.101 in /DATA/souraviai/miniconda3/envs/tmp/lib/python3.8/site-packages (from torch) (11.7.101)\n",
      "Requirement already satisfied: nvidia-cuda-nvrtc-cu11==11.7.99 in /DATA/souraviai/miniconda3/envs/tmp/lib/python3.8/site-packages (from torch) (11.7.99)\n",
      "Requirement already satisfied: nvidia-nccl-cu11==2.14.3 in /DATA/souraviai/miniconda3/envs/tmp/lib/python3.8/site-packages (from torch) (2.14.3)\n",
      "Requirement already satisfied: nvidia-curand-cu11==10.2.10.91 in /DATA/souraviai/miniconda3/envs/tmp/lib/python3.8/site-packages (from torch) (10.2.10.91)\n",
      "Requirement already satisfied: nvidia-cuda-runtime-cu11==11.7.99 in /DATA/souraviai/miniconda3/envs/tmp/lib/python3.8/site-packages (from torch) (11.7.99)\n",
      "Requirement already satisfied: sympy in /DATA/souraviai/miniconda3/envs/tmp/lib/python3.8/site-packages (from torch) (1.12)\n",
      "Requirement already satisfied: setuptools in /DATA/souraviai/miniconda3/envs/tmp/lib/python3.8/site-packages (from nvidia-cublas-cu11==11.10.3.66->torch) (59.5.0)\n",
      "Requirement already satisfied: wheel in /DATA/souraviai/miniconda3/envs/tmp/lib/python3.8/site-packages (from nvidia-cublas-cu11==11.10.3.66->torch) (0.38.4)\n",
      "Requirement already satisfied: lit in /DATA/souraviai/miniconda3/envs/tmp/lib/python3.8/site-packages (from triton==2.0.0->torch) (16.0.5)\n",
      "Requirement already satisfied: cmake in /DATA/souraviai/miniconda3/envs/tmp/lib/python3.8/site-packages (from triton==2.0.0->torch) (3.26.3)\n",
      "Requirement already satisfied: numpy in /DATA/souraviai/miniconda3/envs/tmp/lib/python3.8/site-packages (from torchvision) (1.23.5)\n",
      "Requirement already satisfied: requests in /DATA/souraviai/miniconda3/envs/tmp/lib/python3.8/site-packages (from torchvision) (2.30.0)\n",
      "Requirement already satisfied: pillow!=8.3.*,>=5.3.0 in /DATA/souraviai/miniconda3/envs/tmp/lib/python3.8/site-packages (from torchvision) (9.5.0)\n",
      "Requirement already satisfied: MarkupSafe>=2.0 in /DATA/souraviai/miniconda3/envs/tmp/lib/python3.8/site-packages (from jinja2->torch) (2.1.2)\n",
      "Requirement already satisfied: charset-normalizer<4,>=2 in /DATA/souraviai/miniconda3/envs/tmp/lib/python3.8/site-packages (from requests->torchvision) (3.1.0)\n",
      "Requirement already satisfied: idna<4,>=2.5 in /DATA/souraviai/miniconda3/envs/tmp/lib/python3.8/site-packages (from requests->torchvision) (3.4)\n",
      "Requirement already satisfied: certifi>=2017.4.17 in /DATA/souraviai/miniconda3/envs/tmp/lib/python3.8/site-packages (from requests->torchvision) (2023.5.7)\n",
      "Requirement already satisfied: urllib3<3,>=1.21.1 in /DATA/souraviai/miniconda3/envs/tmp/lib/python3.8/site-packages (from requests->torchvision) (2.0.2)\n",
      "Requirement already satisfied: mpmath>=0.19 in /DATA/souraviai/miniconda3/envs/tmp/lib/python3.8/site-packages (from sympy->torch) (1.3.0)\n",
      "Note: you may need to restart the kernel to use updated packages.\n",
      "Collecting jupyter\n",
      "  Using cached jupyter-1.0.0-py2.py3-none-any.whl (2.7 kB)\n",
      "Collecting ipywidgets\n",
      "  Downloading ipywidgets-8.0.6-py3-none-any.whl (138 kB)\n",
      "\u001b[2K     \u001b[90m━━━━━━━━━━━━━━━━━━━━━━━━━━━━━━━━━━━━━━━\u001b[0m \u001b[32m138.3/138.3 kB\u001b[0m \u001b[31m1.6 MB/s\u001b[0m eta \u001b[36m0:00:00\u001b[0ma \u001b[36m0:00:01\u001b[0m\n",
      "\u001b[?25hCollecting nbconvert\n",
      "  Downloading nbconvert-7.4.0-py3-none-any.whl (285 kB)\n",
      "\u001b[2K     \u001b[90m━━━━━━━━━━━━━━━━━━━━━━━━━━━━━━━━━━━━━━━\u001b[0m \u001b[32m285.9/285.9 kB\u001b[0m \u001b[31m4.4 MB/s\u001b[0m eta \u001b[36m0:00:00\u001b[0ma \u001b[36m0:00:01\u001b[0m\n",
      "\u001b[?25hRequirement already satisfied: ipykernel in /DATA/souraviai/miniconda3/envs/tmp/lib/python3.8/site-packages (from jupyter) (6.15.0)\n",
      "Collecting notebook\n",
      "  Downloading notebook-6.5.4-py3-none-any.whl (529 kB)\n",
      "\u001b[2K     \u001b[90m━━━━━━━━━━━━━━━━━━━━━━━━━━━━━━━━━━━━━━━\u001b[0m \u001b[32m529.8/529.8 kB\u001b[0m \u001b[31m4.7 MB/s\u001b[0m eta \u001b[36m0:00:00\u001b[0m00:01\u001b[0m00:01\u001b[0m\n",
      "\u001b[?25hCollecting qtconsole\n",
      "  Downloading qtconsole-5.4.3-py3-none-any.whl (121 kB)\n",
      "\u001b[2K     \u001b[90m━━━━━━━━━━━━━━━━━━━━━━━━━━━━━━━━━━━━━━━\u001b[0m \u001b[32m121.9/121.9 kB\u001b[0m \u001b[31m7.0 MB/s\u001b[0m eta \u001b[36m0:00:00\u001b[0m\n",
      "\u001b[?25hCollecting jupyter-console\n",
      "  Downloading jupyter_console-6.6.3-py3-none-any.whl (24 kB)\n",
      "Requirement already satisfied: traitlets>=4.3.1 in /DATA/souraviai/miniconda3/envs/tmp/lib/python3.8/site-packages (from ipywidgets) (5.9.0)\n",
      "Collecting widgetsnbextension~=4.0.7\n",
      "  Downloading widgetsnbextension-4.0.7-py3-none-any.whl (2.1 MB)\n",
      "\u001b[2K     \u001b[90m━━━━━━━━━━━━━━━━━━━━━━━━━━━━━━━━━━━━━━━━\u001b[0m \u001b[32m2.1/2.1 MB\u001b[0m \u001b[31m4.9 MB/s\u001b[0m eta \u001b[36m0:00:00\u001b[0ma \u001b[36m0:00:01\u001b[0m\n",
      "\u001b[?25hRequirement already satisfied: ipython>=6.1.0 in /DATA/souraviai/miniconda3/envs/tmp/lib/python3.8/site-packages (from ipywidgets) (8.4.0)\n",
      "Collecting jupyterlab-widgets~=3.0.7\n",
      "  Downloading jupyterlab_widgets-3.0.7-py3-none-any.whl (198 kB)\n",
      "\u001b[2K     \u001b[90m━━━━━━━━━━━━━━━━━━━━━━━━━━━━━━━━━━━━━━━\u001b[0m \u001b[32m198.2/198.2 kB\u001b[0m \u001b[31m5.7 MB/s\u001b[0m eta \u001b[36m0:00:00\u001b[0m\n",
      "\u001b[?25hRequirement already satisfied: tornado>=6.1 in /DATA/souraviai/miniconda3/envs/tmp/lib/python3.8/site-packages (from ipykernel->jupyter) (6.1)\n",
      "Requirement already satisfied: pyzmq>=17 in /DATA/souraviai/miniconda3/envs/tmp/lib/python3.8/site-packages (from ipykernel->jupyter) (19.0.2)\n",
      "Requirement already satisfied: jupyter-client>=6.1.12 in /DATA/souraviai/miniconda3/envs/tmp/lib/python3.8/site-packages (from ipykernel->jupyter) (7.0.6)\n",
      "Requirement already satisfied: matplotlib-inline>=0.1 in /DATA/souraviai/miniconda3/envs/tmp/lib/python3.8/site-packages (from ipykernel->jupyter) (0.1.6)\n",
      "Requirement already satisfied: psutil in /DATA/souraviai/miniconda3/envs/tmp/lib/python3.8/site-packages (from ipykernel->jupyter) (5.9.0)\n",
      "Requirement already satisfied: nest-asyncio in /DATA/souraviai/miniconda3/envs/tmp/lib/python3.8/site-packages (from ipykernel->jupyter) (1.5.6)\n",
      "Requirement already satisfied: packaging in /DATA/souraviai/miniconda3/envs/tmp/lib/python3.8/site-packages (from ipykernel->jupyter) (23.1)\n",
      "Requirement already satisfied: debugpy>=1.0 in /DATA/souraviai/miniconda3/envs/tmp/lib/python3.8/site-packages (from ipykernel->jupyter) (1.5.1)\n",
      "Requirement already satisfied: pygments>=2.4.0 in /DATA/souraviai/miniconda3/envs/tmp/lib/python3.8/site-packages (from ipython>=6.1.0->ipywidgets) (2.15.1)\n",
      "Requirement already satisfied: stack-data in /DATA/souraviai/miniconda3/envs/tmp/lib/python3.8/site-packages (from ipython>=6.1.0->ipywidgets) (0.6.2)\n",
      "Requirement already satisfied: backcall in /DATA/souraviai/miniconda3/envs/tmp/lib/python3.8/site-packages (from ipython>=6.1.0->ipywidgets) (0.2.0)\n",
      "Requirement already satisfied: decorator in /DATA/souraviai/miniconda3/envs/tmp/lib/python3.8/site-packages (from ipython>=6.1.0->ipywidgets) (5.1.1)\n",
      "Requirement already satisfied: prompt-toolkit!=3.0.0,!=3.0.1,<3.1.0,>=2.0.0 in /DATA/souraviai/miniconda3/envs/tmp/lib/python3.8/site-packages (from ipython>=6.1.0->ipywidgets) (3.0.38)\n",
      "Requirement already satisfied: pexpect>4.3 in /DATA/souraviai/miniconda3/envs/tmp/lib/python3.8/site-packages (from ipython>=6.1.0->ipywidgets) (4.8.0)\n",
      "Requirement already satisfied: jedi>=0.16 in /DATA/souraviai/miniconda3/envs/tmp/lib/python3.8/site-packages (from ipython>=6.1.0->ipywidgets) (0.18.2)\n",
      "Requirement already satisfied: setuptools>=18.5 in /DATA/souraviai/miniconda3/envs/tmp/lib/python3.8/site-packages (from ipython>=6.1.0->ipywidgets) (59.5.0)\n",
      "Requirement already satisfied: pickleshare in /DATA/souraviai/miniconda3/envs/tmp/lib/python3.8/site-packages (from ipython>=6.1.0->ipywidgets) (0.7.5)\n",
      "Requirement already satisfied: jupyter-core!=5.0.*,>=4.12 in /DATA/souraviai/miniconda3/envs/tmp/lib/python3.8/site-packages (from jupyter-console->jupyter) (5.3.0)\n",
      "Collecting jupyterlab-pygments\n",
      "  Using cached jupyterlab_pygments-0.2.2-py2.py3-none-any.whl (21 kB)\n",
      "Collecting nbclient>=0.5.0\n",
      "  Downloading nbclient-0.7.4-py3-none-any.whl (73 kB)\n",
      "\u001b[2K     \u001b[90m━━━━━━━━━━━━━━━━━━━━━━━━━━━━━━━━━━━━━━━━\u001b[0m \u001b[32m73.1/73.1 kB\u001b[0m \u001b[31m5.4 MB/s\u001b[0m eta \u001b[36m0:00:00\u001b[0m\n",
      "\u001b[?25hCollecting bleach\n",
      "  Using cached bleach-6.0.0-py3-none-any.whl (162 kB)\n",
      "Collecting beautifulsoup4\n",
      "  Downloading beautifulsoup4-4.12.2-py3-none-any.whl (142 kB)\n",
      "\u001b[2K     \u001b[90m━━━━━━━━━━━━━━━━━━━━━━━━━━━━━━━━━━━━━━━\u001b[0m \u001b[32m143.0/143.0 kB\u001b[0m \u001b[31m5.5 MB/s\u001b[0m eta \u001b[36m0:00:00\u001b[0m\n",
      "\u001b[?25hCollecting importlib-metadata>=3.6\n",
      "  Using cached importlib_metadata-6.6.0-py3-none-any.whl (22 kB)\n",
      "Collecting pandocfilters>=1.4.1\n",
      "  Using cached pandocfilters-1.5.0-py2.py3-none-any.whl (8.7 kB)\n",
      "Collecting nbformat>=5.1\n",
      "  Downloading nbformat-5.8.0-py3-none-any.whl (77 kB)\n",
      "\u001b[2K     \u001b[90m━━━━━━━━━━━━━━━━━━━━━━━━━━━━━━━━━━━━━━━━\u001b[0m \u001b[32m77.4/77.4 kB\u001b[0m \u001b[31m4.9 MB/s\u001b[0m eta \u001b[36m0:00:00\u001b[0m\n",
      "\u001b[?25hCollecting defusedxml\n",
      "  Using cached defusedxml-0.7.1-py2.py3-none-any.whl (25 kB)\n",
      "Collecting mistune<3,>=2.0.3\n",
      "  Downloading mistune-2.0.5-py2.py3-none-any.whl (24 kB)\n",
      "Requirement already satisfied: jinja2>=3.0 in /DATA/souraviai/miniconda3/envs/tmp/lib/python3.8/site-packages (from nbconvert->jupyter) (3.1.2)\n",
      "Collecting tinycss2\n",
      "  Using cached tinycss2-1.2.1-py3-none-any.whl (21 kB)\n",
      "Requirement already satisfied: markupsafe>=2.0 in /DATA/souraviai/miniconda3/envs/tmp/lib/python3.8/site-packages (from nbconvert->jupyter) (2.1.2)\n",
      "Collecting terminado>=0.8.3\n",
      "  Using cached terminado-0.17.1-py3-none-any.whl (17 kB)\n",
      "Collecting nbclassic>=0.4.7\n",
      "  Downloading nbclassic-1.0.0-py3-none-any.whl (10.0 MB)\n",
      "\u001b[2K     \u001b[90m━━━━━━━━━━━━━━━━━━━━━━━━━━━━━━━━━━━━━━━━\u001b[0m \u001b[32m10.0/10.0 MB\u001b[0m \u001b[31m5.0 MB/s\u001b[0m eta \u001b[36m0:00:00\u001b[0m00:01\u001b[0m0:01\u001b[0m\n",
      "\u001b[?25hCollecting prometheus-client\n",
      "  Using cached prometheus_client-0.16.0-py3-none-any.whl (122 kB)\n",
      "Collecting ipython-genutils\n",
      "  Using cached ipython_genutils-0.2.0-py2.py3-none-any.whl (26 kB)\n",
      "Collecting argon2-cffi\n",
      "  Using cached argon2_cffi-21.3.0-py3-none-any.whl (14 kB)\n",
      "Collecting Send2Trash>=1.8.0\n",
      "  Downloading Send2Trash-1.8.2-py3-none-any.whl (18 kB)\n",
      "Collecting qtpy>=2.0.1\n",
      "  Downloading QtPy-2.3.1-py3-none-any.whl (84 kB)\n",
      "\u001b[2K     \u001b[90m━━━━━━━━━━━━━━━━━━━━━━━━━━━━━━━━━━━━━━━━\u001b[0m \u001b[32m84.9/84.9 kB\u001b[0m \u001b[31m7.6 MB/s\u001b[0m eta \u001b[36m0:00:00\u001b[0m\n",
      "\u001b[?25hCollecting zipp>=0.5\n",
      "  Using cached zipp-3.15.0-py3-none-any.whl (6.8 kB)\n",
      "Requirement already satisfied: parso<0.9.0,>=0.8.0 in /DATA/souraviai/miniconda3/envs/tmp/lib/python3.8/site-packages (from jedi>=0.16->ipython>=6.1.0->ipywidgets) (0.8.3)\n",
      "Requirement already satisfied: entrypoints in /DATA/souraviai/miniconda3/envs/tmp/lib/python3.8/site-packages (from jupyter-client>=6.1.12->ipykernel->jupyter) (0.4)\n",
      "Requirement already satisfied: python-dateutil>=2.1 in /DATA/souraviai/miniconda3/envs/tmp/lib/python3.8/site-packages (from jupyter-client>=6.1.12->ipykernel->jupyter) (2.8.2)\n",
      "Requirement already satisfied: platformdirs>=2.5 in /DATA/souraviai/miniconda3/envs/tmp/lib/python3.8/site-packages (from jupyter-core!=5.0.*,>=4.12->jupyter-console->jupyter) (3.5.1)\n",
      "Collecting notebook-shim>=0.2.3\n",
      "  Downloading notebook_shim-0.2.3-py3-none-any.whl (13 kB)\n",
      "Collecting jupyter-server>=1.8\n",
      "  Downloading jupyter_server-2.5.0-py3-none-any.whl (366 kB)\n",
      "\u001b[2K     \u001b[90m━━━━━━━━━━━━━━━━━━━━━━━━━━━━━━━━━━━━━━━\u001b[0m \u001b[32m366.8/366.8 kB\u001b[0m \u001b[31m4.4 MB/s\u001b[0m eta \u001b[36m0:00:00\u001b[0ma \u001b[36m0:00:01\u001b[0m\n",
      "\u001b[?25hCollecting jsonschema>=2.6\n",
      "  Using cached jsonschema-4.17.3-py3-none-any.whl (90 kB)\n",
      "Collecting fastjsonschema\n",
      "  Downloading fastjsonschema-2.16.3-py3-none-any.whl (23 kB)\n",
      "Requirement already satisfied: ptyprocess>=0.5 in /DATA/souraviai/miniconda3/envs/tmp/lib/python3.8/site-packages (from pexpect>4.3->ipython>=6.1.0->ipywidgets) (0.7.0)\n",
      "Requirement already satisfied: wcwidth in /DATA/souraviai/miniconda3/envs/tmp/lib/python3.8/site-packages (from prompt-toolkit!=3.0.0,!=3.0.1,<3.1.0,>=2.0.0->ipython>=6.1.0->ipywidgets) (0.2.6)\n",
      "Collecting argon2-cffi-bindings\n",
      "  Using cached argon2_cffi_bindings-21.2.0-cp36-abi3-manylinux_2_17_x86_64.manylinux2014_x86_64.whl (86 kB)\n",
      "Collecting soupsieve>1.2\n",
      "  Downloading soupsieve-2.4.1-py3-none-any.whl (36 kB)\n",
      "Collecting webencodings\n",
      "  Using cached webencodings-0.5.1-py2.py3-none-any.whl (11 kB)\n",
      "Requirement already satisfied: six>=1.9.0 in /DATA/souraviai/miniconda3/envs/tmp/lib/python3.8/site-packages (from bleach->nbconvert->jupyter) (1.16.0)\n",
      "Requirement already satisfied: pure-eval in /DATA/souraviai/miniconda3/envs/tmp/lib/python3.8/site-packages (from stack-data->ipython>=6.1.0->ipywidgets) (0.2.2)\n",
      "Requirement already satisfied: executing>=1.2.0 in /DATA/souraviai/miniconda3/envs/tmp/lib/python3.8/site-packages (from stack-data->ipython>=6.1.0->ipywidgets) (1.2.0)\n",
      "Requirement already satisfied: asttokens>=2.1.0 in /DATA/souraviai/miniconda3/envs/tmp/lib/python3.8/site-packages (from stack-data->ipython>=6.1.0->ipywidgets) (2.2.1)\n",
      "Collecting pkgutil-resolve-name>=1.3.10\n",
      "  Using cached pkgutil_resolve_name-1.3.10-py3-none-any.whl (4.7 kB)\n",
      "Requirement already satisfied: attrs>=17.4.0 in /DATA/souraviai/miniconda3/envs/tmp/lib/python3.8/site-packages (from jsonschema>=2.6->nbformat>=5.1->nbconvert->jupyter) (23.1.0)\n",
      "Collecting pyrsistent!=0.17.0,!=0.17.1,!=0.17.2,>=0.14.0\n",
      "  Using cached pyrsistent-0.19.3-py3-none-any.whl (57 kB)\n",
      "Collecting importlib-resources>=1.4.0\n",
      "  Using cached importlib_resources-5.12.0-py3-none-any.whl (36 kB)\n",
      "Collecting pyzmq>=17\n",
      "  Using cached pyzmq-25.0.2-cp38-cp38-manylinux_2_12_x86_64.manylinux2010_x86_64.whl (1.1 MB)\n",
      "Collecting jupyter-client>=6.1.12\n",
      "  Using cached jupyter_client-8.2.0-py3-none-any.whl (103 kB)\n",
      "Collecting jupyter-events>=0.4.0\n",
      "  Using cached jupyter_events-0.6.3-py3-none-any.whl (18 kB)\n",
      "Collecting tornado>=6.1\n",
      "  Using cached tornado-6.3.2-cp38-abi3-manylinux_2_5_x86_64.manylinux1_x86_64.manylinux_2_17_x86_64.manylinux2014_x86_64.whl (426 kB)\n",
      "Collecting websocket-client\n",
      "  Downloading websocket_client-1.5.1-py3-none-any.whl (55 kB)\n",
      "\u001b[2K     \u001b[90m━━━━━━━━━━━━━━━━━━━━━━━━━━━━━━━━━━━━━━━━\u001b[0m \u001b[32m55.9/55.9 kB\u001b[0m \u001b[31m4.1 MB/s\u001b[0m eta \u001b[36m0:00:00\u001b[0m\n",
      "\u001b[?25hCollecting anyio>=3.1.0\n",
      "  Using cached anyio-3.6.2-py3-none-any.whl (80 kB)\n",
      "Collecting jupyter-server-terminals\n",
      "  Using cached jupyter_server_terminals-0.4.4-py3-none-any.whl (13 kB)\n",
      "Collecting cffi>=1.0.1\n",
      "  Using cached cffi-1.15.1-cp38-cp38-manylinux_2_17_x86_64.manylinux2014_x86_64.whl (442 kB)\n",
      "Collecting sniffio>=1.1\n",
      "  Using cached sniffio-1.3.0-py3-none-any.whl (10 kB)\n",
      "Requirement already satisfied: idna>=2.8 in /DATA/souraviai/miniconda3/envs/tmp/lib/python3.8/site-packages (from anyio>=3.1.0->jupyter-server>=1.8->nbclassic>=0.4.7->notebook->jupyter) (3.4)\n",
      "Collecting pycparser\n",
      "  Using cached pycparser-2.21-py2.py3-none-any.whl (118 kB)\n",
      "Collecting python-json-logger>=2.0.4\n",
      "  Downloading python_json_logger-2.0.7-py3-none-any.whl (8.1 kB)\n",
      "Requirement already satisfied: pyyaml>=5.3 in /DATA/souraviai/miniconda3/envs/tmp/lib/python3.8/site-packages (from jupyter-events>=0.4.0->jupyter-server>=1.8->nbclassic>=0.4.7->notebook->jupyter) (6.0)\n",
      "Collecting rfc3986-validator>=0.1.1\n",
      "  Using cached rfc3986_validator-0.1.1-py2.py3-none-any.whl (4.2 kB)\n",
      "Collecting rfc3339-validator\n",
      "  Using cached rfc3339_validator-0.1.4-py2.py3-none-any.whl (3.5 kB)\n",
      "Collecting isoduration\n",
      "  Using cached isoduration-20.11.0-py3-none-any.whl (11 kB)\n",
      "Collecting jsonpointer>1.13\n",
      "  Using cached jsonpointer-2.3-py2.py3-none-any.whl (7.8 kB)\n",
      "Collecting uri-template\n",
      "  Using cached uri_template-1.2.0-py3-none-any.whl (10 kB)\n",
      "Collecting webcolors>=1.11\n",
      "  Downloading webcolors-1.13-py3-none-any.whl (14 kB)\n",
      "Collecting fqdn\n",
      "  Using cached fqdn-1.5.1-py3-none-any.whl (9.1 kB)\n",
      "Collecting arrow>=0.15.0\n",
      "  Using cached arrow-1.2.3-py3-none-any.whl (66 kB)\n",
      "Installing collected packages: webencodings, mistune, ipython-genutils, fastjsonschema, zipp, widgetsnbextension, websocket-client, webcolors, uri-template, tornado, tinycss2, soupsieve, sniffio, Send2Trash, rfc3986-validator, rfc3339-validator, qtpy, pyzmq, python-json-logger, pyrsistent, pycparser, prometheus-client, pkgutil-resolve-name, pandocfilters, jupyterlab-widgets, jupyterlab-pygments, jsonpointer, fqdn, defusedxml, bleach, terminado, importlib-resources, importlib-metadata, cffi, beautifulsoup4, arrow, anyio, jupyter-server-terminals, jupyter-client, jsonschema, isoduration, argon2-cffi-bindings, nbformat, argon2-cffi, qtconsole, nbclient, jupyter-events, jupyter-console, ipywidgets, nbconvert, jupyter-server, notebook-shim, nbclassic, notebook, jupyter\n",
      "  Attempting uninstall: tornado\n",
      "    Found existing installation: tornado 6.1\n",
      "    Uninstalling tornado-6.1:\n",
      "      Successfully uninstalled tornado-6.1\n",
      "  Attempting uninstall: pyzmq\n",
      "    Found existing installation: pyzmq 19.0.2\n",
      "    Uninstalling pyzmq-19.0.2:\n",
      "      Successfully uninstalled pyzmq-19.0.2\n",
      "  Attempting uninstall: jupyter-client\n",
      "    Found existing installation: jupyter-client 7.0.6\n",
      "    Uninstalling jupyter-client-7.0.6:\n",
      "      Successfully uninstalled jupyter-client-7.0.6\n",
      "Successfully installed Send2Trash-1.8.2 anyio-3.6.2 argon2-cffi-21.3.0 argon2-cffi-bindings-21.2.0 arrow-1.2.3 beautifulsoup4-4.12.2 bleach-6.0.0 cffi-1.15.1 defusedxml-0.7.1 fastjsonschema-2.16.3 fqdn-1.5.1 importlib-metadata-6.6.0 importlib-resources-5.12.0 ipython-genutils-0.2.0 ipywidgets-8.0.6 isoduration-20.11.0 jsonpointer-2.3 jsonschema-4.17.3 jupyter-1.0.0 jupyter-client-8.2.0 jupyter-console-6.6.3 jupyter-events-0.6.3 jupyter-server-2.5.0 jupyter-server-terminals-0.4.4 jupyterlab-pygments-0.2.2 jupyterlab-widgets-3.0.7 mistune-2.0.5 nbclassic-1.0.0 nbclient-0.7.4 nbconvert-7.4.0 nbformat-5.8.0 notebook-6.5.4 notebook-shim-0.2.3 pandocfilters-1.5.0 pkgutil-resolve-name-1.3.10 prometheus-client-0.16.0 pycparser-2.21 pyrsistent-0.19.3 python-json-logger-2.0.7 pyzmq-25.0.2 qtconsole-5.4.3 qtpy-2.3.1 rfc3339-validator-0.1.4 rfc3986-validator-0.1.1 sniffio-1.3.0 soupsieve-2.4.1 terminado-0.17.1 tinycss2-1.2.1 tornado-6.3.2 uri-template-1.2.0 webcolors-1.13 webencodings-0.5.1 websocket-client-1.5.1 widgetsnbextension-4.0.7 zipp-3.15.0\n",
      "Note: you may need to restart the kernel to use updated packages.\n",
      "Requirement already satisfied: pytorch-lightning<1.9 in /DATA/souraviai/miniconda3/envs/tmp/lib/python3.8/site-packages (1.8.6)\n",
      "Requirement already satisfied: lightning-flash[image] in /DATA/souraviai/miniconda3/envs/tmp/lib/python3.8/site-packages (0.8.1.post0)\n",
      "Requirement already satisfied: lightning-utilities!=0.4.0,>=0.3.0 in /DATA/souraviai/miniconda3/envs/tmp/lib/python3.8/site-packages (from pytorch-lightning<1.9) (0.8.0)\n",
      "Requirement already satisfied: tensorboardX>=2.2 in /DATA/souraviai/miniconda3/envs/tmp/lib/python3.8/site-packages (from pytorch-lightning<1.9) (2.6)\n",
      "Requirement already satisfied: packaging>=17.0 in /DATA/souraviai/miniconda3/envs/tmp/lib/python3.8/site-packages (from pytorch-lightning<1.9) (23.1)\n",
      "Requirement already satisfied: fsspec[http]>2021.06.0 in /DATA/souraviai/miniconda3/envs/tmp/lib/python3.8/site-packages (from pytorch-lightning<1.9) (2023.5.0)\n",
      "Requirement already satisfied: typing-extensions>=4.0.0 in /DATA/souraviai/miniconda3/envs/tmp/lib/python3.8/site-packages (from pytorch-lightning<1.9) (4.5.0)\n",
      "Requirement already satisfied: torchmetrics>=0.7.0 in /DATA/souraviai/miniconda3/envs/tmp/lib/python3.8/site-packages (from pytorch-lightning<1.9) (0.10.3)\n",
      "Requirement already satisfied: PyYAML>=5.4 in /DATA/souraviai/miniconda3/envs/tmp/lib/python3.8/site-packages (from pytorch-lightning<1.9) (6.0)\n",
      "Requirement already satisfied: numpy>=1.17.2 in /DATA/souraviai/miniconda3/envs/tmp/lib/python3.8/site-packages (from pytorch-lightning<1.9) (1.23.5)\n",
      "Requirement already satisfied: torch>=1.9.0 in /DATA/souraviai/miniconda3/envs/tmp/lib/python3.8/site-packages (from pytorch-lightning<1.9) (2.0.1)\n",
      "Requirement already satisfied: tqdm>=4.57.0 in /DATA/souraviai/miniconda3/envs/tmp/lib/python3.8/site-packages (from pytorch-lightning<1.9) (4.65.0)\n",
      "Requirement already satisfied: jsonargparse[signatures]<=4.9.0,>=3.17.0 in /DATA/souraviai/miniconda3/envs/tmp/lib/python3.8/site-packages (from lightning-flash[image]) (4.9.0)\n",
      "Requirement already satisfied: protobuf<=3.20.1 in /DATA/souraviai/miniconda3/envs/tmp/lib/python3.8/site-packages (from lightning-flash[image]) (3.20.1)\n",
      "Requirement already satisfied: setuptools<=59.5.0 in /DATA/souraviai/miniconda3/envs/tmp/lib/python3.8/site-packages (from lightning-flash[image]) (59.5.0)\n",
      "Requirement already satisfied: pyDeprecate in /DATA/souraviai/miniconda3/envs/tmp/lib/python3.8/site-packages (from lightning-flash[image]) (0.3.2)\n",
      "Requirement already satisfied: click>=7.1.2 in /DATA/souraviai/miniconda3/envs/tmp/lib/python3.8/site-packages (from lightning-flash[image]) (8.0.4)\n",
      "Requirement already satisfied: pandas>=1.1.0 in /DATA/souraviai/miniconda3/envs/tmp/lib/python3.8/site-packages (from lightning-flash[image]) (2.0.1)\n",
      "Requirement already satisfied: pystiche==1.* in /DATA/souraviai/miniconda3/envs/tmp/lib/python3.8/site-packages (from lightning-flash[image]) (1.0.1)\n",
      "Requirement already satisfied: albumentations>=1.0 in /DATA/souraviai/miniconda3/envs/tmp/lib/python3.8/site-packages (from lightning-flash[image]) (1.3.0)\n",
      "Requirement already satisfied: ftfy in /DATA/souraviai/miniconda3/envs/tmp/lib/python3.8/site-packages (from lightning-flash[image]) (6.1.1)\n",
      "Requirement already satisfied: segmentation-models-pytorch>=0.2.0 in /DATA/souraviai/miniconda3/envs/tmp/lib/python3.8/site-packages (from lightning-flash[image]) (0.3.2)\n",
      "Requirement already satisfied: lightning-bolts>=0.3.3 in /DATA/souraviai/miniconda3/envs/tmp/lib/python3.8/site-packages (from lightning-flash[image]) (0.6.0.post1)\n",
      "Requirement already satisfied: sahi<0.11 in /DATA/souraviai/miniconda3/envs/tmp/lib/python3.8/site-packages (from lightning-flash[image]) (0.10.8)\n",
      "Requirement already satisfied: timm>=0.4.5 in /DATA/souraviai/miniconda3/envs/tmp/lib/python3.8/site-packages (from lightning-flash[image]) (0.6.12)\n",
      "Requirement already satisfied: Pillow>=7.2 in /DATA/souraviai/miniconda3/envs/tmp/lib/python3.8/site-packages (from lightning-flash[image]) (9.5.0)\n",
      "Requirement already satisfied: torchvision in /DATA/souraviai/miniconda3/envs/tmp/lib/python3.8/site-packages (from lightning-flash[image]) (0.15.2)\n",
      "Requirement already satisfied: regex in /DATA/souraviai/miniconda3/envs/tmp/lib/python3.8/site-packages (from lightning-flash[image]) (2023.5.5)\n",
      "Requirement already satisfied: opencv-python-headless>=4.1.1 in /DATA/souraviai/miniconda3/envs/tmp/lib/python3.8/site-packages (from albumentations>=1.0->lightning-flash[image]) (4.7.0.72)\n",
      "Requirement already satisfied: qudida>=0.0.4 in /DATA/souraviai/miniconda3/envs/tmp/lib/python3.8/site-packages (from albumentations>=1.0->lightning-flash[image]) (0.0.4)\n",
      "Requirement already satisfied: scikit-image>=0.16.1 in /DATA/souraviai/miniconda3/envs/tmp/lib/python3.8/site-packages (from albumentations>=1.0->lightning-flash[image]) (0.20.0)\n",
      "Requirement already satisfied: scipy in /DATA/souraviai/miniconda3/envs/tmp/lib/python3.8/site-packages (from albumentations>=1.0->lightning-flash[image]) (1.9.1)\n",
      "Requirement already satisfied: requests in /DATA/souraviai/miniconda3/envs/tmp/lib/python3.8/site-packages (from fsspec[http]>2021.06.0->pytorch-lightning<1.9) (2.30.0)\n",
      "Requirement already satisfied: aiohttp!=4.0.0a0,!=4.0.0a1 in /DATA/souraviai/miniconda3/envs/tmp/lib/python3.8/site-packages (from fsspec[http]>2021.06.0->pytorch-lightning<1.9) (3.8.4)\n",
      "Requirement already satisfied: docstring-parser>=0.7.3 in /DATA/souraviai/miniconda3/envs/tmp/lib/python3.8/site-packages (from jsonargparse[signatures]<=4.9.0,>=3.17.0->lightning-flash[image]) (0.15)\n",
      "Requirement already satisfied: python-dateutil>=2.8.2 in /DATA/souraviai/miniconda3/envs/tmp/lib/python3.8/site-packages (from pandas>=1.1.0->lightning-flash[image]) (2.8.2)\n",
      "Requirement already satisfied: pytz>=2020.1 in /DATA/souraviai/miniconda3/envs/tmp/lib/python3.8/site-packages (from pandas>=1.1.0->lightning-flash[image]) (2023.3)\n",
      "Requirement already satisfied: tzdata>=2022.1 in /DATA/souraviai/miniconda3/envs/tmp/lib/python3.8/site-packages (from pandas>=1.1.0->lightning-flash[image]) (2023.3)\n",
      "Requirement already satisfied: fire in /DATA/souraviai/miniconda3/envs/tmp/lib/python3.8/site-packages (from sahi<0.11->lightning-flash[image]) (0.5.0)\n",
      "Requirement already satisfied: opencv-python>=4.2.0.32 in /DATA/souraviai/miniconda3/envs/tmp/lib/python3.8/site-packages (from sahi<0.11->lightning-flash[image]) (4.7.0.72)\n",
      "Requirement already satisfied: shapely>=1.8.0 in /DATA/souraviai/miniconda3/envs/tmp/lib/python3.8/site-packages (from sahi<0.11->lightning-flash[image]) (2.0.1)\n",
      "Requirement already satisfied: pybboxes==0.1.5 in /DATA/souraviai/miniconda3/envs/tmp/lib/python3.8/site-packages (from sahi<0.11->lightning-flash[image]) (0.1.5)\n",
      "Requirement already satisfied: terminaltables in /DATA/souraviai/miniconda3/envs/tmp/lib/python3.8/site-packages (from sahi<0.11->lightning-flash[image]) (3.1.10)\n",
      "Requirement already satisfied: pretrainedmodels==0.7.4 in /DATA/souraviai/miniconda3/envs/tmp/lib/python3.8/site-packages (from segmentation-models-pytorch>=0.2.0->lightning-flash[image]) (0.7.4)\n",
      "Requirement already satisfied: efficientnet-pytorch==0.7.1 in /DATA/souraviai/miniconda3/envs/tmp/lib/python3.8/site-packages (from segmentation-models-pytorch>=0.2.0->lightning-flash[image]) (0.7.1)\n",
      "Requirement already satisfied: huggingface-hub in /DATA/souraviai/miniconda3/envs/tmp/lib/python3.8/site-packages (from timm>=0.4.5->lightning-flash[image]) (0.14.1)\n",
      "Requirement already satisfied: munch in /DATA/souraviai/miniconda3/envs/tmp/lib/python3.8/site-packages (from pretrainedmodels==0.7.4->segmentation-models-pytorch>=0.2.0->lightning-flash[image]) (3.0.0)\n",
      "Requirement already satisfied: sympy in /DATA/souraviai/miniconda3/envs/tmp/lib/python3.8/site-packages (from torch>=1.9.0->pytorch-lightning<1.9) (1.12)\n",
      "Requirement already satisfied: nvidia-cusolver-cu11==11.4.0.1 in /DATA/souraviai/miniconda3/envs/tmp/lib/python3.8/site-packages (from torch>=1.9.0->pytorch-lightning<1.9) (11.4.0.1)\n",
      "Requirement already satisfied: nvidia-cuda-nvrtc-cu11==11.7.99 in /DATA/souraviai/miniconda3/envs/tmp/lib/python3.8/site-packages (from torch>=1.9.0->pytorch-lightning<1.9) (11.7.99)\n",
      "Requirement already satisfied: nvidia-cuda-runtime-cu11==11.7.99 in /DATA/souraviai/miniconda3/envs/tmp/lib/python3.8/site-packages (from torch>=1.9.0->pytorch-lightning<1.9) (11.7.99)\n",
      "Requirement already satisfied: nvidia-cudnn-cu11==8.5.0.96 in /DATA/souraviai/miniconda3/envs/tmp/lib/python3.8/site-packages (from torch>=1.9.0->pytorch-lightning<1.9) (8.5.0.96)\n",
      "Requirement already satisfied: filelock in /DATA/souraviai/miniconda3/envs/tmp/lib/python3.8/site-packages (from torch>=1.9.0->pytorch-lightning<1.9) (3.12.0)\n",
      "Requirement already satisfied: jinja2 in /DATA/souraviai/miniconda3/envs/tmp/lib/python3.8/site-packages (from torch>=1.9.0->pytorch-lightning<1.9) (3.1.2)\n",
      "Requirement already satisfied: nvidia-cublas-cu11==11.10.3.66 in /DATA/souraviai/miniconda3/envs/tmp/lib/python3.8/site-packages (from torch>=1.9.0->pytorch-lightning<1.9) (11.10.3.66)\n",
      "Requirement already satisfied: nvidia-nvtx-cu11==11.7.91 in /DATA/souraviai/miniconda3/envs/tmp/lib/python3.8/site-packages (from torch>=1.9.0->pytorch-lightning<1.9) (11.7.91)\n",
      "Requirement already satisfied: nvidia-cusparse-cu11==11.7.4.91 in /DATA/souraviai/miniconda3/envs/tmp/lib/python3.8/site-packages (from torch>=1.9.0->pytorch-lightning<1.9) (11.7.4.91)\n",
      "Requirement already satisfied: nvidia-curand-cu11==10.2.10.91 in /DATA/souraviai/miniconda3/envs/tmp/lib/python3.8/site-packages (from torch>=1.9.0->pytorch-lightning<1.9) (10.2.10.91)\n",
      "Requirement already satisfied: nvidia-nccl-cu11==2.14.3 in /DATA/souraviai/miniconda3/envs/tmp/lib/python3.8/site-packages (from torch>=1.9.0->pytorch-lightning<1.9) (2.14.3)\n",
      "Requirement already satisfied: triton==2.0.0 in /DATA/souraviai/miniconda3/envs/tmp/lib/python3.8/site-packages (from torch>=1.9.0->pytorch-lightning<1.9) (2.0.0)\n",
      "Requirement already satisfied: nvidia-cuda-cupti-cu11==11.7.101 in /DATA/souraviai/miniconda3/envs/tmp/lib/python3.8/site-packages (from torch>=1.9.0->pytorch-lightning<1.9) (11.7.101)\n",
      "Requirement already satisfied: nvidia-cufft-cu11==10.9.0.58 in /DATA/souraviai/miniconda3/envs/tmp/lib/python3.8/site-packages (from torch>=1.9.0->pytorch-lightning<1.9) (10.9.0.58)\n",
      "Requirement already satisfied: networkx in /DATA/souraviai/miniconda3/envs/tmp/lib/python3.8/site-packages (from torch>=1.9.0->pytorch-lightning<1.9) (3.1)\n",
      "Requirement already satisfied: wheel in /DATA/souraviai/miniconda3/envs/tmp/lib/python3.8/site-packages (from nvidia-cublas-cu11==11.10.3.66->torch>=1.9.0->pytorch-lightning<1.9) (0.38.4)\n",
      "Requirement already satisfied: cmake in /DATA/souraviai/miniconda3/envs/tmp/lib/python3.8/site-packages (from triton==2.0.0->torch>=1.9.0->pytorch-lightning<1.9) (3.26.3)\n",
      "Requirement already satisfied: lit in /DATA/souraviai/miniconda3/envs/tmp/lib/python3.8/site-packages (from triton==2.0.0->torch>=1.9.0->pytorch-lightning<1.9) (16.0.5)\n",
      "Requirement already satisfied: wcwidth>=0.2.5 in /DATA/souraviai/miniconda3/envs/tmp/lib/python3.8/site-packages (from ftfy->lightning-flash[image]) (0.2.6)\n",
      "Requirement already satisfied: frozenlist>=1.1.1 in /DATA/souraviai/miniconda3/envs/tmp/lib/python3.8/site-packages (from aiohttp!=4.0.0a0,!=4.0.0a1->fsspec[http]>2021.06.0->pytorch-lightning<1.9) (1.3.3)\n",
      "Requirement already satisfied: aiosignal>=1.1.2 in /DATA/souraviai/miniconda3/envs/tmp/lib/python3.8/site-packages (from aiohttp!=4.0.0a0,!=4.0.0a1->fsspec[http]>2021.06.0->pytorch-lightning<1.9) (1.3.1)\n",
      "Requirement already satisfied: async-timeout<5.0,>=4.0.0a3 in /DATA/souraviai/miniconda3/envs/tmp/lib/python3.8/site-packages (from aiohttp!=4.0.0a0,!=4.0.0a1->fsspec[http]>2021.06.0->pytorch-lightning<1.9) (4.0.2)\n",
      "Requirement already satisfied: multidict<7.0,>=4.5 in /DATA/souraviai/miniconda3/envs/tmp/lib/python3.8/site-packages (from aiohttp!=4.0.0a0,!=4.0.0a1->fsspec[http]>2021.06.0->pytorch-lightning<1.9) (6.0.4)\n",
      "Requirement already satisfied: charset-normalizer<4.0,>=2.0 in /DATA/souraviai/miniconda3/envs/tmp/lib/python3.8/site-packages (from aiohttp!=4.0.0a0,!=4.0.0a1->fsspec[http]>2021.06.0->pytorch-lightning<1.9) (3.1.0)\n",
      "Requirement already satisfied: attrs>=17.3.0 in /DATA/souraviai/miniconda3/envs/tmp/lib/python3.8/site-packages (from aiohttp!=4.0.0a0,!=4.0.0a1->fsspec[http]>2021.06.0->pytorch-lightning<1.9) (23.1.0)\n",
      "Requirement already satisfied: yarl<2.0,>=1.0 in /DATA/souraviai/miniconda3/envs/tmp/lib/python3.8/site-packages (from aiohttp!=4.0.0a0,!=4.0.0a1->fsspec[http]>2021.06.0->pytorch-lightning<1.9) (1.9.2)\n",
      "Requirement already satisfied: six>=1.5 in /DATA/souraviai/miniconda3/envs/tmp/lib/python3.8/site-packages (from python-dateutil>=2.8.2->pandas>=1.1.0->lightning-flash[image]) (1.16.0)\n",
      "Requirement already satisfied: scikit-learn>=0.19.1 in /DATA/souraviai/miniconda3/envs/tmp/lib/python3.8/site-packages (from qudida>=0.0.4->albumentations>=1.0->lightning-flash[image]) (1.2.2)\n",
      "Requirement already satisfied: tifffile>=2019.7.26 in /DATA/souraviai/miniconda3/envs/tmp/lib/python3.8/site-packages (from scikit-image>=0.16.1->albumentations>=1.0->lightning-flash[image]) (2023.4.12)\n",
      "Requirement already satisfied: lazy_loader>=0.1 in /DATA/souraviai/miniconda3/envs/tmp/lib/python3.8/site-packages (from scikit-image>=0.16.1->albumentations>=1.0->lightning-flash[image]) (0.2)\n",
      "Requirement already satisfied: PyWavelets>=1.1.1 in /DATA/souraviai/miniconda3/envs/tmp/lib/python3.8/site-packages (from scikit-image>=0.16.1->albumentations>=1.0->lightning-flash[image]) (1.4.1)\n",
      "Requirement already satisfied: imageio>=2.4.1 in /DATA/souraviai/miniconda3/envs/tmp/lib/python3.8/site-packages (from scikit-image>=0.16.1->albumentations>=1.0->lightning-flash[image]) (2.28.1)\n",
      "Requirement already satisfied: termcolor in /DATA/souraviai/miniconda3/envs/tmp/lib/python3.8/site-packages (from fire->sahi<0.11->lightning-flash[image]) (2.3.0)\n",
      "Requirement already satisfied: MarkupSafe>=2.0 in /DATA/souraviai/miniconda3/envs/tmp/lib/python3.8/site-packages (from jinja2->torch>=1.9.0->pytorch-lightning<1.9) (2.1.2)\n",
      "Requirement already satisfied: urllib3<3,>=1.21.1 in /DATA/souraviai/miniconda3/envs/tmp/lib/python3.8/site-packages (from requests->fsspec[http]>2021.06.0->pytorch-lightning<1.9) (2.0.2)\n",
      "Requirement already satisfied: certifi>=2017.4.17 in /DATA/souraviai/miniconda3/envs/tmp/lib/python3.8/site-packages (from requests->fsspec[http]>2021.06.0->pytorch-lightning<1.9) (2023.5.7)\n",
      "Requirement already satisfied: idna<4,>=2.5 in /DATA/souraviai/miniconda3/envs/tmp/lib/python3.8/site-packages (from requests->fsspec[http]>2021.06.0->pytorch-lightning<1.9) (3.4)\n",
      "Requirement already satisfied: mpmath>=0.19 in /DATA/souraviai/miniconda3/envs/tmp/lib/python3.8/site-packages (from sympy->torch>=1.9.0->pytorch-lightning<1.9) (1.3.0)\n",
      "Requirement already satisfied: threadpoolctl>=2.0.0 in /DATA/souraviai/miniconda3/envs/tmp/lib/python3.8/site-packages (from scikit-learn>=0.19.1->qudida>=0.0.4->albumentations>=1.0->lightning-flash[image]) (3.1.0)\n",
      "Requirement already satisfied: joblib>=1.1.1 in /DATA/souraviai/miniconda3/envs/tmp/lib/python3.8/site-packages (from scikit-learn>=0.19.1->qudida>=0.0.4->albumentations>=1.0->lightning-flash[image]) (1.2.0)\n",
      "Note: you may need to restart the kernel to use updated packages.\n"
     ]
    }
   ],
   "source": [
    "%pip install torch torchvision\n",
    "%pip install jupyter ipywidgets\n",
    "%pip install \"pytorch-lightning <1.9\" lightning-flash[image]"
   ]
  },
  {
   "cell_type": "code",
   "execution_count": 2,
   "metadata": {},
   "outputs": [
    {
     "name": "stderr",
     "output_type": "stream",
     "text": [
      "/DATA/souraviai/miniconda3/envs/tmp/lib/python3.8/site-packages/pl_bolts/callbacks/data_monitor.py:20: UnderReviewWarning: The feature warn_missing_pkg is currently marked under review. The compatibility with other Lightning projects is not guaranteed and API may change at any time. The API and functionality may change without warning in future releases. More details: https://lightning-bolts.readthedocs.io/en/latest/stability.html\n",
      "  warn_missing_pkg(\"wandb\")\n",
      "/DATA/souraviai/miniconda3/envs/tmp/lib/python3.8/site-packages/pl_bolts/models/self_supervised/amdim/amdim_module.py:35: UnderReviewWarning: The feature generate_power_seq is currently marked under review. The compatibility with other Lightning projects is not guaranteed and API may change at any time. The API and functionality may change without warning in future releases. More details: https://lightning-bolts.readthedocs.io/en/latest/stability.html\n",
      "  \"lr_options\": generate_power_seq(LEARNING_RATE_CIFAR, 11),\n",
      "/DATA/souraviai/miniconda3/envs/tmp/lib/python3.8/site-packages/pl_bolts/models/self_supervised/amdim/amdim_module.py:93: UnderReviewWarning: The feature FeatureMapContrastiveTask is currently marked under review. The compatibility with other Lightning projects is not guaranteed and API may change at any time. The API and functionality may change without warning in future releases. More details: https://lightning-bolts.readthedocs.io/en/latest/stability.html\n",
      "  contrastive_task: Union[FeatureMapContrastiveTask] = FeatureMapContrastiveTask(\"01, 02, 11\"),\n",
      "/DATA/souraviai/miniconda3/envs/tmp/lib/python3.8/site-packages/pl_bolts/losses/self_supervised_learning.py:234: UnderReviewWarning: The feature AmdimNCELoss is currently marked under review. The compatibility with other Lightning projects is not guaranteed and API may change at any time. The API and functionality may change without warning in future releases. More details: https://lightning-bolts.readthedocs.io/en/latest/stability.html\n",
      "  self.nce_loss = AmdimNCELoss(tclip)\n"
     ]
    }
   ],
   "source": [
    "from pytorch_lightning import seed_everything\n",
    "\n",
    "import flash\n",
    "from flash.core.classification import LabelsOutput\n",
    "from flash.core.data.utils import download_data\n",
    "from flash.image import ImageClassificationData, ImageClassifier\n",
    "\n",
    "from flash.core.data.transforms import ApplyToKeys\n",
    "from flash.core.data.io.input_transform import InputTransform\n",
    "from dataclasses import dataclass\n",
    "from torch.utils.data import Subset\n",
    "from torchvision import datasets, transforms\n",
    "from random import shuffle\n",
    "import torch\n",
    "from tqdm.notebook import tqdm\n",
    "from torchmetrics import Recall, F1Score"
   ]
  },
  {
   "cell_type": "code",
   "execution_count": 3,
   "metadata": {},
   "outputs": [
    {
     "name": "stderr",
     "output_type": "stream",
     "text": [
      "Global seed set to 42\n"
     ]
    },
    {
     "name": "stdout",
     "output_type": "stream",
     "text": [
      "Dataset SUN397\n",
      "    Number of datapoints: 108754\n",
      "    Root location: ./data\n"
     ]
    },
    {
     "data": {
      "application/vnd.jupyter.widget-view+json": {
       "model_id": "80a014ece5834890b98407c63b9debd6",
       "version_major": 2,
       "version_minor": 0
      },
      "text/plain": [
       "0it [00:00, ?it/s]"
      ]
     },
     "metadata": {},
     "output_type": "display_data"
    },
    {
     "data": {
      "application/vnd.jupyter.widget-view+json": {
       "model_id": "a5eaa84f4b7f49efaa705742419a5234",
       "version_major": 2,
       "version_minor": 0
      },
      "text/plain": [
       "  0%|          | 0/397 [00:00<?, ?it/s]"
      ]
     },
     "metadata": {},
     "output_type": "display_data"
    }
   ],
   "source": [
    "# set the random seeds.\n",
    "seed_everything(42)\n",
    "\n",
    "# 1. Download and organize the data\n",
    "# download_data(\"https://pl-flash-data.s3.amazonaws.com/hymenoptera_data.zip\", \"data/\")\n",
    "\n",
    "ds = datasets.SUN397(\n",
    "    root='./data', \n",
    ")\n",
    "print(ds)\n",
    "\n",
    "s = [[] for _ in ds.classes]\n",
    "for i, label in tqdm(enumerate(ds._labels)):\n",
    "    s[label].append(i)\n",
    "\n",
    "idxs = {\"train\": [], \"val\": [], \"test\": []}\n",
    "for idx_list in tqdm(s):\n",
    "    shuffle(idx_list)\n",
    "    idxs[\"val\"].extend(idx_list[:10])\n",
    "    idxs[\"test\"].extend(idx_list[10:10 + 40])\n",
    "    idxs[\"train\"].extend(idx_list[50:])\n",
    "# print(idxs)"
   ]
  },
  {
   "cell_type": "code",
   "execution_count": 4,
   "metadata": {},
   "outputs": [],
   "source": [
    "from typing import Tuple\n",
    "\n",
    "\n",
    "@dataclass\n",
    "class ImageClassificationInputTransform(InputTransform):\n",
    "    image_size: Tuple[int, int] = (32, 32)\n",
    "    # mean: Union[float, Tuple[float, float, float]] = (0.485, 0.456, 0.406)\n",
    "    # std: Union[float, Tuple[float, float, float]] = (0.229, 0.224, 0.225)\n",
    "\n",
    "    def per_sample_transform(self):\n",
    "        return transforms.Compose(\n",
    "            [\n",
    "                ApplyToKeys(\n",
    "                    \"input\",\n",
    "                    transforms.Compose(\n",
    "                        [\n",
    "                            transforms.ToTensor(), \n",
    "                            # transforms.Normalize(self.mean, self.std)\n",
    "                        ]\n",
    "                    ),\n",
    "                ),\n",
    "                ApplyToKeys(\"target\", torch.as_tensor),\n",
    "            ]\n",
    "        )\n",
    "\n",
    "    def train_per_sample_transform(self):\n",
    "        return transforms.Compose(\n",
    "            [\n",
    "                ApplyToKeys(\n",
    "                    \"input\",\n",
    "                    transforms.Compose(\n",
    "                        [\n",
    "                            transforms.RandomResizedCrop(self.image_size),\n",
    "                            transforms.RandomHorizontalFlip(),\n",
    "                            transforms.ToTensor(),\n",
    "                            # transforms.Normalize(self.mean, self.std),\n",
    "                        ]\n",
    "                    ),\n",
    "                ),\n",
    "                ApplyToKeys(\"target\", torch.as_tensor),\n",
    "            ]\n",
    "        )"
   ]
  },
  {
   "cell_type": "code",
   "execution_count": 5,
   "metadata": {},
   "outputs": [
    {
     "name": "stderr",
     "output_type": "stream",
     "text": [
      "/DATA/souraviai/miniconda3/envs/tmp/lib/python3.8/site-packages/pytorch_lightning/utilities/apply_func.py:31: LightningDeprecationWarning: `pytorch_lightning.utilities.apply_func.apply_to_collection` has been deprecated in v1.8.0 and will be removed in v1.10.0. Please use `lightning_utilities.core.apply_func.apply_to_collection` instead.\n",
      "  rank_zero_deprecation(\n"
     ]
    },
    {
     "ename": "ModuleNotFoundError",
     "evalue": "Required dependencies not available. Please run: pip install 'lightning-flash[image]'",
     "output_type": "error",
     "traceback": [
      "\u001b[0;31m---------------------------------------------------------------------------\u001b[0m",
      "\u001b[0;31mModuleNotFoundError\u001b[0m                       Traceback (most recent call last)",
      "\u001b[1;32m/DATA1/souraviai/M2m/nb.ipynb Cell 6\u001b[0m in \u001b[0;36m<cell line: 11>\u001b[0;34m()\u001b[0m\n\u001b[1;32m      <a href='vscode-notebook-cell://ssh-remote%2B10.50.20.10/DATA1/souraviai/M2m/nb.ipynb#X30sdnNjb2RlLXJlbW90ZQ%3D%3D?line=0'>1</a>\u001b[0m datamodule \u001b[39m=\u001b[39m ImageClassificationData\u001b[39m.\u001b[39mfrom_datasets(\n\u001b[1;32m      <a href='vscode-notebook-cell://ssh-remote%2B10.50.20.10/DATA1/souraviai/M2m/nb.ipynb#X30sdnNjb2RlLXJlbW90ZQ%3D%3D?line=1'>2</a>\u001b[0m     train_dataset\u001b[39m=\u001b[39mSubset(ds, idxs[\u001b[39m\"\u001b[39m\u001b[39mtrain\u001b[39m\u001b[39m\"\u001b[39m]),\n\u001b[1;32m      <a href='vscode-notebook-cell://ssh-remote%2B10.50.20.10/DATA1/souraviai/M2m/nb.ipynb#X30sdnNjb2RlLXJlbW90ZQ%3D%3D?line=2'>3</a>\u001b[0m     val_dataset\u001b[39m=\u001b[39mSubset(ds, idxs[\u001b[39m\"\u001b[39m\u001b[39mval\u001b[39m\u001b[39m\"\u001b[39m]),\n\u001b[0;32m   (...)\u001b[0m\n\u001b[1;32m      <a href='vscode-notebook-cell://ssh-remote%2B10.50.20.10/DATA1/souraviai/M2m/nb.ipynb#X30sdnNjb2RlLXJlbW90ZQ%3D%3D?line=5'>6</a>\u001b[0m     transform\u001b[39m=\u001b[39mImageClassificationInputTransform(),\n\u001b[1;32m      <a href='vscode-notebook-cell://ssh-remote%2B10.50.20.10/DATA1/souraviai/M2m/nb.ipynb#X30sdnNjb2RlLXJlbW90ZQ%3D%3D?line=6'>7</a>\u001b[0m )\n\u001b[1;32m      <a href='vscode-notebook-cell://ssh-remote%2B10.50.20.10/DATA1/souraviai/M2m/nb.ipynb#X30sdnNjb2RlLXJlbW90ZQ%3D%3D?line=7'>8</a>\u001b[0m \u001b[39m# print(datamodule.num_classes)\u001b[39;00m\n\u001b[1;32m      <a href='vscode-notebook-cell://ssh-remote%2B10.50.20.10/DATA1/souraviai/M2m/nb.ipynb#X30sdnNjb2RlLXJlbW90ZQ%3D%3D?line=8'>9</a>\u001b[0m \n\u001b[1;32m     <a href='vscode-notebook-cell://ssh-remote%2B10.50.20.10/DATA1/souraviai/M2m/nb.ipynb#X30sdnNjb2RlLXJlbW90ZQ%3D%3D?line=9'>10</a>\u001b[0m \u001b[39m# 2. Build the model using desired Task\u001b[39;00m\n\u001b[0;32m---> <a href='vscode-notebook-cell://ssh-remote%2B10.50.20.10/DATA1/souraviai/M2m/nb.ipynb#X30sdnNjb2RlLXJlbW90ZQ%3D%3D?line=10'>11</a>\u001b[0m model \u001b[39m=\u001b[39m ImageClassifier(\n\u001b[1;32m     <a href='vscode-notebook-cell://ssh-remote%2B10.50.20.10/DATA1/souraviai/M2m/nb.ipynb#X30sdnNjb2RlLXJlbW90ZQ%3D%3D?line=11'>12</a>\u001b[0m     backbone\u001b[39m=\u001b[39;49m\u001b[39m\"\u001b[39;49m\u001b[39mresnet18\u001b[39;49m\u001b[39m\"\u001b[39;49m, \n\u001b[1;32m     <a href='vscode-notebook-cell://ssh-remote%2B10.50.20.10/DATA1/souraviai/M2m/nb.ipynb#X30sdnNjb2RlLXJlbW90ZQ%3D%3D?line=12'>13</a>\u001b[0m     num_classes\u001b[39m=\u001b[39;49m\u001b[39mlen\u001b[39;49m(s), \n\u001b[1;32m     <a href='vscode-notebook-cell://ssh-remote%2B10.50.20.10/DATA1/souraviai/M2m/nb.ipynb#X30sdnNjb2RlLXJlbW90ZQ%3D%3D?line=13'>14</a>\u001b[0m     pretrained\u001b[39m=\u001b[39;49m\u001b[39mFalse\u001b[39;49;00m,\n\u001b[1;32m     <a href='vscode-notebook-cell://ssh-remote%2B10.50.20.10/DATA1/souraviai/M2m/nb.ipynb#X30sdnNjb2RlLXJlbW90ZQ%3D%3D?line=14'>15</a>\u001b[0m     \u001b[39m# metrics=F1Score(task='multiclass', num_classes=len(s)),\u001b[39;49;00m\n\u001b[1;32m     <a href='vscode-notebook-cell://ssh-remote%2B10.50.20.10/DATA1/souraviai/M2m/nb.ipynb#X30sdnNjb2RlLXJlbW90ZQ%3D%3D?line=15'>16</a>\u001b[0m )\n\u001b[1;32m     <a href='vscode-notebook-cell://ssh-remote%2B10.50.20.10/DATA1/souraviai/M2m/nb.ipynb#X30sdnNjb2RlLXJlbW90ZQ%3D%3D?line=16'>17</a>\u001b[0m \u001b[39mprint\u001b[39m(model)\n\u001b[1;32m     <a href='vscode-notebook-cell://ssh-remote%2B10.50.20.10/DATA1/souraviai/M2m/nb.ipynb#X30sdnNjb2RlLXJlbW90ZQ%3D%3D?line=17'>18</a>\u001b[0m \u001b[39m# 3. Create the trainer (run one epoch for demo)\u001b[39;00m\n",
      "File \u001b[0;32m/DATA/souraviai/miniconda3/envs/tmp/lib/python3.8/site-packages/flash/core/utilities/imports.py:164\u001b[0m, in \u001b[0;36mrequires.<locals>.decorator.<locals>.wrapper\u001b[0;34m(*args, **kwargs)\u001b[0m\n\u001b[1;32m    162\u001b[0m \u001b[39m@functools\u001b[39m\u001b[39m.\u001b[39mwraps(func)\n\u001b[1;32m    163\u001b[0m \u001b[39mdef\u001b[39;00m \u001b[39mwrapper\u001b[39m(\u001b[39m*\u001b[39margs, \u001b[39m*\u001b[39m\u001b[39m*\u001b[39mkwargs):\n\u001b[0;32m--> 164\u001b[0m     \u001b[39mraise\u001b[39;00m \u001b[39mModuleNotFoundError\u001b[39;00m(\n\u001b[1;32m    165\u001b[0m         \u001b[39mf\u001b[39m\u001b[39m\"\u001b[39m\u001b[39mRequired dependencies not available. Please run: pip install \u001b[39m\u001b[39m{\u001b[39;00m\u001b[39m'\u001b[39m\u001b[39m \u001b[39m\u001b[39m'\u001b[39m\u001b[39m.\u001b[39mjoin(modules)\u001b[39m}\u001b[39;00m\u001b[39m\"\u001b[39m\n\u001b[1;32m    166\u001b[0m     )\n",
      "\u001b[0;31mModuleNotFoundError\u001b[0m: Required dependencies not available. Please run: pip install 'lightning-flash[image]'"
     ]
    }
   ],
   "source": [
    "datamodule = ImageClassificationData.from_datasets(\n",
    "    train_dataset=Subset(ds, idxs[\"train\"]),\n",
    "    val_dataset=Subset(ds, idxs[\"val\"]),\n",
    "    test_dataset=Subset(ds, idxs[\"test\"]),\n",
    "    batch_size=128,\n",
    "    transform=ImageClassificationInputTransform(),\n",
    ")\n",
    "# print(datamodule.num_classes)\n",
    "\n",
    "# 2. Build the model using desired Task\n",
    "model = ImageClassifier(\n",
    "    backbone=\"resnet18\", \n",
    "    num_classes=len(s), \n",
    "    pretrained=False,\n",
    "    # metrics=F1Score(task='multiclass', num_classes=len(s)),\n",
    ")\n",
    "print(model)\n",
    "# 3. Create the trainer (run one epoch for demo)\n",
    "trainer = flash.Trainer(max_epochs=1, accelerator=\"gpu\", devices=torch.cuda.device_count())\n",
    "print(trainer)\n",
    "# 4. Train the model\n",
    "trainer.fit(model, datamodule=datamodule)\n",
    "\n",
    "# 5. Save the model!\n",
    "trainer.save_checkpoint(\"test/image_classification_model.pt\")"
   ]
  },
  {
   "cell_type": "code",
   "execution_count": 1,
   "metadata": {},
   "outputs": [
    {
     "name": "stdout",
     "output_type": "stream",
     "text": [
      "lightning-bolts==0.6.0.post1\n",
      "lightning-flash==0.8.1.post0\n",
      "lightning-utilities==0.8.0\n",
      "pytorch-lightning==1.8.6\n",
      "Note: you may need to restart the kernel to use updated packages.\n"
     ]
    }
   ],
   "source": [
    "%pip freeze | grep lightning"
   ]
  },
  {
   "attachments": {},
   "cell_type": "markdown",
   "metadata": {},
   "source": [
    "# Testing"
   ]
  },
  {
   "cell_type": "code",
   "execution_count": 2,
   "metadata": {},
   "outputs": [],
   "source": [
    "import torch "
   ]
  },
  {
   "cell_type": "code",
   "execution_count": 3,
   "metadata": {},
   "outputs": [
    {
     "data": {
      "text/plain": [
       "2"
      ]
     },
     "execution_count": 3,
     "metadata": {},
     "output_type": "execute_result"
    }
   ],
   "source": [
    "torch.cuda.device_count()"
   ]
  },
  {
   "cell_type": "code",
   "execution_count": null,
   "metadata": {},
   "outputs": [],
   "source": [
    "%conda install imbalanced-learn"
   ]
  },
  {
   "cell_type": "code",
   "execution_count": null,
   "metadata": {},
   "outputs": [],
   "source": [
    "from imblearn.metrics import geometric_mean_score, sensitivity_score"
   ]
  },
  {
   "cell_type": "code",
   "execution_count": null,
   "metadata": {},
   "outputs": [],
   "source": [
    "import numpy as np\n",
    "\n",
    "\n",
    "y = np.random.randint(10, size=500)\n",
    "pred = np.random.randint(10, size=500)\n",
    "# print(y)\n",
    "# print(pred)\n",
    "tmp1 = sensitivity_score(y, pred, average=None)\n",
    "print(tmp1)\n",
    "tmp2 = geometric_mean_score(y, pred)\n",
    "print(tmp2)"
   ]
  },
  {
   "cell_type": "code",
   "execution_count": null,
   "metadata": {},
   "outputs": [],
   "source": [
    "acc = np.load(\"./logs/Imbalance_S320_M2m_L0.5_W160_E0.1_I10_svhn_R60_resnet32_G0.9_B0.999/classwise_acc.npy\")\n",
    "r =1 \n",
    "for i in acc**(1/len(acc)):\n",
    "    r *= i\n",
    "\n",
    "print(r)"
   ]
  },
  {
   "cell_type": "code",
   "execution_count": null,
   "metadata": {},
   "outputs": [],
   "source": [
    "acc.mean()"
   ]
  },
  {
   "cell_type": "code",
   "execution_count": 59,
   "metadata": {},
   "outputs": [],
   "source": [
    "from torchvision import datasets, transforms\n",
    "from utils import get_mean_and_std\n",
    "from torch.utils.data import DataLoader\n",
    "\n",
    "data = datasets.SUN397(\n",
    "    root='./data', \n",
    "    # split='train',\n",
    "    transform=transforms.Compose(\n",
    "        [\n",
    "            transforms.ToTensor(),\n",
    "\n",
    "        ]\n",
    "    )\n",
    ")\n",
    "\n",
    "# dataloader = DataLoader(\n",
    "#     data, \n",
    "#     batch_size=1, \n",
    "#     # shuffle=True, \n",
    "#     num_workers=2\n",
    "# )\n",
    "\n",
    "# m, s = get_mean_and_std(data)\n",
    "# print(m)\n",
    "# print(s)\n",
    "# data = data.data / 255 # data is numpy array\n",
    "\n",
    "# print(np.round(data.mean(axis = (0,2,3)), 4))\n",
    "# print(np.round(data.std(axis = (0,2,3)), 4))"
   ]
  },
  {
   "cell_type": "code",
   "execution_count": 2,
   "metadata": {},
   "outputs": [],
   "source": [
    "from torchvision import datasets"
   ]
  },
  {
   "cell_type": "code",
   "execution_count": null,
   "metadata": {},
   "outputs": [
    {
     "name": "stdout",
     "output_type": "stream",
     "text": [
      "SUN397\n"
     ]
    }
   ],
   "source": [
    "from fuzzywuzzy import process\n",
    "print(process.extractOne('sun37'.lower(), datasets.__all__, lambda x: x.lower())[0])"
   ]
  },
  {
   "cell_type": "code",
   "execution_count": 2,
   "metadata": {},
   "outputs": [
    {
     "name": "stdout",
     "output_type": "stream",
     "text": [
      "Number of CPU cores: 24\n"
     ]
    }
   ],
   "source": [
    "import multiprocessing\n",
    "\n",
    "num_cores = multiprocessing.cpu_count()\n",
    "print(\"Number of CPU cores:\", num_cores)"
   ]
  }
 ],
 "metadata": {
  "kernelspec": {
   "display_name": "M2m",
   "language": "python",
   "name": "python3"
  },
  "language_info": {
   "codemirror_mode": {
    "name": "ipython",
    "version": 3
   },
   "file_extension": ".py",
   "mimetype": "text/x-python",
   "name": "python",
   "nbconvert_exporter": "python",
   "pygments_lexer": "ipython3",
   "version": "3.8.16"
  },
  "orig_nbformat": 4
 },
 "nbformat": 4,
 "nbformat_minor": 2
}
