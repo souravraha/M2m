{
 "cells": [
  {
   "cell_type": "code",
   "execution_count": 1,
   "metadata": {},
   "outputs": [],
   "source": [
    "import numpy as np"
   ]
  },
  {
   "cell_type": "code",
   "execution_count": null,
   "metadata": {},
   "outputs": [],
   "source": []
  },
  {
   "cell_type": "code",
   "execution_count": 2,
   "metadata": {},
   "outputs": [
    {
     "name": "stdout",
     "output_type": "stream",
     "text": [
      "Collecting package metadata (current_repodata.json): done\n",
      "Solving environment: done\n",
      "\n",
      "## Package Plan ##\n",
      "\n",
      "  environment location: /DATA/souraviai/miniconda3/envs/M2m\n",
      "\n",
      "  added / updated specs:\n",
      "    - imbalanced-learn\n",
      "\n",
      "\n",
      "The following packages will be downloaded:\n",
      "\n",
      "    package                    |            build\n",
      "    ---------------------------|-----------------\n",
      "    imbalanced-learn-0.10.1    |   py38h06a4308_0         277 KB\n",
      "    joblib-1.1.1               |   py38h06a4308_0         382 KB\n",
      "    scikit-learn-1.2.2         |   py38h6a678d5_0         7.7 MB\n",
      "    threadpoolctl-2.2.0        |     pyh0d69192_0          16 KB\n",
      "    ------------------------------------------------------------\n",
      "                                           Total:         8.4 MB\n",
      "\n",
      "The following NEW packages will be INSTALLED:\n",
      "\n",
      "  imbalanced-learn   pkgs/main/linux-64::imbalanced-learn-0.10.1-py38h06a4308_0 \n",
      "  joblib             pkgs/main/linux-64::joblib-1.1.1-py38h06a4308_0 \n",
      "  scikit-learn       pkgs/main/linux-64::scikit-learn-1.2.2-py38h6a678d5_0 \n",
      "  threadpoolctl      pkgs/main/noarch::threadpoolctl-2.2.0-pyh0d69192_0 \n",
      "\n",
      "The following packages will be UPDATED:\n",
      "\n",
      "  ca-certificates    conda-forge::ca-certificates-2022.12.~ --> pkgs/main::ca-certificates-2023.01.10-h06a4308_0 \n",
      "\n",
      "The following packages will be SUPERSEDED by a higher-priority channel:\n",
      "\n",
      "  certifi            conda-forge/noarch::certifi-2022.12.7~ --> pkgs/main/linux-64::certifi-2022.12.7-py38h06a4308_0 \n",
      "\n",
      "\n",
      "\n",
      "Downloading and Extracting Packages\n",
      "threadpoolctl-2.2.0  | 16 KB     |                                       |   0% \n",
      "joblib-1.1.1         | 382 KB    |                                       |   0% \u001b[A\n",
      "\n",
      "scikit-learn-1.2.2   | 7.7 MB    |                                       |   0% \u001b[A\u001b[A\n",
      "\n",
      "\n",
      "imbalanced-learn-0.1 | 277 KB    |                                       |   0% \u001b[A\u001b[A\u001b[A\n",
      "\n",
      "\n",
      "imbalanced-learn-0.1 | 277 KB    | ##1                                   |   6% \u001b[A\u001b[A\u001b[A\n",
      "\n",
      "threadpoolctl-2.2.0  | 16 KB     | ##################################### | 100% \u001b[A\u001b[A\n",
      "joblib-1.1.1         | 382 KB    | #5                                    |   4% \u001b[A\n",
      "\n",
      "scikit-learn-1.2.2   | 7.7 MB    | 7                                     |   2% \u001b[A\u001b[A\n",
      "\n",
      "\n",
      "imbalanced-learn-0.1 | 277 KB    | #######################5              |  64% \u001b[A\u001b[A\u001b[A\n",
      "joblib-1.1.1         | 382 KB    | ###############5                      |  42% \u001b[A\n",
      "\n",
      "scikit-learn-1.2.2   | 7.7 MB    | ##6                                   |   7% \u001b[A\u001b[A\n",
      "\n",
      "\n",
      "imbalanced-learn-0.1 | 277 KB    | ##################################### | 100% \u001b[A\u001b[A\u001b[A\n",
      "\n",
      "\n",
      "imbalanced-learn-0.1 | 277 KB    | ##################################### | 100% \u001b[A\u001b[A\u001b[A\n",
      "joblib-1.1.1         | 382 KB    | ##################################### | 100% \u001b[A\n",
      "joblib-1.1.1         | 382 KB    | ##################################### | 100% \u001b[A\n",
      "\n",
      "scikit-learn-1.2.2   | 7.7 MB    | #####1                                |  14% \u001b[A\u001b[A\n",
      "\n",
      "scikit-learn-1.2.2   | 7.7 MB    | #######4                              |  20% \u001b[A\u001b[A\n",
      "\n",
      "scikit-learn-1.2.2   | 7.7 MB    | #########7                            |  26% \u001b[A\u001b[A\n",
      "\n",
      "scikit-learn-1.2.2   | 7.7 MB    | ############1                         |  33% \u001b[A\u001b[A\n",
      "\n",
      "scikit-learn-1.2.2   | 7.7 MB    | ##############5                       |  39% \u001b[A\u001b[A\n",
      "\n",
      "scikit-learn-1.2.2   | 7.7 MB    | #################                     |  46% \u001b[A\u001b[A\n",
      "\n",
      "scikit-learn-1.2.2   | 7.7 MB    | ###################3                  |  52% \u001b[A\u001b[A\n",
      "\n",
      "scikit-learn-1.2.2   | 7.7 MB    | #####################7                |  59% \u001b[A\u001b[A\n",
      "\n",
      "scikit-learn-1.2.2   | 7.7 MB    | ########################1             |  65% \u001b[A\u001b[A\n",
      "\n",
      "scikit-learn-1.2.2   | 7.7 MB    | ##########################5           |  72% \u001b[A\u001b[A\n",
      "\n",
      "scikit-learn-1.2.2   | 7.7 MB    | ############################9         |  78% \u001b[A\u001b[A\n",
      "\n",
      "scikit-learn-1.2.2   | 7.7 MB    | ###############################3      |  85% \u001b[A\u001b[A\n",
      "\n",
      "scikit-learn-1.2.2   | 7.7 MB    | #################################7    |  91% \u001b[A\u001b[A\n",
      "\n",
      "scikit-learn-1.2.2   | 7.7 MB    | ####################################1 |  98% \u001b[A\u001b[A\n",
      "\n",
      "                                                                                \u001b[A\u001b[A\n",
      "                                                                                \u001b[A\n",
      "\n",
      "                                                                                \u001b[A\u001b[A\n",
      "\n",
      "\n",
      "                                                                                \u001b[A\u001b[A\u001b[A\n",
      "Preparing transaction: done\n",
      "Verifying transaction: done\n",
      "Executing transaction: | \n",
      "\n",
      "    Installed package of scikit-learn can be accelerated using scikit-learn-intelex.\n",
      "    More details are available here: https://intel.github.io/scikit-learn-intelex\n",
      "\n",
      "    For example:\n",
      "\n",
      "        $ conda install scikit-learn-intelex\n",
      "        $ python -m sklearnex my_application.py\n",
      "\n",
      "    \n",
      "\n",
      "done\n",
      "\n",
      "Note: you may need to restart the kernel to use updated packages.\n"
     ]
    }
   ],
   "source": [
    "%conda install imbalanced-learn"
   ]
  },
  {
   "cell_type": "code",
   "execution_count": 2,
   "metadata": {},
   "outputs": [],
   "source": [
    "from imblearn.metrics import geometric_mean_score, sensitivity_score"
   ]
  },
  {
   "cell_type": "code",
   "execution_count": 42,
   "metadata": {},
   "outputs": [
    {
     "name": "stdout",
     "output_type": "stream",
     "text": [
      "[0.12195122 0.14       0.08695652 0.1        0.11538462 0.12765957\n",
      " 0.18367347 0.16129032 0.04       0.04761905]\n",
      "0.1021248208908909\n"
     ]
    }
   ],
   "source": [
    "y = np.random.randint(10, size=500)\n",
    "pred = np.random.randint(10, size=500)\n",
    "# print(y)\n",
    "# print(pred)\n",
    "tmp1 = sensitivity_score(y, pred, average=None)\n",
    "print(tmp1)\n",
    "tmp2 = geometric_mean_score(y, pred)\n",
    "print(tmp2)"
   ]
  },
  {
   "cell_type": "code",
   "execution_count": 4,
   "metadata": {},
   "outputs": [
    {
     "name": "stdout",
     "output_type": "stream",
     "text": [
      "87.03538221022691\n"
     ]
    }
   ],
   "source": [
    "acc = np.load(\"./logs/Imbalance_S320_M2m_L0.5_W160_E0.1_I10_svhn_R60_resnet32_G0.9_B0.999/classwise_acc.npy\")\n",
    "r =1 \n",
    "for i in acc**(1/len(acc)):\n",
    "    r *= i\n",
    "\n",
    "print(r)"
   ]
  },
  {
   "cell_type": "code",
   "execution_count": 5,
   "metadata": {},
   "outputs": [
    {
     "data": {
      "text/plain": [
       "87.25714"
      ]
     },
     "execution_count": 5,
     "metadata": {},
     "output_type": "execute_result"
    }
   ],
   "source": [
    "acc.mean()"
   ]
  },
  {
   "cell_type": "code",
   "execution_count": 1,
   "metadata": {},
   "outputs": [
    {
     "ename": "RuntimeError",
     "evalue": "The daily quota of the file img_align_celeba.zip is exceeded and it can't be downloaded. This is a limitation of Google Drive and can only be overcome by trying again later.",
     "output_type": "error",
     "traceback": [
      "\u001b[0;31m---------------------------------------------------------------------------\u001b[0m",
      "\u001b[0;31mRuntimeError\u001b[0m                              Traceback (most recent call last)",
      "Cell \u001b[0;32mIn[1], line 3\u001b[0m\n\u001b[1;32m      1\u001b[0m \u001b[39mfrom\u001b[39;00m \u001b[39mtorchvision\u001b[39;00m \u001b[39mimport\u001b[39;00m datasets\n\u001b[0;32m----> 3\u001b[0m data \u001b[39m=\u001b[39m datasets\u001b[39m.\u001b[39;49mCelebA(root\u001b[39m=\u001b[39;49m\u001b[39m'\u001b[39;49m\u001b[39m./data\u001b[39;49m\u001b[39m'\u001b[39;49m, split\u001b[39m=\u001b[39;49m\u001b[39m'\u001b[39;49m\u001b[39mtrain\u001b[39;49m\u001b[39m'\u001b[39;49m, download\u001b[39m=\u001b[39;49m\u001b[39mTrue\u001b[39;49;00m)\n\u001b[1;32m      4\u001b[0m \u001b[39m# data = data.data / 255 # data is numpy array\u001b[39;00m\n\u001b[1;32m      5\u001b[0m \n\u001b[1;32m      6\u001b[0m \u001b[39m# mean = data.mean(axis = (0,2,3)) \u001b[39;00m\n\u001b[1;32m      7\u001b[0m \u001b[39m# std = data.std(axis = (0,2,3))\u001b[39;00m\n",
      "File \u001b[0;32m/DATA/souraviai/miniconda3/envs/M2m/lib/python3.8/site-packages/torchvision/datasets/celeba.py:80\u001b[0m, in \u001b[0;36mCelebA.__init__\u001b[0;34m(self, root, split, target_type, transform, target_transform, download)\u001b[0m\n\u001b[1;32m     77\u001b[0m     \u001b[39mraise\u001b[39;00m \u001b[39mRuntimeError\u001b[39;00m(\u001b[39m\"\u001b[39m\u001b[39mtarget_transform is specified but target_type is empty\u001b[39m\u001b[39m\"\u001b[39m)\n\u001b[1;32m     79\u001b[0m \u001b[39mif\u001b[39;00m download:\n\u001b[0;32m---> 80\u001b[0m     \u001b[39mself\u001b[39;49m\u001b[39m.\u001b[39;49mdownload()\n\u001b[1;32m     82\u001b[0m \u001b[39mif\u001b[39;00m \u001b[39mnot\u001b[39;00m \u001b[39mself\u001b[39m\u001b[39m.\u001b[39m_check_integrity():\n\u001b[1;32m     83\u001b[0m     \u001b[39mraise\u001b[39;00m \u001b[39mRuntimeError\u001b[39;00m(\u001b[39m\"\u001b[39m\u001b[39mDataset not found or corrupted. You can use download=True to download it\u001b[39m\u001b[39m\"\u001b[39m)\n",
      "File \u001b[0;32m/DATA/souraviai/miniconda3/envs/M2m/lib/python3.8/site-packages/torchvision/datasets/celeba.py:150\u001b[0m, in \u001b[0;36mCelebA.download\u001b[0;34m(self)\u001b[0m\n\u001b[1;32m    147\u001b[0m     \u001b[39mreturn\u001b[39;00m\n\u001b[1;32m    149\u001b[0m \u001b[39mfor\u001b[39;00m (file_id, md5, filename) \u001b[39min\u001b[39;00m \u001b[39mself\u001b[39m\u001b[39m.\u001b[39mfile_list:\n\u001b[0;32m--> 150\u001b[0m     download_file_from_google_drive(file_id, os\u001b[39m.\u001b[39;49mpath\u001b[39m.\u001b[39;49mjoin(\u001b[39mself\u001b[39;49m\u001b[39m.\u001b[39;49mroot, \u001b[39mself\u001b[39;49m\u001b[39m.\u001b[39;49mbase_folder), filename, md5)\n\u001b[1;32m    152\u001b[0m extract_archive(os\u001b[39m.\u001b[39mpath\u001b[39m.\u001b[39mjoin(\u001b[39mself\u001b[39m\u001b[39m.\u001b[39mroot, \u001b[39mself\u001b[39m\u001b[39m.\u001b[39mbase_folder, \u001b[39m\"\u001b[39m\u001b[39mimg_align_celeba.zip\u001b[39m\u001b[39m\"\u001b[39m))\n",
      "File \u001b[0;32m/DATA/souraviai/miniconda3/envs/M2m/lib/python3.8/site-packages/torchvision/datasets/utils.py:246\u001b[0m, in \u001b[0;36mdownload_file_from_google_drive\u001b[0;34m(file_id, root, filename, md5)\u001b[0m\n\u001b[1;32m    243\u001b[0m         api_response, content \u001b[39m=\u001b[39m _extract_gdrive_api_response(response)\n\u001b[1;32m    245\u001b[0m     \u001b[39mif\u001b[39;00m api_response \u001b[39m==\u001b[39m \u001b[39m\"\u001b[39m\u001b[39mQuota exceeded\u001b[39m\u001b[39m\"\u001b[39m:\n\u001b[0;32m--> 246\u001b[0m         \u001b[39mraise\u001b[39;00m \u001b[39mRuntimeError\u001b[39;00m(\n\u001b[1;32m    247\u001b[0m             \u001b[39mf\u001b[39m\u001b[39m\"\u001b[39m\u001b[39mThe daily quota of the file \u001b[39m\u001b[39m{\u001b[39;00mfilename\u001b[39m}\u001b[39;00m\u001b[39m is exceeded and it \u001b[39m\u001b[39m\"\u001b[39m\n\u001b[1;32m    248\u001b[0m             \u001b[39mf\u001b[39m\u001b[39m\"\u001b[39m\u001b[39mcan\u001b[39m\u001b[39m'\u001b[39m\u001b[39mt be downloaded. This is a limitation of Google Drive \u001b[39m\u001b[39m\"\u001b[39m\n\u001b[1;32m    249\u001b[0m             \u001b[39mf\u001b[39m\u001b[39m\"\u001b[39m\u001b[39mand can only be overcome by trying again later.\u001b[39m\u001b[39m\"\u001b[39m\n\u001b[1;32m    250\u001b[0m         )\n\u001b[1;32m    252\u001b[0m     _save_response_content(content, fpath)\n\u001b[1;32m    254\u001b[0m \u001b[39m# In case we deal with an unhandled GDrive API response, the file should be smaller than 10kB and contain only text\u001b[39;00m\n",
      "\u001b[0;31mRuntimeError\u001b[0m: The daily quota of the file img_align_celeba.zip is exceeded and it can't be downloaded. This is a limitation of Google Drive and can only be overcome by trying again later."
     ]
    }
   ],
   "source": [
    "from torchvision import datasets\n",
    "\n",
    "data = datasets.SUN397(root='./data', download=True)\n",
    "# data = data.data / 255 # data is numpy array\n",
    "\n",
    "# mean = data.mean(axis = (0,2,3)) \n",
    "# std = data.std(axis = (0,2,3))"
   ]
  },
  {
   "cell_type": "code",
   "execution_count": 26,
   "metadata": {},
   "outputs": [
    {
     "name": "stdout",
     "output_type": "stream",
     "text": [
      "[0.4377 0.4438 0.4728]\n",
      "[0.198 0.201 0.197]\n"
     ]
    }
   ],
   "source": [
    "print(np.round(mean, 4))\n",
    "print(np.round(std, 4))"
   ]
  },
  {
   "cell_type": "code",
   "execution_count": 23,
   "metadata": {},
   "outputs": [
    {
     "data": {
      "text/plain": [
       "array([0.49139968, 0.48215841, 0.44653091])"
      ]
     },
     "execution_count": 23,
     "metadata": {},
     "output_type": "execute_result"
    }
   ],
   "source": [
    "mean"
   ]
  },
  {
   "cell_type": "code",
   "execution_count": 10,
   "metadata": {},
   "outputs": [
    {
     "data": {
      "text/plain": [
       "array([1, 9, 2, ..., 1, 6, 9])"
      ]
     },
     "execution_count": 10,
     "metadata": {},
     "output_type": "execute_result"
    }
   ],
   "source": [
    "data.labels"
   ]
  },
  {
   "cell_type": "code",
   "execution_count": 2,
   "metadata": {},
   "outputs": [],
   "source": [
    "import torch"
   ]
  },
  {
   "cell_type": "code",
   "execution_count": 5,
   "metadata": {},
   "outputs": [],
   "source": [
    "p = torch.load(\"logs/Imb\")"
   ]
  },
  {
   "cell_type": "code",
   "execution_count": 6,
   "metadata": {},
   "outputs": [
    {
     "data": {
      "text/plain": [
       "159"
      ]
     },
     "execution_count": 6,
     "metadata": {},
     "output_type": "execute_result"
    }
   ],
   "source": [
    "p['epoch']"
   ]
  },
  {
   "cell_type": "code",
   "execution_count": null,
   "metadata": {},
   "outputs": [],
   "source": []
  }
 ],
 "metadata": {
  "kernelspec": {
   "display_name": "M2m",
   "language": "python",
   "name": "python3"
  },
  "language_info": {
   "codemirror_mode": {
    "name": "ipython",
    "version": 3
   },
   "file_extension": ".py",
   "mimetype": "text/x-python",
   "name": "python",
   "nbconvert_exporter": "python",
   "pygments_lexer": "ipython3",
   "version": "3.8.16"
  },
  "orig_nbformat": 4
 },
 "nbformat": 4,
 "nbformat_minor": 2
}
