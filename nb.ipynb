{
 "cells": [
  {
   "cell_type": "code",
   "execution_count": 1,
   "metadata": {},
   "outputs": [],
   "source": [
    "import numpy as np"
   ]
  },
  {
   "cell_type": "code",
   "execution_count": null,
   "metadata": {},
   "outputs": [],
   "source": []
  },
  {
   "cell_type": "code",
   "execution_count": 2,
   "metadata": {},
   "outputs": [
    {
     "name": "stdout",
     "output_type": "stream",
     "text": [
      "Collecting package metadata (current_repodata.json): done\n",
      "Solving environment: done\n",
      "\n",
      "## Package Plan ##\n",
      "\n",
      "  environment location: /DATA/souraviai/miniconda3/envs/M2m\n",
      "\n",
      "  added / updated specs:\n",
      "    - imbalanced-learn\n",
      "\n",
      "\n",
      "The following packages will be downloaded:\n",
      "\n",
      "    package                    |            build\n",
      "    ---------------------------|-----------------\n",
      "    imbalanced-learn-0.10.1    |   py38h06a4308_0         277 KB\n",
      "    joblib-1.1.1               |   py38h06a4308_0         382 KB\n",
      "    scikit-learn-1.2.2         |   py38h6a678d5_0         7.7 MB\n",
      "    threadpoolctl-2.2.0        |     pyh0d69192_0          16 KB\n",
      "    ------------------------------------------------------------\n",
      "                                           Total:         8.4 MB\n",
      "\n",
      "The following NEW packages will be INSTALLED:\n",
      "\n",
      "  imbalanced-learn   pkgs/main/linux-64::imbalanced-learn-0.10.1-py38h06a4308_0 \n",
      "  joblib             pkgs/main/linux-64::joblib-1.1.1-py38h06a4308_0 \n",
      "  scikit-learn       pkgs/main/linux-64::scikit-learn-1.2.2-py38h6a678d5_0 \n",
      "  threadpoolctl      pkgs/main/noarch::threadpoolctl-2.2.0-pyh0d69192_0 \n",
      "\n",
      "The following packages will be UPDATED:\n",
      "\n",
      "  ca-certificates    conda-forge::ca-certificates-2022.12.~ --> pkgs/main::ca-certificates-2023.01.10-h06a4308_0 \n",
      "\n",
      "The following packages will be SUPERSEDED by a higher-priority channel:\n",
      "\n",
      "  certifi            conda-forge/noarch::certifi-2022.12.7~ --> pkgs/main/linux-64::certifi-2022.12.7-py38h06a4308_0 \n",
      "\n",
      "\n",
      "\n",
      "Downloading and Extracting Packages\n",
      "threadpoolctl-2.2.0  | 16 KB     |                                       |   0% \n",
      "joblib-1.1.1         | 382 KB    |                                       |   0% \u001b[A\n",
      "\n",
      "scikit-learn-1.2.2   | 7.7 MB    |                                       |   0% \u001b[A\u001b[A\n",
      "\n",
      "\n",
      "imbalanced-learn-0.1 | 277 KB    |                                       |   0% \u001b[A\u001b[A\u001b[A\n",
      "\n",
      "\n",
      "imbalanced-learn-0.1 | 277 KB    | ##1                                   |   6% \u001b[A\u001b[A\u001b[A\n",
      "\n",
      "threadpoolctl-2.2.0  | 16 KB     | ##################################### | 100% \u001b[A\u001b[A\n",
      "joblib-1.1.1         | 382 KB    | #5                                    |   4% \u001b[A\n",
      "\n",
      "scikit-learn-1.2.2   | 7.7 MB    | 7                                     |   2% \u001b[A\u001b[A\n",
      "\n",
      "\n",
      "imbalanced-learn-0.1 | 277 KB    | #######################5              |  64% \u001b[A\u001b[A\u001b[A\n",
      "joblib-1.1.1         | 382 KB    | ###############5                      |  42% \u001b[A\n",
      "\n",
      "scikit-learn-1.2.2   | 7.7 MB    | ##6                                   |   7% \u001b[A\u001b[A\n",
      "\n",
      "\n",
      "imbalanced-learn-0.1 | 277 KB    | ##################################### | 100% \u001b[A\u001b[A\u001b[A\n",
      "\n",
      "\n",
      "imbalanced-learn-0.1 | 277 KB    | ##################################### | 100% \u001b[A\u001b[A\u001b[A\n",
      "joblib-1.1.1         | 382 KB    | ##################################### | 100% \u001b[A\n",
      "joblib-1.1.1         | 382 KB    | ##################################### | 100% \u001b[A\n",
      "\n",
      "scikit-learn-1.2.2   | 7.7 MB    | #####1                                |  14% \u001b[A\u001b[A\n",
      "\n",
      "scikit-learn-1.2.2   | 7.7 MB    | #######4                              |  20% \u001b[A\u001b[A\n",
      "\n",
      "scikit-learn-1.2.2   | 7.7 MB    | #########7                            |  26% \u001b[A\u001b[A\n",
      "\n",
      "scikit-learn-1.2.2   | 7.7 MB    | ############1                         |  33% \u001b[A\u001b[A\n",
      "\n",
      "scikit-learn-1.2.2   | 7.7 MB    | ##############5                       |  39% \u001b[A\u001b[A\n",
      "\n",
      "scikit-learn-1.2.2   | 7.7 MB    | #################                     |  46% \u001b[A\u001b[A\n",
      "\n",
      "scikit-learn-1.2.2   | 7.7 MB    | ###################3                  |  52% \u001b[A\u001b[A\n",
      "\n",
      "scikit-learn-1.2.2   | 7.7 MB    | #####################7                |  59% \u001b[A\u001b[A\n",
      "\n",
      "scikit-learn-1.2.2   | 7.7 MB    | ########################1             |  65% \u001b[A\u001b[A\n",
      "\n",
      "scikit-learn-1.2.2   | 7.7 MB    | ##########################5           |  72% \u001b[A\u001b[A\n",
      "\n",
      "scikit-learn-1.2.2   | 7.7 MB    | ############################9         |  78% \u001b[A\u001b[A\n",
      "\n",
      "scikit-learn-1.2.2   | 7.7 MB    | ###############################3      |  85% \u001b[A\u001b[A\n",
      "\n",
      "scikit-learn-1.2.2   | 7.7 MB    | #################################7    |  91% \u001b[A\u001b[A\n",
      "\n",
      "scikit-learn-1.2.2   | 7.7 MB    | ####################################1 |  98% \u001b[A\u001b[A\n",
      "\n",
      "                                                                                \u001b[A\u001b[A\n",
      "                                                                                \u001b[A\n",
      "\n",
      "                                                                                \u001b[A\u001b[A\n",
      "\n",
      "\n",
      "                                                                                \u001b[A\u001b[A\u001b[A\n",
      "Preparing transaction: done\n",
      "Verifying transaction: done\n",
      "Executing transaction: | \n",
      "\n",
      "    Installed package of scikit-learn can be accelerated using scikit-learn-intelex.\n",
      "    More details are available here: https://intel.github.io/scikit-learn-intelex\n",
      "\n",
      "    For example:\n",
      "\n",
      "        $ conda install scikit-learn-intelex\n",
      "        $ python -m sklearnex my_application.py\n",
      "\n",
      "    \n",
      "\n",
      "done\n",
      "\n",
      "Note: you may need to restart the kernel to use updated packages.\n"
     ]
    }
   ],
   "source": [
    "%conda install imbalanced-learn"
   ]
  },
  {
   "cell_type": "code",
   "execution_count": 2,
   "metadata": {},
   "outputs": [],
   "source": [
    "from imblearn.metrics import geometric_mean_score, sensitivity_score"
   ]
  },
  {
   "cell_type": "code",
   "execution_count": 42,
   "metadata": {},
   "outputs": [
    {
     "name": "stdout",
     "output_type": "stream",
     "text": [
      "[0.12195122 0.14       0.08695652 0.1        0.11538462 0.12765957\n",
      " 0.18367347 0.16129032 0.04       0.04761905]\n",
      "0.1021248208908909\n"
     ]
    }
   ],
   "source": [
    "y = np.random.randint(10, size=500)\n",
    "pred = np.random.randint(10, size=500)\n",
    "# print(y)\n",
    "# print(pred)\n",
    "tmp1 = sensitivity_score(y, pred, average=None)\n",
    "print(tmp1)\n",
    "tmp2 = geometric_mean_score(y, pred)\n",
    "print(tmp2)"
   ]
  },
  {
   "cell_type": "code",
   "execution_count": 3,
   "metadata": {},
   "outputs": [
    {
     "name": "stdout",
     "output_type": "stream",
     "text": [
      "74.81733212480576\n"
     ]
    }
   ],
   "source": [
    "acc = np.load(\"logs/Imbalance_S2124_M2m_L0.5_W100_E0.1_I10_cifar10_R100_resnet32_G0.9_B0.999/classwise_acc.npy\")\n",
    "r =1 \n",
    "for i in acc**(1/len(acc)):\n",
    "    r *= i\n",
    "\n",
    "print(r)"
   ]
  },
  {
   "cell_type": "code",
   "execution_count": 4,
   "metadata": {},
   "outputs": [
    {
     "data": {
      "text/plain": [
       "75.68889"
      ]
     },
     "execution_count": 4,
     "metadata": {},
     "output_type": "execute_result"
    }
   ],
   "source": [
    "acc.mean()"
   ]
  },
  {
   "cell_type": "code",
   "execution_count": null,
   "metadata": {},
   "outputs": [],
   "source": []
  }
 ],
 "metadata": {
  "kernelspec": {
   "display_name": "M2m",
   "language": "python",
   "name": "python3"
  },
  "language_info": {
   "codemirror_mode": {
    "name": "ipython",
    "version": 3
   },
   "file_extension": ".py",
   "mimetype": "text/x-python",
   "name": "python",
   "nbconvert_exporter": "python",
   "pygments_lexer": "ipython3",
   "version": "3.8.16"
  },
  "orig_nbformat": 4
 },
 "nbformat": 4,
 "nbformat_minor": 2
}
