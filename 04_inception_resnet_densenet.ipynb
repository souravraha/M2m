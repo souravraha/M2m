{
  "cells": [
    {
      "attachments": {},
      "cell_type": "markdown",
      "metadata": {
        "colab_type": "text",
        "id": "view-in-github"
      },
      "source": [
        "<a href=\"https://colab.research.google.com/github/souravraha/M2m/blob/dry-run/04_inception_resnet_densenet.ipynb\" target=\"_parent\"><img src=\"https://colab.research.google.com/assets/colab-badge.svg\" alt=\"Open In Colab\"/></a>"
      ]
    },
    {
      "attachments": {},
      "cell_type": "markdown",
      "id": "9e9fb412",
      "metadata": {
        "id": "9e9fb412",
        "papermill": {
          "duration": 0.015168,
          "end_time": "2023-03-24T15:58:16.425820",
          "exception": false,
          "start_time": "2023-03-24T15:58:16.410652",
          "status": "completed"
        },
        "tags": []
      },
      "source": [
        "\n",
        "# Tutorial 4: Inception, ResNet and DenseNet\n",
        "\n",
        "* **Author:** Phillip Lippe\n",
        "* **License:** CC BY-SA\n",
        "* **Generated:** 2023-03-24T15:54:44.883915\n",
        "\n",
        "In this tutorial, we will implement and discuss variants of modern CNN architectures.\n",
        "There have been many different architectures been proposed over the past few years.\n",
        "Some of the most impactful ones, and still relevant today, are the following: [GoogleNet](https://arxiv.org/abs/1409.4842)/Inception architecture (winner of ILSVRC 2014), [ResNet](https://arxiv.org/abs/1512.03385) (winner of ILSVRC 2015), and [DenseNet](https://arxiv.org/abs/1608.06993) (best paper award CVPR 2017).\n",
        "All of them were state-of-the-art models when being proposed, and the core ideas of these networks are the foundations for most current state-of-the-art architectures.\n",
        "Thus, it is important to understand these architectures in detail and learn how to implement them.\n",
        "This notebook is part of a lecture series on Deep Learning at the University of Amsterdam.\n",
        "The full list of tutorials can be found at https://uvadlc-notebooks.rtfd.io.\n",
        "\n",
        "\n",
        "---\n",
        "Open in [![Open In Colab](data:image/png;base64,iVBORw0KGgoAAAANSUhEUgAAAHUAAAAUCAYAAACzrHJDAAAIuUlEQVRoQ+1ZaVRURxb+qhdolmbTUVSURpZgmLhHbQVFZIlGQBEXcMvJhKiTEzfigjQg7oNEJ9GMGidnjnNMBs2czIzajksEFRE1xklCTKJiQLRFsUGkoUWw+82pamn79etGYoKek1B/4NW99/tu3e/dquJBAGD27NkHALxKf39WY39gyrOi+i3xqGtUoePJrFmznrmgtModorbTu8YRNZk5cybXTvCtwh7o6NR2KzuZMWNGh6jtVt7nA0ymT5/eJlF9POrh7PAQl6s8bGYa3PUum//htmebVtLRqW0q01M5keTk5FZFzU0oRle3+zxwg5Hgtb+PZiL/ZVohxCI+hL5JgjmfjPxZ26+33BG3dA+ealHPM4gQAo5rU59gsI8bRvl54t3Ca62mvHyUAhtOlLd5WSQpKcluBjumnoCLs1EARkVd9E8l3p9y2i7RbQ1B6pFwu/YDgW8KbHJHMTQrwnjz2oZm9M4pavOCfo5jWrgCaaMVcMs6/pNhDr0+AMN93XlxV7R6DNpyzi7W/OE+yIrsjU6rTrbKV5cd/pNyItOmTbMp6sbBB+EqaYJY4cWE3VUciNt1TpgfcRFv71Fi54xT5kSoyLvOBEJMOMxWXkFlBeBSX4u6Zkcs+3KszYRtiapbNRqF31UgetVuc8z9vBXIv1qD+F1f83B6uDlCUyfsZGepGPpmg01OB7EITQbhS9ribKy+DmP1DUiClLz4bnIHVOqa7BY+Z1wg5g3zgUvyehiNpnJKxSLc/ts76LKm0BzX3c0RNy1yXjDcB5lWoro4iNHQxM+f1kWeWQARAWQS++trISJTp061Kep25X/MycwtjuctSC5rxo7ppi7VNUox5+PhPHtrsS2O1qJ6yx1QujQUzm9sh6hbkBlvvGcN8hYnwjUjH6kjfZEd5c/jitz5Jc5U3ENnFynKl4eB7nyEgP2UZ+Yz3/rVEbyYr27qELrtC4FIC0J7sc7xWnmccdHfRRTs0VB+cA4lt+oFcRR/wUeH8FG5w2Mbx8FQ8TXEvv1xYf4wBP3O2WyL3/UVjpXWgIqaFeUPr+wTmDvUB7njH6/bOv+HRg4SqioAg5GDe1aB3ZeMTJkyRSBqkLsWqSEm0fZVBEN94zEZnYvrdx1JL5cxe+a+AbhSJecRRHW/ikTFRTa38dtQlNZ5CRKwFvUtZU/kvBoEF9Uxni/XqIM+dwKbTw3rhcxIf7gmr2M+H6SMwx8iBzJbw5oxeG3Lv5FX9B3AGaHPS8e8z77H7v9VMpvPG5ug1enh7eGK8h0LBTwUb+GInqzInlRUK65DmTPQu4c3+uQKjwKK77zwUxBX4Tq7yR1RuiwUsqlrABCM6esHdXoy47fk4+prYKy8ZF574x4V5BnHQBuf4g9Z9ld8U36L2aktZNNplNfw7zotwWTy5MkCUft4aLEopJj5/OPHl1BQqeAVOnHgNSQOqmBzq9V9cfEm/yx5ubMGKS9cYPZ3vx2OS/c6PVHUuUO7Y1Pci3BO/1zgq18byebfGemLtNF+6JRtOvMk926ibussZqM+1mNz4TWkH7rCbM5phwGRGDAaoF8fY5OHFnlldAA8sgoEXKnDukA1NgSeNjqkJT9brbN4pC9WRweYXyLugR73c+MYvyWfu0yC6+mjzN1Isfw3FKJS98CU/zI1IHFkFPR52cHL2FJk0sB6kMTERIGo9GzcPkLNfA0cwdwi/hfEYO86ZMd9w+y1egfM2T2Eh/vesMNwljSzuZRT420SW3eqy8N6aHMmwmnFUZ7/PGVPbIoNZvNU1BURdHs0bT2+HjL8sDSM2e6vi4Lj5NW8WOLVA6RTT2azxLV+bglaFNqLieqemS/gWkw7NyoAHo+2dEsiivengjKsPFoqWOvbSh/kxPaxyW/JRzH2Fl3EzD9/xjAefJqB3usKUFn/0Gb+S/d/jy3FN2yLOmnSJJtn6oehByEiHPSeXnDxFGPRnoFoaBJjcdQlbDwcjL1zTNuQpoxD7R0OG0uUTMi0fkVwdzBdYIwcwZunxrVJVLplNm54BZp7jfDfYLoNyqQi1K6KxIdHzmN+QQ2WjFIwUT2zTGdlRXo4NFXVUO4sgX5dFC7f0aP/ZlNeUjFBuL8Xjl6uRuP6aMjSjpjzsH62FDU7JhBuGccEXIvDfJFFBc/gHw80dklfCVYnRaDfpiJcutPA4F7qJsfJeUPQI+1fqMlNhFx1FM0GDqkjFVg7NojlQ0Vt4aM5ReSqcbpaCg8nCW5lRsBvbT4T1TLfFptsfh7gItzuKTdJSEiwKSrt1vcmnEXXrsLbYnWDA1bu+z2WKy9Arq+1KRqdfKsoBo0GcdtEpS/B1bO4v0cFiUhkjskvKcMrWwtAPHuwQq8Z+4LZ1vTQANfXt4J0DwZX9gWa9qh4XDM/voC9JXfwYEMMHJcfNtusn82ihvliVUwg5KrPGVf6GH94ZJpEZBen6EC4qYTHA1dXhW0JIex8txzv//c8lhzXIi/BFxOH9jGbQhZsRalTIBZZ8KkGyZAxeRQvXkFF1TWz/Hm46jNYUnjPbt3JxIkT7f6dSj8qfJJyVvBxgaIlblOyjtysNHWN9fjjqWi7glJfW3/S0Hlj2XnA8PhKT9w6g3Qx3XiXhvuxQsuT1proxBKI/AaZqY1Xz5muvY8G8XkRRCaHsfQsRAFDH/tZPbcYuHotOG0FRIqB4HR3wNVoIPLtz8ycTguu+jpEigE218vd1YCr5m+HpHMvEI9u4LTXwNWaLjl0iPwGAmIpeHx1VeCqTJdPs1/vweweQPO3HC24NhOhnTphwoQnfv6QSY2ICbkNmdSA4h87oaLaiYfn5diIEd4att2erOwJXbPUHp953p6orQVSUVWRAXBT8c/dJ5L9xhzaJGp71GR/wFP8P5V2z10NSC9T93QM2xUg8fHxT+zU9ijeU4naHon8CjFJXFzc8/kn+dN06q9QgF98SYSo2Xen2NjYZy5sR6f+4nLSK5Iam2PH/x87a1YN/t5sBgAAAABJRU5ErkJggg==){height=\"20px\" width=\"117px\"}](https://colab.research.google.com/github/PytorchLightning/lightning-tutorials/blob/publication/.notebooks/course_UvA-DL/04-inception-resnet-densenet.ipynb)\n",
        "\n",
        "Give us a ⭐ [on Github](https://www.github.com/Lightning-AI/lightning/)\n",
        "| Check out [the documentation](https://pytorch-lightning.readthedocs.io/en/stable/)\n",
        "| Join us [on Slack](https://www.pytorchlightning.ai/community)"
      ]
    },
    {
      "attachments": {},
      "cell_type": "markdown",
      "id": "174bdd7d",
      "metadata": {
        "id": "174bdd7d",
        "papermill": {
          "duration": 0.009032,
          "end_time": "2023-03-24T15:58:16.444211",
          "exception": false,
          "start_time": "2023-03-24T15:58:16.435179",
          "status": "completed"
        },
        "tags": []
      },
      "source": [
        "## Setup\n",
        "This notebook requires some packages besides pytorch-lightning."
      ]
    },
    {
      "cell_type": "code",
      "execution_count": null,
      "id": "057662d0",
      "metadata": {},
      "outputs": [],
      "source": [
        "%conda install lightning pytorch pytorch-cuda torchvision -c pytorch -c nvidia"
      ]
    },
    {
      "cell_type": "code",
      "execution_count": null,
      "id": "d860cee8",
      "metadata": {},
      "outputs": [],
      "source": [
        "%conda install matplotlib seaborn tabulate"
      ]
    },
    {
      "cell_type": "code",
      "execution_count": null,
      "id": "62f43d2a",
      "metadata": {
        "execution": {
          "iopub.execute_input": "2023-03-24T15:58:16.497623Z",
          "iopub.status.busy": "2023-03-24T15:58:16.497260Z",
          "iopub.status.idle": "2023-03-24T15:59:35.417241Z",
          "shell.execute_reply": "2023-03-24T15:59:35.415854Z"
        },
        "id": "62f43d2a",
        "lines_to_next_cell": 0,
        "papermill": {
          "duration": 78.965904,
          "end_time": "2023-03-24T15:59:35.420147",
          "exception": false,
          "start_time": "2023-03-24T15:58:16.454243",
          "status": "completed"
        },
        "tags": []
      },
      "outputs": [],
      "source": [
        "# ! pip install \"lightning>=2.0.0rc0\" \"setuptools==67.4.0\" \"ipython[notebook]>=8.0.0, <8.12.0\" \"matplotlib\" \"seaborn\" \"pytorch-lightning>=1.4, <2.0.0\" \"torch>=1.8.1, <1.14.0\" \"matplotlib>=3.0.0, <3.4.0\" \"tabulate\" \"torchvision\" \"torchmetrics>=0.7, <0.12\""
      ]
    },
    {
      "attachments": {},
      "cell_type": "markdown",
      "id": "6277b002",
      "metadata": {
        "id": "6277b002",
        "papermill": {
          "duration": 0.009272,
          "end_time": "2023-03-24T15:59:35.443368",
          "exception": false,
          "start_time": "2023-03-24T15:59:35.434096",
          "status": "completed"
        },
        "tags": []
      },
      "source": [
        "<div class=\"center-wrapper\"><div class=\"video-wrapper\"><iframe src=\"https://www.youtube.com/embed/vjSSyGxlczs\" title=\"YouTube video player\" frameborder=\"0\" allow=\"accelerometer; autoplay; clipboard-write; encrypted-media; gyroscope; picture-in-picture\" allowfullscreen></iframe></div></div>\n",
        "Let's start with importing our standard libraries here."
      ]
    },
    {
      "cell_type": "code",
      "execution_count": 1,
      "id": "220a8f87",
      "metadata": {
        "execution": {
          "iopub.execute_input": "2023-03-24T15:59:35.463457Z",
          "iopub.status.busy": "2023-03-24T15:59:35.463106Z",
          "iopub.status.idle": "2023-03-24T15:59:40.437489Z",
          "shell.execute_reply": "2023-03-24T15:59:40.436191Z"
        },
        "id": "220a8f87",
        "papermill": {
          "duration": 4.98764,
          "end_time": "2023-03-24T15:59:40.440161",
          "exception": false,
          "start_time": "2023-03-24T15:59:35.452521",
          "status": "completed"
        },
        "tags": []
      },
      "outputs": [],
      "source": [
        "import os\n",
        "import urllib.request\n",
        "from types import SimpleNamespace\n",
        "from urllib.error import HTTPError\n",
        "\n",
        "import lightning as L\n",
        "import matplotlib\n",
        "import matplotlib.pyplot as plt\n",
        "import matplotlib_inline.backend_inline\n",
        "import numpy as np\n",
        "import seaborn as sns\n",
        "import tabulate\n",
        "import torch\n",
        "import torch.nn as nn\n",
        "import torch.optim as optim\n",
        "import torch.utils.data as data\n",
        "import torchvision\n",
        "\n",
        "%matplotlib inline\n",
        "from IPython.display import HTML, display\n",
        "from lightning.pytorch.callbacks import LearningRateMonitor, ModelCheckpoint\n",
        "from PIL import Image\n",
        "from torchvision import transforms\n",
        "from torchvision.datasets import *\n",
        "\n",
        "matplotlib_inline.backend_inline.set_matplotlib_formats(\"svg\", \"pdf\")  # For export\n",
        "matplotlib.rcParams[\"lines.linewidth\"] = 2.0\n",
        "sns.reset_orig()\n",
        "\n",
        "# PyTorch\n",
        "# Torchvision"
      ]
    },
    {
      "attachments": {},
      "cell_type": "markdown",
      "id": "67aed41d",
      "metadata": {
        "id": "67aed41d",
        "papermill": {
          "duration": 0.009274,
          "end_time": "2023-03-24T15:59:40.463462",
          "exception": false,
          "start_time": "2023-03-24T15:59:40.454188",
          "status": "completed"
        },
        "tags": []
      },
      "source": [
        "We will use the same `set_seed` function as in the previous tutorials, as well as the path variables `DATASET_PATH` and `CHECKPOINT_PATH`.\n",
        "Adjust the paths if necessary."
      ]
    },
    {
      "cell_type": "code",
      "execution_count": 2,
      "id": "14337553",
      "metadata": {
        "execution": {
          "iopub.execute_input": "2023-03-24T15:59:40.483505Z",
          "iopub.status.busy": "2023-03-24T15:59:40.483069Z",
          "iopub.status.idle": "2023-03-24T15:59:40.592231Z",
          "shell.execute_reply": "2023-03-24T15:59:40.590925Z"
        },
        "id": "14337553",
        "papermill": {
          "duration": 0.122059,
          "end_time": "2023-03-24T15:59:40.594783",
          "exception": false,
          "start_time": "2023-03-24T15:59:40.472724",
          "status": "completed"
        },
        "tags": []
      },
      "outputs": [
        {
          "name": "stderr",
          "output_type": "stream",
          "text": [
            "Global seed set to 42\n"
          ]
        }
      ],
      "source": [
        "# Path to the folder where the datasets are/should be downloaded (e.g. CIFAR10)\n",
        "DATASET_PATH = os.environ.get(\"PATH_DATASETS\", \"data/\")\n",
        "# Path to the folder where the pretrained models are saved\n",
        "CHECKPOINT_PATH = os.environ.get(\"PATH_CHECKPOINT\", \"saved_models/ConvNets\")\n",
        "\n",
        "\n",
        "# Function for setting the seed\n",
        "L.seed_everything(42)\n",
        "\n",
        "# Ensure that all operations are deterministic on GPU (if used) for reproducibility\n",
        "torch.backends.cudnn.deterministic = True\n",
        "torch.backends.cudnn.benchmark = False\n",
        "\n",
        "device = torch.device(\"cuda:0\") if torch.cuda.is_available() else torch.device(\"cpu\")"
      ]
    },
    {
      "attachments": {},
      "cell_type": "markdown",
      "id": "4045dc25",
      "metadata": {
        "id": "4045dc25",
        "papermill": {
          "duration": 0.009305,
          "end_time": "2023-03-24T15:59:40.621010",
          "exception": false,
          "start_time": "2023-03-24T15:59:40.611705",
          "status": "completed"
        },
        "tags": []
      },
      "source": [
        "We also have pretrained models and Tensorboards (more on this later) for this tutorial, and download them below."
      ]
    },
    {
      "cell_type": "code",
      "execution_count": 3,
      "id": "a0682858",
      "metadata": {
        "execution": {
          "iopub.execute_input": "2023-03-24T15:59:40.641028Z",
          "iopub.status.busy": "2023-03-24T15:59:40.640713Z",
          "iopub.status.idle": "2023-03-24T15:59:42.274739Z",
          "shell.execute_reply": "2023-03-24T15:59:42.273526Z"
        },
        "id": "a0682858",
        "papermill": {
          "duration": 1.647592,
          "end_time": "2023-03-24T15:59:42.277852",
          "exception": false,
          "start_time": "2023-03-24T15:59:40.630260",
          "status": "completed"
        },
        "tags": []
      },
      "outputs": [],
      "source": [
        "# Github URL where saved models are stored for this tutorial\n",
        "# base_url = \"https://raw.githubusercontent.com/phlippe/saved_models/main/tutorial5/\"\n",
        "# # Files to download\n",
        "# pretrained_files = [\n",
        "#     \"GoogleNet.ckpt\",\n",
        "#     \"ResNet.ckpt\",\n",
        "#     \"ResNetPreAct.ckpt\",\n",
        "#     \"DenseNet.ckpt\",\n",
        "#     \"tensorboards/GoogleNet/events.out.tfevents.googlenet\",\n",
        "#     \"tensorboards/ResNet/events.out.tfevents.resnet\",\n",
        "#     \"tensorboards/ResNetPreAct/events.out.tfevents.resnetpreact\",\n",
        "#     \"tensorboards/DenseNet/events.out.tfevents.densenet\",\n",
        "# ]\n",
        "# Create checkpoint path if it doesn't exist yet\n",
        "os.makedirs(CHECKPOINT_PATH, exist_ok=True)\n",
        "\n",
        "# # For each file, check whether it already exists. If not, try downloading it.\n",
        "# for file_name in pretrained_files:\n",
        "#     file_path = os.path.join(CHECKPOINT_PATH, file_name)\n",
        "#     if \"/\" in file_name:\n",
        "#         os.makedirs(file_path.rsplit(\"/\", 1)[0], exist_ok=True)\n",
        "#     if not os.path.isfile(file_path):\n",
        "#         file_url = base_url + file_name\n",
        "#         print(f\"Downloading {file_url}...\")\n",
        "#         try:\n",
        "#             urllib.request.urlretrieve(file_url, file_path)\n",
        "#         except HTTPError as e:\n",
        "#             print(\n",
        "#                 \"Something went wrong. Please try to download the file from the GDrive folder, or contact the author with the full output including the following error:\\n\",\n",
        "#                 e,\n",
        "#             )"
      ]
    },
    {
      "attachments": {},
      "cell_type": "markdown",
      "id": "0f047fd7",
      "metadata": {
        "id": "0f047fd7",
        "papermill": {
          "duration": 0.009625,
          "end_time": "2023-03-24T15:59:42.306247",
          "exception": false,
          "start_time": "2023-03-24T15:59:42.296622",
          "status": "completed"
        },
        "tags": []
      },
      "source": [
        "Throughout this tutorial, we will train and evaluate the models on the CIFAR10 dataset.\n",
        "This allows you to compare the results obtained here with the model you have implemented in the first assignment.\n",
        "As we have learned from the previous tutorial about initialization, it is important to have the data preprocessed with a zero mean.\n",
        "Therefore, as a first step, we will calculate the mean and standard deviation of the CIFAR dataset:"
      ]
    },
    {
      "cell_type": "code",
      "execution_count": 11,
      "id": "3189d178",
      "metadata": {
        "execution": {
          "iopub.execute_input": "2023-03-24T15:59:42.327367Z",
          "iopub.status.busy": "2023-03-24T15:59:42.326966Z",
          "iopub.status.idle": "2023-03-24T16:00:24.905443Z",
          "shell.execute_reply": "2023-03-24T16:00:24.903888Z"
        },
        "id": "3189d178",
        "papermill": {
          "duration": 42.592439,
          "end_time": "2023-03-24T16:00:24.908317",
          "exception": false,
          "start_time": "2023-03-24T15:59:42.315878",
          "status": "completed"
        },
        "tags": []
      },
      "outputs": [],
      "source": [
        "# train_dataset = CIFAR10(root=DATASET_PATH, train=True, download=True)\n",
        "# DATA_MEANS = (train_dataset.data / 255.0).mean(axis=(0, 1, 2))\n",
        "# DATA_STD = (train_dataset.data / 255.0).std(axis=(0, 1, 2))\n",
        "# print(\"Data mean\", DATA_MEANS)\n",
        "# print(\"Data std\", DATA_STD)\n",
        "\n",
        "# Define the LightningDataModule\n",
        "from dataclasses import dataclass\n",
        "from functools import partial\n",
        "from random import shuffle\n",
        "\n",
        "from tqdm import tqdm\n",
        "\n",
        "\n",
        "@dataclass\n",
        "class SUN397DataModule(L.LightningDataModule):\n",
        "    name = \"sun397\"\n",
        "    num_classes = 397\n",
        "\n",
        "    def __init__(self, data_dir, val_split_per_class=10, test_split_per_class=40, batch_size=128, **kwargs):\n",
        "        super().__init__()\n",
        "        self.data_dir = data_dir\n",
        "        self.transform = transforms.Compose([\n",
        "            transforms.RandomHorizontalFlip(),\n",
        "            transforms.RandomResizedCrop(\n",
        "                size=kwargs.get(\"image_size\", (32, 32)), scale=(0.8, 1), ratio=(1, 1), \n",
        "                interpolation=transforms.InterpolationMode.NEAREST\n",
        "            ),\n",
        "            transforms.ToTensor(),\n",
        "            transforms.Normalize(mean=kwargs.get(\"mean\", (0,) * 3), std=kwargs.get(\"std\", (1,) * 3)),\n",
        "        ])\n",
        "        self.split = {\n",
        "            \"val\": val_split_per_class,\n",
        "            \"test\": test_split_per_class,\n",
        "        }\n",
        "        self.bs = batch_size\n",
        "\n",
        "    def _update_normalize(self):\n",
        "        print(f\"Computing the channel-wise means and stds.\")\n",
        "        # Compute per-channel means and stds\n",
        "        dataloader = data.DataLoader(\n",
        "            SUN397(root=self.data_dir, transform=self.transform, download=True),\n",
        "            self.bs, num_workers=torch.get_num_threads(),\n",
        "        )\n",
        "        stats = {\"counts\": 0, \"sum\": torch.zeros((3,)), \"sq_sum\": torch.zeros((3,))}\n",
        "        for img, _ in dataloader:\n",
        "            stats[\"counts\"] += len(img)\n",
        "            stats[\"sum\"] += img.sum(dim=(0, 2, 3))\n",
        "            stats[\"sq_sum\"] += img.square().sum(dim=(0, 2, 3))\n",
        "            # Cant update self.cls_idxs as we don't have global indices\n",
        "\n",
        "        mean = (stats[\"sum\"] / stats[\"counts\"]).numpy()\n",
        "        std = ((stats[\"sq_sum\"] - stats[\"sum\"].square()) / stats[\"counts\"]).numpy()\n",
        "        print(f\"Mean is {mean}\")\n",
        "        print(f\"Std is {std}\")\n",
        "\n",
        "        # Update normalize layer arguments\n",
        "        self.transform.transforms[-1].mean = mean\n",
        "        self.transform.transforms[-1].std = std\n",
        "\n",
        "    def setup(self, stage=None):\n",
        "        # Check if normalize layer arguments are trivial\n",
        "        if np.allclose(self.transform.transforms[-1].mean, 0.) and np.allclose(self.transform.transforms[-1].std, 1.):\n",
        "            self._update_normalize()\n",
        "        \n",
        "        # Load and split the dataset into train and validation sets\n",
        "        self.dataset = SUN397(root=self.data_dir, transform=self.transform)\n",
        "        self.dataloader = partial(data.DataLoader, \n",
        "            dataset=self.dataset, batch_size=self.bs, \n",
        "            num_workers=torch.get_num_threads(), pin_memory=True,\n",
        "        )\n",
        "        self.cls_idxs = [[] for _ in range(SUN397DataModule.num_classes)]\n",
        "        for i, label in tqdm(enumerate(self.dataset._labels)):\n",
        "            self.cls_idxs[label].append(i)\n",
        "\n",
        "        self.val_idxs = []\n",
        "        self.test_idxs = []\n",
        "        \n",
        "        for idx_list in tqdm(self.cls_idxs):\n",
        "            shuffle(idx_list)\n",
        "            self.val_idxs.extend(idx_list[:self.split[\"val\"]])\n",
        "            self.test_idxs.extend(idx_list[self.split[\"val\"]:sum(self.split.values())])\n",
        "        \n",
        "        self.train_idxs = list(set(range(len(self.dataset))) - set(self.val_idxs) - set(self.test_idxs))\n",
        "\n",
        "    def train_dataloader(self):\n",
        "        return self.dataloader(sampler=data.SubsetRandomSampler(self.train_idxs))\n",
        "\n",
        "    def val_dataloader(self):\n",
        "        return self.dataloader(sampler=data.SubsetRandomSampler(self.val_idxs))\n",
        "\n",
        "    def test_dataloader(self):\n",
        "        return self.dataloader(sampler=data.SubsetRandomSampler(self.test_idxs))\n",
        "    \n",
        "dm = SUN397DataModule(data_dir=\"./data/\")"
      ]
    },
    {
      "cell_type": "code",
      "execution_count": 12,
      "id": "86e08449",
      "metadata": {},
      "outputs": [
        {
          "data": {
            "text/plain": [
              "[RandomHorizontalFlip(p=0.5),\n",
              " RandomResizedCrop(size=(32, 32), scale=(0.8, 1), ratio=(1, 1), interpolation=nearest, antialias=warn),\n",
              " ToTensor(),\n",
              " Normalize(mean=(0, 0, 0), std=(1, 1, 1))]"
            ]
          },
          "execution_count": 12,
          "metadata": {},
          "output_type": "execute_result"
        }
      ],
      "source": [
        "dm.transform.transforms"
      ]
    },
    {
      "cell_type": "code",
      "execution_count": 13,
      "id": "4cb6eec3",
      "metadata": {},
      "outputs": [
        {
          "name": "stdout",
          "output_type": "stream",
          "text": [
            "Computing the channel-wise means and stds.\n"
          ]
        }
      ],
      "source": [
        "dm.setup()"
      ]
    },
    {
      "attachments": {},
      "cell_type": "markdown",
      "id": "a7c0947b",
      "metadata": {
        "id": "a7c0947b",
        "papermill": {
          "duration": 0.009918,
          "end_time": "2023-03-24T16:00:24.933157",
          "exception": false,
          "start_time": "2023-03-24T16:00:24.923239",
          "status": "completed"
        },
        "tags": []
      },
      "source": [
        "We will use this information to define a `transforms.Normalize` module which will normalize our data accordingly.\n",
        "Additionally, we will use data augmentation during training.\n",
        "This reduces the risk of overfitting and helps CNNs to generalize better.\n",
        "Specifically, we will apply two random augmentations.\n",
        "\n",
        "First, we will flip each image horizontally by a chance of 50% (`transforms.RandomHorizontalFlip`).\n",
        "The object class usually does not change when flipping an image, and we don't expect any image information to be dependent on the horizontal orientation.\n",
        "This would be however different if we would try to detect digits or letters in an image, as those have a certain orientation.\n",
        "\n",
        "The second augmentation we use is called `transforms.RandomResizedCrop`.\n",
        "This transformation scales the image in a small range, while eventually changing the aspect ratio, and crops it afterward in the previous size.\n",
        "Therefore, the actual pixel values change while the content or overall semantics of the image stays the same.\n",
        "\n",
        "We will randomly split the training dataset into a training and a validation set.\n",
        "The validation set will be used for determining early stopping.\n",
        "After finishing the training, we test the models on the CIFAR test set."
      ]
    },
    {
      "cell_type": "code",
      "execution_count": null,
      "id": "c3ecf6ce",
      "metadata": {
        "execution": {
          "iopub.execute_input": "2023-03-24T16:00:24.955230Z",
          "iopub.status.busy": "2023-03-24T16:00:24.954795Z",
          "iopub.status.idle": "2023-03-24T16:00:27.075451Z",
          "shell.execute_reply": "2023-03-24T16:00:27.074171Z"
        },
        "id": "c3ecf6ce",
        "papermill": {
          "duration": 2.135059,
          "end_time": "2023-03-24T16:00:27.078044",
          "exception": false,
          "start_time": "2023-03-24T16:00:24.942985",
          "status": "completed"
        },
        "tags": []
      },
      "outputs": [],
      "source": [
        "test_transform = transforms.Compose([transforms.ToTensor(), transforms.Normalize(DATA_MEANS, DATA_STD)])\n",
        "# For training, we add some augmentation. Networks are too powerful and would overfit.\n",
        "train_transform = transforms.Compose(\n",
        "    [\n",
        "        transforms.RandomHorizontalFlip(),\n",
        "        transforms.RandomResizedCrop((32, 32), scale=(0.8, 1.0), ratio=(0.9, 1.1)),\n",
        "        transforms.ToTensor(),\n",
        "        transforms.Normalize(DATA_MEANS, DATA_STD),\n",
        "    ]\n",
        ")\n",
        "# Loading the training dataset. We need to split it into a training and validation part\n",
        "# We need to do a little trick because the validation set should not use the augmentation.\n",
        "train_dataset = CIFAR10(root=DATASET_PATH, train=True, transform=train_transform, download=True)\n",
        "val_dataset = CIFAR10(root=DATASET_PATH, train=True, transform=test_transform, download=True)\n",
        "L.seed_everything(42)\n",
        "train_set, _ = torch.utils.data.random_split(train_dataset, [45000, 5000])\n",
        "L.seed_everything(42)\n",
        "_, val_set = torch.utils.data.random_split(val_dataset, [45000, 5000])\n",
        "\n",
        "# Loading the test set\n",
        "test_set = CIFAR10(root=DATASET_PATH, train=False, transform=test_transform, download=True)\n",
        "\n",
        "# We define a set of data loaders that we can use for various purposes later.\n",
        "train_loader = data.DataLoader(train_set, batch_size=128, shuffle=True, drop_last=True, pin_memory=True, num_workers=4)\n",
        "val_loader = data.DataLoader(val_set, batch_size=128, shuffle=False, drop_last=False, num_workers=4)\n",
        "test_loader = data.DataLoader(test_set, batch_size=128, shuffle=False, drop_last=False, num_workers=4)"
      ]
    },
    {
      "attachments": {},
      "cell_type": "markdown",
      "id": "0c3faff4",
      "metadata": {
        "id": "0c3faff4",
        "papermill": {
          "duration": 0.010124,
          "end_time": "2023-03-24T16:00:27.106441",
          "exception": false,
          "start_time": "2023-03-24T16:00:27.096317",
          "status": "completed"
        },
        "tags": []
      },
      "source": [
        "To verify that our normalization works, we can print out the mean and standard deviation of the single batch.\n",
        "The mean should be close to 0 and the standard deviation close to 1 for each channel:"
      ]
    },
    {
      "cell_type": "code",
      "execution_count": null,
      "id": "0d7c184f",
      "metadata": {
        "execution": {
          "iopub.execute_input": "2023-03-24T16:00:27.128030Z",
          "iopub.status.busy": "2023-03-24T16:00:27.127832Z",
          "iopub.status.idle": "2023-03-24T16:00:28.668452Z",
          "shell.execute_reply": "2023-03-24T16:00:28.667088Z"
        },
        "id": "0d7c184f",
        "papermill": {
          "duration": 1.554281,
          "end_time": "2023-03-24T16:00:28.670908",
          "exception": false,
          "start_time": "2023-03-24T16:00:27.116627",
          "status": "completed"
        },
        "tags": []
      },
      "outputs": [],
      "source": [
        "imgs, _ = next(iter(train_loader))\n",
        "print(\"Batch mean\", imgs.mean(dim=[0, 2, 3]))\n",
        "print(\"Batch std\", imgs.std(dim=[0, 2, 3]))"
      ]
    },
    {
      "attachments": {},
      "cell_type": "markdown",
      "id": "9729fa0e",
      "metadata": {
        "id": "9729fa0e",
        "papermill": {
          "duration": 0.01023,
          "end_time": "2023-03-24T16:00:28.696988",
          "exception": false,
          "start_time": "2023-03-24T16:00:28.686758",
          "status": "completed"
        },
        "tags": []
      },
      "source": [
        "Finally, let's visualize a few images from the training set, and how they look like after random data augmentation:"
      ]
    },
    {
      "cell_type": "code",
      "execution_count": null,
      "id": "cc7dc6a0",
      "metadata": {
        "execution": {
          "iopub.execute_input": "2023-03-24T16:00:28.719623Z",
          "iopub.status.busy": "2023-03-24T16:00:28.719229Z",
          "iopub.status.idle": "2023-03-24T16:00:28.851271Z",
          "shell.execute_reply": "2023-03-24T16:00:28.850222Z"
        },
        "id": "cc7dc6a0",
        "papermill": {
          "duration": 0.146494,
          "end_time": "2023-03-24T16:00:28.853738",
          "exception": false,
          "start_time": "2023-03-24T16:00:28.707244",
          "status": "completed"
        },
        "tags": []
      },
      "outputs": [],
      "source": [
        "NUM_IMAGES = 4\n",
        "images = [train_dataset[idx][0] for idx in range(NUM_IMAGES)]\n",
        "orig_images = [Image.fromarray(train_dataset.data[idx]) for idx in range(NUM_IMAGES)]\n",
        "orig_images = [test_transform(img) for img in orig_images]\n",
        "\n",
        "img_grid = torchvision.utils.make_grid(torch.stack(images + orig_images, dim=0), nrow=4, normalize=True, pad_value=0.5)\n",
        "img_grid = img_grid.permute(1, 2, 0)\n",
        "\n",
        "plt.figure(figsize=(8, 8))\n",
        "plt.title(\"Augmentation examples on CIFAR10\")\n",
        "plt.imshow(img_grid)\n",
        "plt.axis(\"off\")\n",
        "plt.show()\n",
        "plt.close()"
      ]
    },
    {
      "attachments": {},
      "cell_type": "markdown",
      "id": "84201c2e",
      "metadata": {
        "id": "84201c2e",
        "papermill": {
          "duration": 0.011516,
          "end_time": "2023-03-24T16:00:28.883124",
          "exception": false,
          "start_time": "2023-03-24T16:00:28.871608",
          "status": "completed"
        },
        "tags": []
      },
      "source": [
        "## PyTorch Lightning\n",
        "\n",
        "In this notebook and in many following ones, we will make use of the library [PyTorch Lightning](https://www.lightning.ai/docs/pytorch/stable).\n",
        "PyTorch Lightning is a framework that simplifies your code needed to train, evaluate, and test a model in PyTorch.\n",
        "It also handles logging into [TensorBoard](https://pytorch.org/tutorials/intermediate/tensorboard_tutorial.html), a visualization toolkit for ML experiments, and saving model checkpoints automatically with minimal code overhead from our side.\n",
        "This is extremely helpful for us as we want to focus on implementing different model architectures and spend little time on other code overhead.\n",
        "Note that at the time of writing/teaching, the framework has been released in version 1.3.\n",
        "Future versions might have a slightly changed interface and thus might not work perfectly with the code (we will try to keep it up-to-date as much as possible).\n",
        "\n",
        "Now, we will take the first step in PyTorch Lightning, and continue to explore the framework in our other tutorials.\n",
        "PyTorch Lightning comes with a lot of useful functions, such as one for setting the seed as we have seen before:"
      ]
    },
    {
      "cell_type": "code",
      "execution_count": null,
      "id": "f538606e",
      "metadata": {
        "execution": {
          "iopub.execute_input": "2023-03-24T16:00:28.907943Z",
          "iopub.status.busy": "2023-03-24T16:00:28.907564Z",
          "iopub.status.idle": "2023-03-24T16:00:28.916673Z",
          "shell.execute_reply": "2023-03-24T16:00:28.915524Z"
        },
        "id": "f538606e",
        "papermill": {
          "duration": 0.023696,
          "end_time": "2023-03-24T16:00:28.918406",
          "exception": false,
          "start_time": "2023-03-24T16:00:28.894710",
          "status": "completed"
        },
        "tags": []
      },
      "outputs": [],
      "source": [
        "# Setting the seed\n",
        "L.seed_everything(42)"
      ]
    },
    {
      "attachments": {},
      "cell_type": "markdown",
      "id": "cd798fab",
      "metadata": {
        "id": "cd798fab",
        "lines_to_next_cell": 2,
        "papermill": {
          "duration": 0.011669,
          "end_time": "2023-03-24T16:00:28.945643",
          "exception": false,
          "start_time": "2023-03-24T16:00:28.933974",
          "status": "completed"
        },
        "tags": []
      },
      "source": [
        "Thus, in the future, we don't have to define our own `set_seed` function anymore.\n",
        "\n",
        "In PyTorch Lightning, we define `L.LightningModule`'s (inheriting from `Module`) that organize our code into 5 main sections:\n",
        "\n",
        "1. Initialization (`__init__`), where we create all necessary parameters/models\n",
        "2. Optimizers (`configure_optimizers`) where we create the optimizers, learning rate scheduler, etc.\n",
        "3.\n",
        "Training loop (`training_step`) where we only have to define the loss calculation for a single batch (the loop of optimizer.zero_grad(), loss.backward() and optimizer.step(), as well as any logging/saving operation, is done in the background)\n",
        "4.\n",
        "Validation loop (`validation_step`) where similarly to the training, we only have to define what should happen per step\n",
        "5. Test loop (`test_step`) which is the same as validation, only on a test set.\n",
        "\n",
        "Therefore, we don't abstract the PyTorch code, but rather organize it and define some default operations that are commonly used.\n",
        "If you need to change something else in your training/validation/test loop, there are many possible functions you can overwrite (see the [docs](https://lightning.ai/docs/pytorch/stable/common/lightning_module.html) for details).\n",
        "\n",
        "Now we can look at an example of how a Lightning Module for training a CNN looks like:"
      ]
    },
    {
      "cell_type": "code",
      "execution_count": null,
      "id": "fc82b267",
      "metadata": {
        "execution": {
          "iopub.execute_input": "2023-03-24T16:00:28.970378Z",
          "iopub.status.busy": "2023-03-24T16:00:28.970139Z",
          "iopub.status.idle": "2023-03-24T16:00:28.984036Z",
          "shell.execute_reply": "2023-03-24T16:00:28.983067Z"
        },
        "id": "fc82b267",
        "papermill": {
          "duration": 0.029025,
          "end_time": "2023-03-24T16:00:28.986379",
          "exception": false,
          "start_time": "2023-03-24T16:00:28.957354",
          "status": "completed"
        },
        "tags": []
      },
      "outputs": [],
      "source": [
        "class ERMModule(L.LightningModule):\n",
        "    def __init__(self, model_name, model_hparams, optimizer_name, optimizer_hparams):\n",
        "        \"\"\"ERMModule.\n",
        "\n",
        "        Args:\n",
        "            model_name: Name of the model/CNN to run. Used for creating the model (see function below)\n",
        "            model_hparams: Hyperparameters for the model, as dictionary.\n",
        "            optimizer_name: Name of the optimizer to use. Currently supported: Adam, SGD\n",
        "            optimizer_hparams: Hyperparameters for the optimizer, as dictionary. This includes learning rate, weight decay, etc.\n",
        "        \"\"\"\n",
        "        super().__init__()\n",
        "        # Exports the hyperparameters to a YAML file, and create \"self.hparams\" namespace\n",
        "        self.save_hyperparameters()\n",
        "        # Create model\n",
        "        self.model = create_model(model_name, model_hparams)\n",
        "        # Create loss module\n",
        "        self.loss_module = nn.CrossEntropyLoss()\n",
        "        # Example input for visualizing the graph in Tensorboard\n",
        "        self.example_input_array = torch.zeros((1, 3, 32, 32), dtype=torch.float32)\n",
        "\n",
        "    def forward(self, imgs):\n",
        "        # Forward function that is run when visualizing the graph\n",
        "        return self.model(imgs)\n",
        "\n",
        "    def configure_optimizers(self):\n",
        "        # We will support Adam or SGD as optimizers.\n",
        "        if self.hparams.optimizer_name == \"Adam\":\n",
        "            # AdamW is Adam with a correct implementation of weight decay (see here\n",
        "            # for details: https://arxiv.org/pdf/1711.05101.pdf)\n",
        "            optimizer = optim.AdamW(self.parameters(), **self.hparams.optimizer_hparams)\n",
        "        elif self.hparams.optimizer_name == \"SGD\":\n",
        "            optimizer = optim.SGD(self.parameters(), **self.hparams.optimizer_hparams)\n",
        "        else:\n",
        "            assert False, f'Unknown optimizer: \"{self.hparams.optimizer_name}\"'\n",
        "\n",
        "        # We will reduce the learning rate by 0.1 after 100 and 150 epochs\n",
        "        scheduler = optim.lr_scheduler.MultiStepLR(optimizer, milestones=[100, 150], gamma=0.1)\n",
        "        return [optimizer], [scheduler]\n",
        "\n",
        "    def training_step(self, batch, batch_idx):\n",
        "        # \"batch\" is the output of the training data loader.\n",
        "        imgs, labels = batch\n",
        "        preds = self.model(imgs)\n",
        "        loss = self.loss_module(preds, labels)\n",
        "        acc = (preds.argmax(dim=-1) == labels).float().mean()\n",
        "\n",
        "        # Logs the accuracy per epoch to tensorboard (weighted average over batches)\n",
        "        self.log(\"train_acc\", acc, on_step=False, on_epoch=True)\n",
        "        self.log(\"train_loss\", loss)\n",
        "        return loss  # Return tensor to call \".backward\" on\n",
        "\n",
        "    def validation_step(self, batch, batch_idx):\n",
        "        imgs, labels = batch\n",
        "        preds = self.model(imgs).argmax(dim=-1)\n",
        "        acc = (labels == preds).float().mean()\n",
        "        # By default logs it per epoch (weighted average over batches)\n",
        "        self.log(\"val_acc\", acc)\n",
        "\n",
        "    def test_step(self, batch, batch_idx):\n",
        "        imgs, labels = batch\n",
        "        preds = self.model(imgs).argmax(dim=-1)\n",
        "        acc = (labels == preds).float().mean()\n",
        "        # By default logs it per epoch (weighted average over batches), and returns it afterwards\n",
        "        self.log(\"test_acc\", acc)"
      ]
    },
    {
      "attachments": {},
      "cell_type": "markdown",
      "id": "be6d6e25",
      "metadata": {
        "id": "be6d6e25",
        "papermill": {
          "duration": 0.011678,
          "end_time": "2023-03-24T16:00:29.015327",
          "exception": false,
          "start_time": "2023-03-24T16:00:29.003649",
          "status": "completed"
        },
        "tags": []
      },
      "source": [
        "We see that the code is organized and clear, which helps if someone else tries to understand your code.\n",
        "\n",
        "Another important part of PyTorch Lightning is the concept of callbacks.\n",
        "Callbacks are self-contained functions that contain the non-essential logic of your Lightning Module.\n",
        "They are usually called after finishing a training epoch, but can also influence other parts of your training loop.\n",
        "For instance, we will use the following two pre-defined callbacks: `LearningRateMonitor` and `ModelCheckpoint`.\n",
        "The learning rate monitor adds the current learning rate to our TensorBoard, which helps to verify that our learning rate scheduler works correctly.\n",
        "The model checkpoint callback allows you to customize the saving routine of your checkpoints.\n",
        "For instance, how many checkpoints to keep, when to save, which metric to look out for, etc.\n",
        "We import them below:"
      ]
    },
    {
      "cell_type": "code",
      "execution_count": null,
      "id": "96075d7e",
      "metadata": {
        "execution": {
          "iopub.execute_input": "2023-03-24T16:00:29.040030Z",
          "iopub.status.busy": "2023-03-24T16:00:29.039726Z",
          "iopub.status.idle": "2023-03-24T16:00:29.043766Z",
          "shell.execute_reply": "2023-03-24T16:00:29.042912Z"
        },
        "id": "96075d7e",
        "papermill": {
          "duration": 0.017992,
          "end_time": "2023-03-24T16:00:29.045066",
          "exception": false,
          "start_time": "2023-03-24T16:00:29.027074",
          "status": "completed"
        },
        "tags": []
      },
      "outputs": [],
      "source": [
        "# Callbacks"
      ]
    },
    {
      "attachments": {},
      "cell_type": "markdown",
      "id": "468d5806",
      "metadata": {
        "id": "468d5806",
        "papermill": {
          "duration": 0.011796,
          "end_time": "2023-03-24T16:00:29.071981",
          "exception": false,
          "start_time": "2023-03-24T16:00:29.060185",
          "status": "completed"
        },
        "tags": []
      },
      "source": [
        "To allow running multiple different models with the same Lightning module, we define a function below that maps a model name to the model class.\n",
        "At this stage, the dictionary `model_dict` is empty, but we will fill it throughout the notebook with our new models."
      ]
    },
    {
      "cell_type": "code",
      "execution_count": null,
      "id": "8648587d",
      "metadata": {
        "execution": {
          "iopub.execute_input": "2023-03-24T16:00:29.096627Z",
          "iopub.status.busy": "2023-03-24T16:00:29.096396Z",
          "iopub.status.idle": "2023-03-24T16:00:29.101652Z",
          "shell.execute_reply": "2023-03-24T16:00:29.100640Z"
        },
        "id": "8648587d",
        "papermill": {
          "duration": 0.019601,
          "end_time": "2023-03-24T16:00:29.103373",
          "exception": false,
          "start_time": "2023-03-24T16:00:29.083772",
          "status": "completed"
        },
        "tags": []
      },
      "outputs": [],
      "source": [
        "model_dict = {}\n",
        "\n",
        "\n",
        "def create_model(model_name, model_hparams):\n",
        "    if model_name in model_dict:\n",
        "        return model_dict[model_name](**model_hparams)\n",
        "    else:\n",
        "        assert False, f'Unknown model name \"{model_name}\". Available models are: {str(model_dict.keys())}'"
      ]
    },
    {
      "attachments": {},
      "cell_type": "markdown",
      "id": "10da3484",
      "metadata": {
        "id": "10da3484",
        "papermill": {
          "duration": 0.011743,
          "end_time": "2023-03-24T16:00:29.129490",
          "exception": false,
          "start_time": "2023-03-24T16:00:29.117747",
          "status": "completed"
        },
        "tags": []
      },
      "source": [
        "Similarly, to use the activation function as another hyperparameter in\n",
        "our model, we define a \"name to function\" dict below:"
      ]
    },
    {
      "cell_type": "code",
      "execution_count": null,
      "id": "49b00346",
      "metadata": {
        "execution": {
          "iopub.execute_input": "2023-03-24T16:00:29.155016Z",
          "iopub.status.busy": "2023-03-24T16:00:29.154154Z",
          "iopub.status.idle": "2023-03-24T16:00:29.159834Z",
          "shell.execute_reply": "2023-03-24T16:00:29.158759Z"
        },
        "id": "49b00346",
        "papermill": {
          "duration": 0.020394,
          "end_time": "2023-03-24T16:00:29.161651",
          "exception": false,
          "start_time": "2023-03-24T16:00:29.141257",
          "status": "completed"
        },
        "tags": []
      },
      "outputs": [],
      "source": [
        "act_fn_by_name = {\"tanh\": nn.Tanh, \"relu\": nn.ReLU, \"leakyrelu\": nn.LeakyReLU, \"gelu\": nn.GELU}"
      ]
    },
    {
      "attachments": {},
      "cell_type": "markdown",
      "id": "b82cc787",
      "metadata": {
        "id": "b82cc787",
        "lines_to_next_cell": 2,
        "papermill": {
          "duration": 0.011832,
          "end_time": "2023-03-24T16:00:29.188309",
          "exception": false,
          "start_time": "2023-03-24T16:00:29.176477",
          "status": "completed"
        },
        "tags": []
      },
      "source": [
        "If we pass the classes or objects directly as an argument to the Lightning module, we couldn't take advantage of PyTorch Lightning's automatically hyperparameter saving and loading.\n",
        "\n",
        "Besides the Lightning module, the second most important module in PyTorch Lightning is the `Trainer`.\n",
        "The trainer is responsible to execute the training steps defined in the Lightning module and completes the framework.\n",
        "Similar to the Lightning module, you can override any key part that you don't want to be automated, but the default settings are often the best practice to do.\n",
        "For a full overview, see the [documentation](https://lightning.ai/docs/pytorch/stable/common/trainer.html).\n",
        "The most important functions we use below are:\n",
        "\n",
        "* `trainer.fit`: Takes as input a lightning module, a training dataset, and an (optional) validation dataset.\n",
        "This function trains the given module on the training dataset with occasional validation (default once per epoch, can be changed)\n",
        "* `trainer.test`: Takes as input a model and a dataset on which we want to test.\n",
        "It returns the test metric on the dataset.\n",
        "\n",
        "For training and testing, we don't have to worry about things like setting the model to eval mode (`model.eval()`) as this is all done automatically.\n",
        "See below how we define a training function for our models:"
      ]
    },
    {
      "cell_type": "code",
      "execution_count": null,
      "id": "69424420",
      "metadata": {
        "execution": {
          "iopub.execute_input": "2023-03-24T16:00:29.213221Z",
          "iopub.status.busy": "2023-03-24T16:00:29.212854Z",
          "iopub.status.idle": "2023-03-24T16:00:29.222956Z",
          "shell.execute_reply": "2023-03-24T16:00:29.222087Z"
        },
        "id": "69424420",
        "lines_to_next_cell": 2,
        "papermill": {
          "duration": 0.02506,
          "end_time": "2023-03-24T16:00:29.225239",
          "exception": false,
          "start_time": "2023-03-24T16:00:29.200179",
          "status": "completed"
        },
        "tags": []
      },
      "outputs": [],
      "source": [
        "def train_model(model_name, save_name=None, **kwargs):\n",
        "    \"\"\"Train model.\n",
        "\n",
        "    Args:\n",
        "        model_name: Name of the model you want to run. Is used to look up the class in \"model_dict\"\n",
        "        save_name (optional): If specified, this name will be used for creating the checkpoint and logging directory.\n",
        "    \"\"\"\n",
        "    if save_name is None:\n",
        "        save_name = model_name\n",
        "\n",
        "    # Create a PyTorch Lightning trainer with the generation callback\n",
        "    trainer = L.Trainer(\n",
        "        default_root_dir=os.path.join(CHECKPOINT_PATH, save_name),  # Where to save models\n",
        "        # We run on a single GPU (if possible)\n",
        "        accelerator=\"auto\",\n",
        "        devices=1,\n",
        "        # How many epochs to train for if no patience is set\n",
        "        max_epochs=180,\n",
        "        callbacks=[\n",
        "            ModelCheckpoint(\n",
        "                save_weights_only=True, mode=\"max\", monitor=\"val_acc\"\n",
        "            ),  # Save the best checkpoint based on the maximum val_acc recorded. Saves only weights and not optimizer\n",
        "            LearningRateMonitor(\"epoch\"),\n",
        "        ],  # Log learning rate every epoch\n",
        "    )  # In case your notebook crashes due to the progress bar, consider increasing the refresh rate\n",
        "    trainer.logger._log_graph = True  # If True, we plot the computation graph in tensorboard\n",
        "    trainer.logger._default_hp_metric = None  # Optional logging argument that we don't need\n",
        "\n",
        "    # Check whether pretrained model exists. If yes, load it and skip training\n",
        "    pretrained_filename = os.path.join(CHECKPOINT_PATH, save_name + \".ckpt\")\n",
        "    if os.path.isfile(pretrained_filename):\n",
        "        print(f\"Found pretrained model at {pretrained_filename}, loading...\")\n",
        "        # Automatically loads the model with the saved hyperparameters\n",
        "        model = ERMModule.load_from_checkpoint(pretrained_filename)\n",
        "    else:\n",
        "        L.seed_everything(42)  # To be reproducable\n",
        "        model = ERMModule(model_name=model_name, **kwargs)\n",
        "        trainer.fit(model, train_loader, val_loader)\n",
        "        model = ERMModule.load_from_checkpoint(\n",
        "            trainer.checkpoint_callback.best_model_path\n",
        "        )  # Load best checkpoint after training\n",
        "\n",
        "    # Test best model on validation and test set\n",
        "    val_result = trainer.test(model, dataloaders=val_loader, verbose=False)\n",
        "    test_result = trainer.test(model, dataloaders=test_loader, verbose=False)\n",
        "    result = {\"test\": test_result[0][\"test_acc\"], \"val\": val_result[0][\"test_acc\"]}\n",
        "\n",
        "    return model, result"
      ]
    },
    {
      "attachments": {},
      "cell_type": "markdown",
      "id": "33d0a74b",
      "metadata": {
        "id": "33d0a74b",
        "papermill": {
          "duration": 0.011872,
          "end_time": "2023-03-24T16:00:29.254079",
          "exception": false,
          "start_time": "2023-03-24T16:00:29.242207",
          "status": "completed"
        },
        "tags": []
      },
      "source": [
        "Finally, we can focus on the Convolutional Neural Networks we want to\n",
        "implement today: GoogleNet, ResNet, and DenseNet."
      ]
    },
    {
      "attachments": {},
      "cell_type": "markdown",
      "id": "2245efaa",
      "metadata": {
        "id": "2245efaa",
        "lines_to_next_cell": 2,
        "papermill": {
          "duration": 0.012045,
          "end_time": "2023-03-24T16:00:29.278027",
          "exception": false,
          "start_time": "2023-03-24T16:00:29.265982",
          "status": "completed"
        },
        "tags": []
      },
      "source": [
        "## Inception\n",
        "\n",
        "<div class=\"center-wrapper\"><div class=\"video-wrapper\"><iframe src=\"https://www.youtube.com/embed/9yRXqYJDHr4\" title=\"YouTube video player\" frameborder=\"0\" allow=\"accelerometer; autoplay; clipboard-write; encrypted-media; gyroscope; picture-in-picture\" allowfullscreen></iframe></div></div>\n",
        "\n",
        "The [GoogleNet](https://arxiv.org/abs/1409.4842), proposed in 2014, won the ImageNet Challenge because of its usage of the Inception modules.\n",
        "In general, we will mainly focus on the concept of Inception in this tutorial instead of the specifics of the GoogleNet, as based on Inception, there have been many follow-up works ([Inception-v2](https://arxiv.org/abs/1512.00567), [Inception-v3](https://arxiv.org/abs/1512.00567), [Inception-v4](https://arxiv.org/abs/1602.07261), [Inception-ResNet](https://arxiv.org/abs/1602.07261),...).\n",
        "The follow-up works mainly focus on increasing efficiency and enabling very deep Inception networks.\n",
        "However, for a fundamental understanding, it is sufficient to look at the original Inception block.\n",
        "\n",
        "An Inception block applies four convolution blocks separately on the same feature map: a 1x1, 3x3, and 5x5 convolution, and a max pool operation.\n",
        "This allows the network to look at the same data with different receptive fields.\n",
        "Of course, learning only 5x5 convolution would be theoretically more powerful.\n",
        "However, this is not only more computation and memory heavy but also tends to overfit much easier.\n",
        "The overall inception block looks like below (figure credit - [Szegedy et al. ](https://arxiv.org/abs/1409.4842)):\n",
        "\n",
        "<center width=\"100%\"><img src=\"https://github.com/Lightning-AI/lightning-tutorials/raw/main/course_UvA-DL/04-inception-resnet-densenet/inception_block.svg\" style=\"display: block; margin-left: auto; margin-right: auto;\" width=\"500px\"/></center>\n",
        "\n",
        "The additional 1x1 convolutions before the 3x3 and 5x5 convolutions are used for dimensionality reduction.\n",
        "This is especially crucial as the feature maps of all branches are merged afterward, and we don't want any explosion of feature size.\n",
        "As 5x5 convolutions are 25 times more expensive than 1x1 convolutions, we can save a lot of computation and parameters by reducing the dimensionality before the large convolutions.\n",
        "\n",
        "We can now try to implement the Inception Block ourselves:"
      ]
    },
    {
      "cell_type": "code",
      "execution_count": null,
      "id": "a332999d",
      "metadata": {
        "execution": {
          "iopub.execute_input": "2023-03-24T16:00:29.303711Z",
          "iopub.status.busy": "2023-03-24T16:00:29.303339Z",
          "iopub.status.idle": "2023-03-24T16:00:29.316713Z",
          "shell.execute_reply": "2023-03-24T16:00:29.315888Z"
        },
        "id": "a332999d",
        "lines_to_next_cell": 2,
        "papermill": {
          "duration": 0.028772,
          "end_time": "2023-03-24T16:00:29.318963",
          "exception": false,
          "start_time": "2023-03-24T16:00:29.290191",
          "status": "completed"
        },
        "tags": []
      },
      "outputs": [],
      "source": [
        "class InceptionBlock(nn.Module):\n",
        "    def __init__(self, c_in, c_red: dict, c_out: dict, act_fn):\n",
        "        \"\"\"InceptionBlock.\n",
        "\n",
        "        Args:\n",
        "            c_in: Number of input feature maps from the previous layers\n",
        "            c_red: Dictionary with keys \"3x3\" and \"5x5\" specifying the output of the dimensionality reducing 1x1 convolutions\n",
        "            c_out: Dictionary with keys \"1x1\", \"3x3\", \"5x5\", and \"max\"\n",
        "            act_fn: Activation class constructor (e.g. nn.ReLU)\n",
        "        \"\"\"\n",
        "        super().__init__()\n",
        "\n",
        "        # 1x1 convolution branch\n",
        "        self.conv_1x1 = nn.Sequential(\n",
        "            nn.Conv2d(c_in, c_out[\"1x1\"], kernel_size=1), nn.BatchNorm2d(c_out[\"1x1\"]), act_fn()\n",
        "        )\n",
        "\n",
        "        # 3x3 convolution branch\n",
        "        self.conv_3x3 = nn.Sequential(\n",
        "            nn.Conv2d(c_in, c_red[\"3x3\"], kernel_size=1),\n",
        "            nn.BatchNorm2d(c_red[\"3x3\"]),\n",
        "            act_fn(),\n",
        "            nn.Conv2d(c_red[\"3x3\"], c_out[\"3x3\"], kernel_size=3, padding=1),\n",
        "            nn.BatchNorm2d(c_out[\"3x3\"]),\n",
        "            act_fn(),\n",
        "        )\n",
        "\n",
        "        # 5x5 convolution branch\n",
        "        self.conv_5x5 = nn.Sequential(\n",
        "            nn.Conv2d(c_in, c_red[\"5x5\"], kernel_size=1),\n",
        "            nn.BatchNorm2d(c_red[\"5x5\"]),\n",
        "            act_fn(),\n",
        "            nn.Conv2d(c_red[\"5x5\"], c_out[\"5x5\"], kernel_size=5, padding=2),\n",
        "            nn.BatchNorm2d(c_out[\"5x5\"]),\n",
        "            act_fn(),\n",
        "        )\n",
        "\n",
        "        # Max-pool branch\n",
        "        self.max_pool = nn.Sequential(\n",
        "            nn.MaxPool2d(kernel_size=3, padding=1, stride=1),\n",
        "            nn.Conv2d(c_in, c_out[\"max\"], kernel_size=1),\n",
        "            nn.BatchNorm2d(c_out[\"max\"]),\n",
        "            act_fn(),\n",
        "        )\n",
        "\n",
        "    def forward(self, x):\n",
        "        x_1x1 = self.conv_1x1(x)\n",
        "        x_3x3 = self.conv_3x3(x)\n",
        "        x_5x5 = self.conv_5x5(x)\n",
        "        x_max = self.max_pool(x)\n",
        "        x_out = torch.cat([x_1x1, x_3x3, x_5x5, x_max], dim=1)\n",
        "        return x_out"
      ]
    },
    {
      "attachments": {},
      "cell_type": "markdown",
      "id": "057daed6",
      "metadata": {
        "id": "057daed6",
        "lines_to_next_cell": 2,
        "papermill": {
          "duration": 0.011921,
          "end_time": "2023-03-24T16:00:29.347848",
          "exception": false,
          "start_time": "2023-03-24T16:00:29.335927",
          "status": "completed"
        },
        "tags": []
      },
      "source": [
        "The GoogleNet architecture consists of stacking multiple Inception blocks with occasional max pooling to reduce the height and width of the feature maps.\n",
        "The original GoogleNet was designed for image sizes of ImageNet (224x224 pixels) and had almost 7 million parameters.\n",
        "As we train on CIFAR10 with image sizes of 32x32, we don't require such a heavy architecture, and instead, apply a reduced version.\n",
        "The number of channels for dimensionality reduction and output per filter (1x1, 3x3, 5x5, and max pooling) need to be manually specified and can be changed if interested.\n",
        "The general intuition is to have the most filters for the 3x3\n",
        "convolutions, as they are powerful enough to take the context into\n",
        "account while requiring almost a third of the parameters of the 5x5\n",
        "convolution."
      ]
    },
    {
      "cell_type": "code",
      "execution_count": null,
      "id": "7a5f5f4f",
      "metadata": {
        "execution": {
          "iopub.execute_input": "2023-03-24T16:00:29.373260Z",
          "iopub.status.busy": "2023-03-24T16:00:29.372906Z",
          "iopub.status.idle": "2023-03-24T16:00:29.392170Z",
          "shell.execute_reply": "2023-03-24T16:00:29.391229Z"
        },
        "id": "7a5f5f4f",
        "papermill": {
          "duration": 0.034804,
          "end_time": "2023-03-24T16:00:29.394612",
          "exception": false,
          "start_time": "2023-03-24T16:00:29.359808",
          "status": "completed"
        },
        "tags": []
      },
      "outputs": [],
      "source": [
        "class GoogleNet(nn.Module):\n",
        "    def __init__(self, num_classes=10, act_fn_name=\"relu\", **kwargs):\n",
        "        super().__init__()\n",
        "        self.hparams = SimpleNamespace(\n",
        "            num_classes=num_classes, act_fn_name=act_fn_name, act_fn=act_fn_by_name[act_fn_name]\n",
        "        )\n",
        "        self._create_network()\n",
        "        self._init_params()\n",
        "\n",
        "    def _create_network(self):\n",
        "        # A first convolution on the original image to scale up the channel size\n",
        "        self.input_net = nn.Sequential(\n",
        "            nn.Conv2d(3, 64, kernel_size=3, padding=1), nn.BatchNorm2d(64), self.hparams.act_fn()\n",
        "        )\n",
        "        # Stacking inception blocks\n",
        "        self.inception_blocks = nn.Sequential(\n",
        "            InceptionBlock(\n",
        "                64,\n",
        "                c_red={\"3x3\": 32, \"5x5\": 16},\n",
        "                c_out={\"1x1\": 16, \"3x3\": 32, \"5x5\": 8, \"max\": 8},\n",
        "                act_fn=self.hparams.act_fn,\n",
        "            ),\n",
        "            InceptionBlock(\n",
        "                64,\n",
        "                c_red={\"3x3\": 32, \"5x5\": 16},\n",
        "                c_out={\"1x1\": 24, \"3x3\": 48, \"5x5\": 12, \"max\": 12},\n",
        "                act_fn=self.hparams.act_fn,\n",
        "            ),\n",
        "            nn.MaxPool2d(3, stride=2, padding=1),  # 32x32 => 16x16\n",
        "            InceptionBlock(\n",
        "                96,\n",
        "                c_red={\"3x3\": 32, \"5x5\": 16},\n",
        "                c_out={\"1x1\": 24, \"3x3\": 48, \"5x5\": 12, \"max\": 12},\n",
        "                act_fn=self.hparams.act_fn,\n",
        "            ),\n",
        "            InceptionBlock(\n",
        "                96,\n",
        "                c_red={\"3x3\": 32, \"5x5\": 16},\n",
        "                c_out={\"1x1\": 16, \"3x3\": 48, \"5x5\": 16, \"max\": 16},\n",
        "                act_fn=self.hparams.act_fn,\n",
        "            ),\n",
        "            InceptionBlock(\n",
        "                96,\n",
        "                c_red={\"3x3\": 32, \"5x5\": 16},\n",
        "                c_out={\"1x1\": 16, \"3x3\": 48, \"5x5\": 16, \"max\": 16},\n",
        "                act_fn=self.hparams.act_fn,\n",
        "            ),\n",
        "            InceptionBlock(\n",
        "                96,\n",
        "                c_red={\"3x3\": 32, \"5x5\": 16},\n",
        "                c_out={\"1x1\": 32, \"3x3\": 48, \"5x5\": 24, \"max\": 24},\n",
        "                act_fn=self.hparams.act_fn,\n",
        "            ),\n",
        "            nn.MaxPool2d(3, stride=2, padding=1),  # 16x16 => 8x8\n",
        "            InceptionBlock(\n",
        "                128,\n",
        "                c_red={\"3x3\": 48, \"5x5\": 16},\n",
        "                c_out={\"1x1\": 32, \"3x3\": 64, \"5x5\": 16, \"max\": 16},\n",
        "                act_fn=self.hparams.act_fn,\n",
        "            ),\n",
        "            InceptionBlock(\n",
        "                128,\n",
        "                c_red={\"3x3\": 48, \"5x5\": 16},\n",
        "                c_out={\"1x1\": 32, \"3x3\": 64, \"5x5\": 16, \"max\": 16},\n",
        "                act_fn=self.hparams.act_fn,\n",
        "            ),\n",
        "        )\n",
        "        # Mapping to classification output\n",
        "        self.output_net = nn.Sequential(\n",
        "            nn.AdaptiveAvgPool2d((1, 1)), nn.Flatten(), nn.Linear(128, self.hparams.num_classes)\n",
        "        )\n",
        "\n",
        "    def _init_params(self):\n",
        "        # Based on our discussion in Tutorial 4, we should initialize the\n",
        "        # convolutions according to the activation function\n",
        "        for m in self.modules():\n",
        "            if isinstance(m, nn.Conv2d):\n",
        "                nn.init.kaiming_normal_(m.weight, nonlinearity=self.hparams.act_fn_name)\n",
        "            elif isinstance(m, nn.BatchNorm2d):\n",
        "                nn.init.constant_(m.weight, 1)\n",
        "                nn.init.constant_(m.bias, 0)\n",
        "\n",
        "    def forward(self, x):\n",
        "        x = self.input_net(x)\n",
        "        x = self.inception_blocks(x)\n",
        "        x = self.output_net(x)\n",
        "        return x"
      ]
    },
    {
      "attachments": {},
      "cell_type": "markdown",
      "id": "fa2ebc1c",
      "metadata": {
        "id": "fa2ebc1c",
        "papermill": {
          "duration": 0.011903,
          "end_time": "2023-03-24T16:00:29.423965",
          "exception": false,
          "start_time": "2023-03-24T16:00:29.412062",
          "status": "completed"
        },
        "tags": []
      },
      "source": [
        "Now, we can integrate our model to the model dictionary we defined above:"
      ]
    },
    {
      "cell_type": "code",
      "execution_count": null,
      "id": "1318b0cc",
      "metadata": {
        "execution": {
          "iopub.execute_input": "2023-03-24T16:00:29.448820Z",
          "iopub.status.busy": "2023-03-24T16:00:29.448592Z",
          "iopub.status.idle": "2023-03-24T16:00:29.452965Z",
          "shell.execute_reply": "2023-03-24T16:00:29.451981Z"
        },
        "id": "1318b0cc",
        "papermill": {
          "duration": 0.018538,
          "end_time": "2023-03-24T16:00:29.454413",
          "exception": false,
          "start_time": "2023-03-24T16:00:29.435875",
          "status": "completed"
        },
        "tags": []
      },
      "outputs": [],
      "source": [
        "model_dict[\"GoogleNet\"] = GoogleNet"
      ]
    },
    {
      "attachments": {},
      "cell_type": "markdown",
      "id": "3e3b1762",
      "metadata": {
        "id": "3e3b1762",
        "papermill": {
          "duration": 0.011932,
          "end_time": "2023-03-24T16:00:29.480723",
          "exception": false,
          "start_time": "2023-03-24T16:00:29.468791",
          "status": "completed"
        },
        "tags": []
      },
      "source": [
        "The training of the model is handled by PyTorch Lightning, and we just have to define the command to start.\n",
        "Note that we train for almost 200 epochs, which takes about an hour on Lisa's default GPUs (GTX1080Ti).\n",
        "We would recommend using the saved models and train your own model if you are interested."
      ]
    },
    {
      "cell_type": "code",
      "execution_count": null,
      "id": "97fca2f0",
      "metadata": {
        "execution": {
          "iopub.execute_input": "2023-03-24T16:00:29.505812Z",
          "iopub.status.busy": "2023-03-24T16:00:29.505455Z",
          "iopub.status.idle": "2023-03-24T16:00:36.512678Z",
          "shell.execute_reply": "2023-03-24T16:00:36.511315Z"
        },
        "id": "97fca2f0",
        "papermill": {
          "duration": 7.022829,
          "end_time": "2023-03-24T16:00:36.515497",
          "exception": false,
          "start_time": "2023-03-24T16:00:29.492668",
          "status": "completed"
        },
        "tags": []
      },
      "outputs": [],
      "source": [
        "googlenet_model, googlenet_results = train_model(\n",
        "    model_name=\"GoogleNet\",\n",
        "    model_hparams={\"num_classes\": 10, \"act_fn_name\": \"relu\"},\n",
        "    optimizer_name=\"Adam\",\n",
        "    optimizer_hparams={\"lr\": 1e-3, \"weight_decay\": 1e-4},\n",
        ")"
      ]
    },
    {
      "attachments": {},
      "cell_type": "markdown",
      "id": "08cb7468",
      "metadata": {
        "id": "08cb7468",
        "papermill": {
          "duration": 0.013199,
          "end_time": "2023-03-24T16:00:36.546696",
          "exception": false,
          "start_time": "2023-03-24T16:00:36.533497",
          "status": "completed"
        },
        "tags": []
      },
      "source": [
        "We will compare the results later in the notebooks, but we can already print them here for a first glance:"
      ]
    },
    {
      "cell_type": "code",
      "execution_count": null,
      "id": "3390f515",
      "metadata": {
        "execution": {
          "iopub.execute_input": "2023-03-24T16:00:36.574620Z",
          "iopub.status.busy": "2023-03-24T16:00:36.573994Z",
          "iopub.status.idle": "2023-03-24T16:00:36.580867Z",
          "shell.execute_reply": "2023-03-24T16:00:36.579738Z"
        },
        "id": "3390f515",
        "papermill": {
          "duration": 0.022894,
          "end_time": "2023-03-24T16:00:36.582543",
          "exception": false,
          "start_time": "2023-03-24T16:00:36.559649",
          "status": "completed"
        },
        "tags": []
      },
      "outputs": [],
      "source": [
        "print(\"GoogleNet Results\", googlenet_results)"
      ]
    },
    {
      "attachments": {},
      "cell_type": "markdown",
      "id": "a5a54542",
      "metadata": {
        "id": "a5a54542",
        "papermill": {
          "duration": 0.012808,
          "end_time": "2023-03-24T16:00:36.611955",
          "exception": false,
          "start_time": "2023-03-24T16:00:36.599147",
          "status": "completed"
        },
        "tags": []
      },
      "source": [
        "### Tensorboard log\n",
        "\n",
        "A nice extra of PyTorch Lightning is the automatic logging into TensorBoard.\n",
        "To give you a better intuition of what TensorBoard can be used, we can look at the board that PyTorch Lightning has been generated when training the GoogleNet.\n",
        "TensorBoard provides an inline functionality for Jupyter notebooks, and we use it here:"
      ]
    },
    {
      "cell_type": "code",
      "execution_count": null,
      "id": "92e2e45f",
      "metadata": {
        "execution": {
          "iopub.execute_input": "2023-03-24T16:00:36.638972Z",
          "iopub.status.busy": "2023-03-24T16:00:36.638602Z",
          "iopub.status.idle": "2023-03-24T16:00:36.645229Z",
          "shell.execute_reply": "2023-03-24T16:00:36.644412Z"
        },
        "id": "92e2e45f",
        "papermill": {
          "duration": 0.021803,
          "end_time": "2023-03-24T16:00:36.646575",
          "exception": false,
          "start_time": "2023-03-24T16:00:36.624772",
          "status": "completed"
        },
        "tags": []
      },
      "outputs": [],
      "source": [
        "# Import tensorboard\n",
        "%load_ext tensorboard"
      ]
    },
    {
      "cell_type": "code",
      "execution_count": null,
      "id": "4f8739f9",
      "metadata": {
        "execution": {
          "iopub.execute_input": "2023-03-24T16:00:36.680917Z",
          "iopub.status.busy": "2023-03-24T16:00:36.679978Z",
          "iopub.status.idle": "2023-03-24T16:00:37.822422Z",
          "shell.execute_reply": "2023-03-24T16:00:37.820997Z"
        },
        "id": "4f8739f9",
        "papermill": {
          "duration": 1.159001,
          "end_time": "2023-03-24T16:00:37.825218",
          "exception": false,
          "start_time": "2023-03-24T16:00:36.666217",
          "status": "completed"
        },
        "tags": []
      },
      "outputs": [],
      "source": [
        "# Opens tensorboard in notebook. Adjust the path to your CHECKPOINT_PATH!\n",
        "%tensorboard --logdir ../saved_models/tutorial5/tensorboards/GoogleNet/"
      ]
    },
    {
      "attachments": {},
      "cell_type": "markdown",
      "id": "ab68bd04",
      "metadata": {
        "id": "ab68bd04",
        "papermill": {
          "duration": 0.01454,
          "end_time": "2023-03-24T16:00:37.856985",
          "exception": false,
          "start_time": "2023-03-24T16:00:37.842445",
          "status": "completed"
        },
        "tags": []
      },
      "source": [
        "<center width=\"100%\"><img src=\"https://github.com/Lightning-AI/lightning-tutorials/raw/main/course_UvA-DL/04-inception-resnet-densenet/tensorboard_screenshot_GoogleNet.png\" width=\"1000px\"></center>\n",
        "\n",
        "TensorBoard is organized in multiple tabs.\n",
        "The main tab is the scalar tab where we can log the development of single numbers.\n",
        "For example, we have plotted the training loss, accuracy, learning rate, etc.\n",
        "If we look at the training or validation accuracy, we can really see the impact of using a learning rate scheduler.\n",
        "Reducing the learning rate gives our model a nice increase in training performance.\n",
        "Similarly, when looking at the training loss, we see a sudden decrease at this point.\n",
        "However, the high numbers on the training set compared to validation indicate that our model was overfitting which is inevitable for such large networks.\n",
        "\n",
        "Another interesting tab in TensorBoard is the graph tab.\n",
        "It shows us the network architecture organized by building blocks from the input to the output.\n",
        "It basically shows the operations taken in the forward step of `ERMModule`.\n",
        "Double-click on a module to open it.\n",
        "Feel free to explore the architecture from a different perspective.\n",
        "The graph visualization can often help you to validate that your model\n",
        "is actually doing what it is supposed to do, and you don't miss any\n",
        "layers in the computation graph."
      ]
    },
    {
      "attachments": {},
      "cell_type": "markdown",
      "id": "e05596e6",
      "metadata": {
        "id": "e05596e6",
        "papermill": {
          "duration": 0.013053,
          "end_time": "2023-03-24T16:00:37.883412",
          "exception": false,
          "start_time": "2023-03-24T16:00:37.870359",
          "status": "completed"
        },
        "tags": []
      },
      "source": [
        "## ResNet\n",
        "\n",
        "The [ResNet](https://arxiv.org/abs/1512.03385) paper is one of the  [most cited AI papers](https://www.natureindex.com/news-blog/google-scholar-reveals-most-influential-papers-research-citations-twenty-twenty), and has been the foundation for neural networks with more than 1,000 layers.\n",
        "Despite its simplicity, the idea of residual connections is highly effective as it supports stable gradient propagation through the network.\n",
        "Instead of modeling $x_{l+1}=F(x_{l})$, we model $x_{l+1}=x_{l}+F(x_{l})$ where $F$ is a non-linear mapping (usually a sequence of NN modules likes convolutions, activation functions, and normalizations).\n",
        "If we do backpropagation on such residual connections, we obtain:\n",
        "\n",
        "$$\\frac{\\partial x_{l+1}}{\\partial x_{l}} = \\mathbf{I} + \\frac{\\partial F(x_{l})}{\\partial x_{l}}$$\n",
        "\n",
        "The bias towards the identity matrix guarantees a stable gradient propagation being less effected by $F$ itself.\n",
        "There have been many variants of ResNet proposed, which mostly concern the function $F$, or operations applied on the sum.\n",
        "In this tutorial, we look at two of them: the original ResNet block, and the [Pre-Activation ResNet block](https://arxiv.org/abs/1603.05027).\n",
        "We visually compare the blocks below (figure credit - [He et al. ](https://arxiv.org/abs/1603.05027)):\n",
        "\n",
        "<center width=\"100%\"><img src=\"https://github.com/Lightning-AI/lightning-tutorials/raw/main/course_UvA-DL/04-inception-resnet-densenet/resnet_block.svg\" style=\"display: block; margin-left: auto; margin-right: auto;\" width=\"300px\"/></center>\n",
        "\n",
        "The original ResNet block applies a non-linear activation function, usually ReLU, after the skip connection.\n",
        "In contrast, the pre-activation ResNet block applies the non-linearity at the beginning of $F$.\n",
        "Both have their advantages and disadvantages.\n",
        "For very deep network, however, the pre-activation ResNet has shown to perform better as the gradient flow is guaranteed to have the identity matrix as calculated above, and is not harmed by any non-linear activation applied to it.\n",
        "For comparison, in this notebook, we implement both ResNet types as shallow networks.\n",
        "\n",
        "Let's start with the original ResNet block.\n",
        "The visualization above already shows what layers are included in $F$.\n",
        "One special case we have to handle is when we want to reduce the image dimensions in terms of width and height.\n",
        "The basic ResNet block requires $F(x_{l})$ to be of the same shape as $x_{l}$.\n",
        "Thus, we need to change the dimensionality of $x_{l}$ as well before adding to $F(x_{l})$.\n",
        "The original implementation used an identity mapping with stride 2 and padded additional feature dimensions with 0.\n",
        "However, the more common implementation is to use a 1x1 convolution with stride 2 as it allows us to change the feature dimensionality while being efficient in parameter and computation cost.\n",
        "The code for the ResNet block is relatively simple, and shown below:"
      ]
    },
    {
      "cell_type": "code",
      "execution_count": null,
      "id": "a564a260",
      "metadata": {
        "execution": {
          "iopub.execute_input": "2023-03-24T16:00:37.912088Z",
          "iopub.status.busy": "2023-03-24T16:00:37.911696Z",
          "iopub.status.idle": "2023-03-24T16:00:37.924206Z",
          "shell.execute_reply": "2023-03-24T16:00:37.923278Z"
        },
        "id": "a564a260",
        "lines_to_next_cell": 2,
        "papermill": {
          "duration": 0.029785,
          "end_time": "2023-03-24T16:00:37.926606",
          "exception": false,
          "start_time": "2023-03-24T16:00:37.896821",
          "status": "completed"
        },
        "tags": []
      },
      "outputs": [],
      "source": [
        "\n",
        "\n",
        "class ResNetBlock(nn.Module):\n",
        "    def __init__(self, c_in, act_fn, subsample=False, c_out=-1):\n",
        "        \"\"\"ResNetBlock.\n",
        "\n",
        "        Args:\n",
        "            c_in: Number of input features\n",
        "            act_fn: Activation class constructor (e.g. nn.ReLU)\n",
        "            subsample - If True, we want to apply a stride inside the block and reduce the output shape by 2 in height and width\n",
        "            c_out - Number of output features. Note that this is only relevant if subsample is True, as otherwise, c_out = c_in\n",
        "        \"\"\"\n",
        "        super().__init__()\n",
        "        if not subsample:\n",
        "            c_out = c_in\n",
        "\n",
        "        # Network representing F\n",
        "        self.net = nn.Sequential(\n",
        "            nn.Conv2d(\n",
        "                c_in, c_out, kernel_size=3, padding=1, stride=1 if not subsample else 2, bias=False\n",
        "            ),  # No bias needed as the Batch Norm handles it\n",
        "            nn.BatchNorm2d(c_out),\n",
        "            act_fn(),\n",
        "            nn.Conv2d(c_out, c_out, kernel_size=3, padding=1, bias=False),\n",
        "            nn.BatchNorm2d(c_out),\n",
        "        )\n",
        "\n",
        "        # 1x1 convolution with stride 2 means we take the upper left value, and transform it to new output size\n",
        "        self.downsample = nn.Conv2d(c_in, c_out, kernel_size=1, stride=2) if subsample else None\n",
        "        self.act_fn = act_fn()\n",
        "\n",
        "    def forward(self, x):\n",
        "        z = self.net(x)\n",
        "        if self.downsample is not None:\n",
        "            x = self.downsample(x)\n",
        "        out = z + x\n",
        "        out = self.act_fn(out)\n",
        "        return out"
      ]
    },
    {
      "attachments": {},
      "cell_type": "markdown",
      "id": "b0cd8db5",
      "metadata": {
        "id": "b0cd8db5",
        "lines_to_next_cell": 2,
        "papermill": {
          "duration": 0.013009,
          "end_time": "2023-03-24T16:00:37.957968",
          "exception": false,
          "start_time": "2023-03-24T16:00:37.944959",
          "status": "completed"
        },
        "tags": []
      },
      "source": [
        "The second block we implement is the pre-activation ResNet block.\n",
        "For this, we have to change the order of layer in `self.net`, and do not apply an activation function on the output.\n",
        "Additionally, the downsampling operation has to apply a non-linearity as well as the input, $x_l$, has not been processed by a non-linearity yet.\n",
        "Hence, the block looks as follows:"
      ]
    },
    {
      "cell_type": "code",
      "execution_count": null,
      "id": "485aa9b6",
      "metadata": {
        "execution": {
          "iopub.execute_input": "2023-03-24T16:00:37.985733Z",
          "iopub.status.busy": "2023-03-24T16:00:37.985363Z",
          "iopub.status.idle": "2023-03-24T16:00:37.997445Z",
          "shell.execute_reply": "2023-03-24T16:00:37.996528Z"
        },
        "id": "485aa9b6",
        "papermill": {
          "duration": 0.028766,
          "end_time": "2023-03-24T16:00:37.999795",
          "exception": false,
          "start_time": "2023-03-24T16:00:37.971029",
          "status": "completed"
        },
        "tags": []
      },
      "outputs": [],
      "source": [
        "class PreActResNetBlock(nn.Module):\n",
        "    def __init__(self, c_in, act_fn, subsample=False, c_out=-1):\n",
        "        \"\"\"PreAct ResNet Block.\n",
        "\n",
        "        Args:\n",
        "            c_in - Number of input features\n",
        "            act_fn - Activation class constructor (e.g. nn.ReLU)\n",
        "            subsample - If True, we want to apply a stride inside the block and reduce the output shape by 2 in height and width\n",
        "            c_out - Number of output features. Note that this is only relevant if subsample is True, as otherwise, c_out = c_in\n",
        "        \"\"\"\n",
        "        super().__init__()\n",
        "        if not subsample:\n",
        "            c_out = c_in\n",
        "\n",
        "        # Network representing F\n",
        "        self.net = nn.Sequential(\n",
        "            nn.BatchNorm2d(c_in),\n",
        "            act_fn(),\n",
        "            nn.Conv2d(c_in, c_out, kernel_size=3, padding=1, stride=1 if not subsample else 2, bias=False),\n",
        "            nn.BatchNorm2d(c_out),\n",
        "            act_fn(),\n",
        "            nn.Conv2d(c_out, c_out, kernel_size=3, padding=1, bias=False),\n",
        "        )\n",
        "\n",
        "        # 1x1 convolution needs to apply non-linearity as well as not done on skip connection\n",
        "        self.downsample = (\n",
        "            nn.Sequential(nn.BatchNorm2d(c_in), act_fn(), nn.Conv2d(c_in, c_out, kernel_size=1, stride=2, bias=False))\n",
        "            if subsample\n",
        "            else None\n",
        "        )\n",
        "\n",
        "    def forward(self, x):\n",
        "        z = self.net(x)\n",
        "        if self.downsample is not None:\n",
        "            x = self.downsample(x)\n",
        "        out = z + x\n",
        "        return out"
      ]
    },
    {
      "attachments": {},
      "cell_type": "markdown",
      "id": "9a3e5271",
      "metadata": {
        "id": "9a3e5271",
        "papermill": {
          "duration": 0.013025,
          "end_time": "2023-03-24T16:00:38.032548",
          "exception": false,
          "start_time": "2023-03-24T16:00:38.019523",
          "status": "completed"
        },
        "tags": []
      },
      "source": [
        "Similarly to the model selection, we define a dictionary to create a mapping from string to block class.\n",
        "We will use the string name as hyperparameter value in our model to choose between the ResNet blocks.\n",
        "Feel free to implement any other ResNet block type and add it here as well."
      ]
    },
    {
      "cell_type": "code",
      "execution_count": null,
      "id": "cd5a0eab",
      "metadata": {
        "execution": {
          "iopub.execute_input": "2023-03-24T16:00:38.059980Z",
          "iopub.status.busy": "2023-03-24T16:00:38.059670Z",
          "iopub.status.idle": "2023-03-24T16:00:38.063697Z",
          "shell.execute_reply": "2023-03-24T16:00:38.062788Z"
        },
        "id": "cd5a0eab",
        "papermill": {
          "duration": 0.019739,
          "end_time": "2023-03-24T16:00:38.065354",
          "exception": false,
          "start_time": "2023-03-24T16:00:38.045615",
          "status": "completed"
        },
        "tags": []
      },
      "outputs": [],
      "source": [
        "resnet_blocks_by_name = {\"ResNetBlock\": ResNetBlock, \"PreActResNetBlock\": PreActResNetBlock}"
      ]
    },
    {
      "attachments": {},
      "cell_type": "markdown",
      "id": "c155a48f",
      "metadata": {
        "id": "c155a48f",
        "lines_to_next_cell": 2,
        "papermill": {
          "duration": 0.01309,
          "end_time": "2023-03-24T16:00:38.093416",
          "exception": false,
          "start_time": "2023-03-24T16:00:38.080326",
          "status": "completed"
        },
        "tags": []
      },
      "source": [
        "The overall ResNet architecture consists of stacking multiple ResNet blocks, of which some are downsampling the input.\n",
        "When talking about ResNet blocks in the whole network, we usually group them by the same output shape.\n",
        "Hence, if we say the ResNet has `[3,3,3]` blocks, it means that we have 3 times a group of 3 ResNet blocks, where a subsampling is taking place in the fourth and seventh block.\n",
        "The ResNet with `[3,3,3]` blocks on CIFAR10 is visualized below.\n",
        "\n",
        "<center width=\"100%\"><img src=\"https://github.com/Lightning-AI/lightning-tutorials/raw/main/course_UvA-DL/04-inception-resnet-densenet/resnet_notation.svg\" width=\"500px\"></center>\n",
        "\n",
        "The three groups operate on the resolutions $32\\times32$, $16\\times16$ and $8\\times8$ respectively.\n",
        "The blocks in orange denote ResNet blocks with downsampling.\n",
        "The same notation is used by many other implementations such as in the [torchvision library](https://pytorch.org/vision/0.11/models.html#torchvision.models.resnet18) from PyTorch.\n",
        "Thus, our code looks as follows:"
      ]
    },
    {
      "cell_type": "code",
      "execution_count": null,
      "id": "b8893290",
      "metadata": {
        "execution": {
          "iopub.execute_input": "2023-03-24T16:00:38.121174Z",
          "iopub.status.busy": "2023-03-24T16:00:38.120840Z",
          "iopub.status.idle": "2023-03-24T16:00:38.138422Z",
          "shell.execute_reply": "2023-03-24T16:00:38.137608Z"
        },
        "id": "b8893290",
        "papermill": {
          "duration": 0.034142,
          "end_time": "2023-03-24T16:00:38.140743",
          "exception": false,
          "start_time": "2023-03-24T16:00:38.106601",
          "status": "completed"
        },
        "tags": []
      },
      "outputs": [],
      "source": [
        "class ResNet(nn.Module):\n",
        "    def __init__(\n",
        "        self,\n",
        "        num_classes=10,\n",
        "        num_blocks=[3, 3, 3],\n",
        "        c_hidden=[16, 32, 64],\n",
        "        act_fn_name=\"relu\",\n",
        "        block_name=\"ResNetBlock\",\n",
        "        **kwargs,\n",
        "    ):\n",
        "        \"\"\"ResNet.\n",
        "\n",
        "        Args:\n",
        "            num_classes - Number of classification outputs (10 for CIFAR10)\n",
        "            num_blocks - List with the number of ResNet blocks to use. The first block of each group uses downsampling, except the first.\n",
        "            c_hidden - List with the hidden dimensionalities in the different blocks. Usually multiplied by 2 the deeper we go.\n",
        "            act_fn_name - Name of the activation function to use, looked up in \"act_fn_by_name\"\n",
        "            block_name - Name of the ResNet block, looked up in \"resnet_blocks_by_name\"\n",
        "        \"\"\"\n",
        "        super().__init__()\n",
        "        assert block_name in resnet_blocks_by_name\n",
        "        self.hparams = SimpleNamespace(\n",
        "            num_classes=num_classes,\n",
        "            c_hidden=c_hidden,\n",
        "            num_blocks=num_blocks,\n",
        "            act_fn_name=act_fn_name,\n",
        "            act_fn=act_fn_by_name[act_fn_name],\n",
        "            block_class=resnet_blocks_by_name[block_name],\n",
        "        )\n",
        "        self._create_network()\n",
        "        self._init_params()\n",
        "\n",
        "    def _create_network(self):\n",
        "        c_hidden = self.hparams.c_hidden\n",
        "\n",
        "        # A first convolution on the original image to scale up the channel size\n",
        "        if self.hparams.block_class == PreActResNetBlock:  # => Don't apply non-linearity on output\n",
        "            self.input_net = nn.Sequential(nn.Conv2d(3, c_hidden[0], kernel_size=3, padding=1, bias=False))\n",
        "        else:\n",
        "            self.input_net = nn.Sequential(\n",
        "                nn.Conv2d(3, c_hidden[0], kernel_size=3, padding=1, bias=False),\n",
        "                nn.BatchNorm2d(c_hidden[0]),\n",
        "                self.hparams.act_fn(),\n",
        "            )\n",
        "\n",
        "        # Creating the ResNet blocks\n",
        "        blocks = []\n",
        "        for block_idx, block_count in enumerate(self.hparams.num_blocks):\n",
        "            for bc in range(block_count):\n",
        "                # Subsample the first block of each group, except the very first one.\n",
        "                subsample = bc == 0 and block_idx > 0\n",
        "                blocks.append(\n",
        "                    self.hparams.block_class(\n",
        "                        c_in=c_hidden[block_idx if not subsample else (block_idx - 1)],\n",
        "                        act_fn=self.hparams.act_fn,\n",
        "                        subsample=subsample,\n",
        "                        c_out=c_hidden[block_idx],\n",
        "                    )\n",
        "                )\n",
        "        self.blocks = nn.Sequential(*blocks)\n",
        "\n",
        "        # Mapping to classification output\n",
        "        self.output_net = nn.Sequential(\n",
        "            nn.AdaptiveAvgPool2d((1, 1)), nn.Flatten(), nn.Linear(c_hidden[-1], self.hparams.num_classes)\n",
        "        )\n",
        "\n",
        "    def _init_params(self):\n",
        "        # Based on our discussion in Tutorial 4, we should initialize the convolutions according to the activation function\n",
        "        # Fan-out focuses on the gradient distribution, and is commonly used in ResNets\n",
        "        for m in self.modules():\n",
        "            if isinstance(m, nn.Conv2d):\n",
        "                nn.init.kaiming_normal_(m.weight, mode=\"fan_out\", nonlinearity=self.hparams.act_fn_name)\n",
        "            elif isinstance(m, nn.BatchNorm2d):\n",
        "                nn.init.constant_(m.weight, 1)\n",
        "                nn.init.constant_(m.bias, 0)\n",
        "\n",
        "    def forward(self, x):\n",
        "        x = self.input_net(x)\n",
        "        x = self.blocks(x)\n",
        "        x = self.output_net(x)\n",
        "        return x"
      ]
    },
    {
      "attachments": {},
      "cell_type": "markdown",
      "id": "4a296a80",
      "metadata": {
        "id": "4a296a80",
        "papermill": {
          "duration": 0.013089,
          "end_time": "2023-03-24T16:00:38.173389",
          "exception": false,
          "start_time": "2023-03-24T16:00:38.160300",
          "status": "completed"
        },
        "tags": []
      },
      "source": [
        "We also need to add the new ResNet class to our model dictionary:"
      ]
    },
    {
      "cell_type": "code",
      "execution_count": null,
      "id": "e29623fa",
      "metadata": {
        "execution": {
          "iopub.execute_input": "2023-03-24T16:00:38.200663Z",
          "iopub.status.busy": "2023-03-24T16:00:38.200493Z",
          "iopub.status.idle": "2023-03-24T16:00:38.204384Z",
          "shell.execute_reply": "2023-03-24T16:00:38.203431Z"
        },
        "id": "e29623fa",
        "papermill": {
          "duration": 0.019578,
          "end_time": "2023-03-24T16:00:38.206044",
          "exception": false,
          "start_time": "2023-03-24T16:00:38.186466",
          "status": "completed"
        },
        "tags": []
      },
      "outputs": [],
      "source": [
        "model_dict[\"ResNet\"] = ResNet"
      ]
    },
    {
      "attachments": {},
      "cell_type": "markdown",
      "id": "1de88793",
      "metadata": {
        "id": "1de88793",
        "papermill": {
          "duration": 0.01304,
          "end_time": "2023-03-24T16:00:38.235143",
          "exception": false,
          "start_time": "2023-03-24T16:00:38.222103",
          "status": "completed"
        },
        "tags": []
      },
      "source": [
        "Finally, we can train our ResNet models.\n",
        "One difference to the GoogleNet training is that we explicitly use SGD with Momentum as optimizer instead of Adam.\n",
        "Adam often leads to a slightly worse accuracy on plain, shallow ResNets.\n",
        "It is not 100% clear why Adam performs worse in this context, but one possible explanation is related to ResNet's loss surface.\n",
        "ResNet has been shown to produce smoother loss surfaces than networks without skip connection (see [Li et al., 2018](https://arxiv.org/pdf/1712.09913.pdf) for details).\n",
        "A possible visualization of the loss surface with/out skip connections is below (figure credit - [Li et al. ](https://arxiv.org/pdf/1712.09913.pdf)):\n",
        "\n",
        "<center width=\"100%\"><img src=\"https://github.com/Lightning-AI/lightning-tutorials/raw/main/course_UvA-DL/04-inception-resnet-densenet/resnet_loss_surface.png\" style=\"display: block; margin-left: auto; margin-right: auto;\" width=\"600px\"/></center>\n",
        "\n",
        "The $x$ and $y$ axis shows a projection of the parameter space, and the $z$ axis shows the loss values achieved by different parameter values.\n",
        "On smooth surfaces like the one on the right, we might not require an adaptive learning rate as Adam provides.\n",
        "Instead, Adam can get stuck in local optima while SGD finds the wider minima that tend to generalize better.\n",
        "However, to answer this question in detail, we would need an extra tutorial because it is not easy to answer.\n",
        "For now, we conclude: for ResNet architectures, consider the optimizer to be an important hyperparameter, and try training with both Adam and SGD.\n",
        "Let's train the model below with SGD:"
      ]
    },
    {
      "cell_type": "code",
      "execution_count": null,
      "id": "89308b8f",
      "metadata": {
        "execution": {
          "iopub.execute_input": "2023-03-24T16:00:38.263306Z",
          "iopub.status.busy": "2023-03-24T16:00:38.262921Z",
          "iopub.status.idle": "2023-03-24T16:00:41.895768Z",
          "shell.execute_reply": "2023-03-24T16:00:41.894339Z"
        },
        "id": "89308b8f",
        "papermill": {
          "duration": 3.649406,
          "end_time": "2023-03-24T16:00:41.897759",
          "exception": false,
          "start_time": "2023-03-24T16:00:38.248353",
          "status": "completed"
        },
        "tags": []
      },
      "outputs": [],
      "source": [
        "resnet_model, resnet_results = train_model(\n",
        "    model_name=\"ResNet\",\n",
        "    model_hparams={\"num_classes\": 10, \"c_hidden\": [16, 32, 64], \"num_blocks\": [3, 3, 3], \"act_fn_name\": \"relu\"},\n",
        "    optimizer_name=\"SGD\",\n",
        "    optimizer_hparams={\"lr\": 0.1, \"momentum\": 0.9, \"weight_decay\": 1e-4},\n",
        ")"
      ]
    },
    {
      "attachments": {},
      "cell_type": "markdown",
      "id": "e54b63dd",
      "metadata": {
        "id": "e54b63dd",
        "papermill": {
          "duration": 0.013733,
          "end_time": "2023-03-24T16:00:41.929913",
          "exception": false,
          "start_time": "2023-03-24T16:00:41.916180",
          "status": "completed"
        },
        "tags": []
      },
      "source": [
        "Let's also train the pre-activation ResNet as comparison:"
      ]
    },
    {
      "cell_type": "code",
      "execution_count": null,
      "id": "e056b6da",
      "metadata": {
        "execution": {
          "iopub.execute_input": "2023-03-24T16:00:41.959492Z",
          "iopub.status.busy": "2023-03-24T16:00:41.959101Z",
          "iopub.status.idle": "2023-03-24T16:00:45.876684Z",
          "shell.execute_reply": "2023-03-24T16:00:45.875307Z"
        },
        "id": "e056b6da",
        "papermill": {
          "duration": 3.935709,
          "end_time": "2023-03-24T16:00:45.879396",
          "exception": false,
          "start_time": "2023-03-24T16:00:41.943687",
          "status": "completed"
        },
        "tags": []
      },
      "outputs": [],
      "source": [
        "resnetpreact_model, resnetpreact_results = train_model(\n",
        "    model_name=\"ResNet\",\n",
        "    model_hparams={\n",
        "        \"num_classes\": 10,\n",
        "        \"c_hidden\": [16, 32, 64],\n",
        "        \"num_blocks\": [3, 3, 3],\n",
        "        \"act_fn_name\": \"relu\",\n",
        "        \"block_name\": \"PreActResNetBlock\",\n",
        "    },\n",
        "    optimizer_name=\"SGD\",\n",
        "    optimizer_hparams={\"lr\": 0.1, \"momentum\": 0.9, \"weight_decay\": 1e-4},\n",
        "    save_name=\"ResNetPreAct\",\n",
        ")"
      ]
    },
    {
      "attachments": {},
      "cell_type": "markdown",
      "id": "b467fee3",
      "metadata": {
        "id": "b467fee3",
        "papermill": {
          "duration": 0.014422,
          "end_time": "2023-03-24T16:00:45.916093",
          "exception": false,
          "start_time": "2023-03-24T16:00:45.901671",
          "status": "completed"
        },
        "tags": []
      },
      "source": [
        "### Tensorboard log\n",
        "\n",
        "Similarly to our GoogleNet model, we also have a TensorBoard log for the ResNet model. We can open it below."
      ]
    },
    {
      "cell_type": "code",
      "execution_count": null,
      "id": "9fddd9ce",
      "metadata": {
        "execution": {
          "iopub.execute_input": "2023-03-24T16:00:45.947403Z",
          "iopub.status.busy": "2023-03-24T16:00:45.946710Z",
          "iopub.status.idle": "2023-03-24T16:00:47.118763Z",
          "shell.execute_reply": "2023-03-24T16:00:47.117301Z"
        },
        "id": "9fddd9ce",
        "papermill": {
          "duration": 1.190951,
          "end_time": "2023-03-24T16:00:47.121520",
          "exception": false,
          "start_time": "2023-03-24T16:00:45.930569",
          "status": "completed"
        },
        "tags": []
      },
      "outputs": [],
      "source": [
        "# Opens tensorboard in notebook. Adjust the path to your CHECKPOINT_PATH! Feel free to change \"ResNet\" to \"ResNetPreAct\"\n",
        "%tensorboard --logdir ../saved_models/tutorial5/tensorboards/ResNet/"
      ]
    },
    {
      "attachments": {},
      "cell_type": "markdown",
      "id": "f5352520",
      "metadata": {
        "id": "f5352520",
        "papermill": {
          "duration": 0.014603,
          "end_time": "2023-03-24T16:00:47.154807",
          "exception": false,
          "start_time": "2023-03-24T16:00:47.140204",
          "status": "completed"
        },
        "tags": []
      },
      "source": [
        "<center width=\"100%\"><img src=\"https://github.com/Lightning-AI/lightning-tutorials/raw/main/course_UvA-DL/04-inception-resnet-densenet/tensorboard_screenshot_ResNet.png\" width=\"1000px\"></center>\n",
        "\n",
        "Feel free to explore the TensorBoard yourself, including the computation graph.\n",
        "In general, we can see that with SGD, the ResNet has a higher training loss than the GoogleNet in the first stage of the training.\n",
        "After reducing the learning rate however, the model achieves even higher validation accuracies.\n",
        "We compare the precise scores at the end of the notebook."
      ]
    },
    {
      "attachments": {},
      "cell_type": "markdown",
      "id": "07e4c4a2",
      "metadata": {
        "id": "07e4c4a2",
        "lines_to_next_cell": 2,
        "papermill": {
          "duration": 0.014549,
          "end_time": "2023-03-24T16:00:47.184028",
          "exception": false,
          "start_time": "2023-03-24T16:00:47.169479",
          "status": "completed"
        },
        "tags": []
      },
      "source": [
        "## DenseNet\n",
        "\n",
        "<div class=\"center-wrapper\"><div class=\"video-wrapper\"><iframe src=\"https://www.youtube.com/embed/ELEqNwv9vkE\" title=\"YouTube video player\" frameborder=\"0\" allow=\"accelerometer; autoplay; clipboard-write; encrypted-media; gyroscope; picture-in-picture\" allowfullscreen></iframe></div></div>\n",
        "\n",
        "[DenseNet](https://arxiv.org/abs/1608.06993) is another architecture for enabling very deep neural networks and takes a slightly different perspective on residual connections.\n",
        "Instead of modeling the difference between layers, DenseNet considers residual connections as a possible way to reuse features across layers, removing any necessity to learn redundant feature maps.\n",
        "If we go deeper into the network, the model learns abstract features to recognize patterns.\n",
        "However, some complex patterns consist of a combination of abstract features (e.g. hand, face, etc.\n",
        "), and low-level features (e.g. edges, basic color, etc.).\n",
        "To find these low-level features in the deep layers, standard CNNs have to learn copy such feature maps, which wastes a lot of parameter complexity.\n",
        "DenseNet provides an efficient way of reusing features by having each convolution depends on all previous input features, but add only a small amount of filters to it.\n",
        "See the figure below for an illustration (figure credit - [Hu et al. ](https://arxiv.org/abs/1608.06993)):\n",
        "\n",
        "<center width=\"100%\"><img src=\"https://github.com/Lightning-AI/lightning-tutorials/raw/main/course_UvA-DL/04-inception-resnet-densenet/densenet_block.svg\" style=\"display: block; margin-left: auto; margin-right: auto;\" width=\"500px\"/></center>\n",
        "\n",
        "The last layer, called the transition layer, is responsible for reducing the dimensionality of the feature maps in height, width, and channel size.\n",
        "Although those technically break the identity backpropagation, there are only a few in a network so that it doesn't affect the gradient flow much.\n",
        "\n",
        "We split the implementation of the layers in DenseNet into three parts: a `DenseLayer`, and a `DenseBlock`, and a `TransitionLayer`.\n",
        "The module `DenseLayer` implements a single layer inside a dense block.\n",
        "It applies a 1x1 convolution for dimensionality reduction with a subsequential 3x3 convolution.\n",
        "The output channels are concatenated to the originals and returned.\n",
        "Note that we apply the Batch Normalization as the first layer of each block.\n",
        "This allows slightly different activations for the same features to different layers, depending on what is needed.\n",
        "Overall, we can implement it as follows:"
      ]
    },
    {
      "cell_type": "code",
      "execution_count": null,
      "id": "821b837f",
      "metadata": {
        "execution": {
          "iopub.execute_input": "2023-03-24T16:00:47.215492Z",
          "iopub.status.busy": "2023-03-24T16:00:47.215098Z",
          "iopub.status.idle": "2023-03-24T16:00:47.226076Z",
          "shell.execute_reply": "2023-03-24T16:00:47.225137Z"
        },
        "id": "821b837f",
        "lines_to_next_cell": 2,
        "papermill": {
          "duration": 0.029834,
          "end_time": "2023-03-24T16:00:47.228451",
          "exception": false,
          "start_time": "2023-03-24T16:00:47.198617",
          "status": "completed"
        },
        "tags": []
      },
      "outputs": [],
      "source": [
        "class DenseLayer(nn.Module):\n",
        "    def __init__(self, c_in, bn_size, growth_rate, act_fn):\n",
        "        \"\"\"DenseLayer.\n",
        "\n",
        "        Args:\n",
        "            c_in - Number of input channels\n",
        "            bn_size - Bottleneck size (factor of growth rate) for the output of the 1x1 convolution. Typically between 2 and 4.\n",
        "            growth_rate - Number of output channels of the 3x3 convolution\n",
        "            act_fn - Activation class constructor (e.g. nn.ReLU)\n",
        "        \"\"\"\n",
        "        super().__init__()\n",
        "        self.net = nn.Sequential(\n",
        "            nn.BatchNorm2d(c_in),\n",
        "            act_fn(),\n",
        "            nn.Conv2d(c_in, bn_size * growth_rate, kernel_size=1, bias=False),\n",
        "            nn.BatchNorm2d(bn_size * growth_rate),\n",
        "            act_fn(),\n",
        "            nn.Conv2d(bn_size * growth_rate, growth_rate, kernel_size=3, padding=1, bias=False),\n",
        "        )\n",
        "\n",
        "    def forward(self, x):\n",
        "        out = self.net(x)\n",
        "        out = torch.cat([out, x], dim=1)\n",
        "        return out"
      ]
    },
    {
      "attachments": {},
      "cell_type": "markdown",
      "id": "8fb38f32",
      "metadata": {
        "id": "8fb38f32",
        "lines_to_next_cell": 2,
        "papermill": {
          "duration": 0.014622,
          "end_time": "2023-03-24T16:00:47.262152",
          "exception": false,
          "start_time": "2023-03-24T16:00:47.247530",
          "status": "completed"
        },
        "tags": []
      },
      "source": [
        "The module `DenseBlock` summarizes multiple dense layers applied in sequence.\n",
        "Each dense layer takes as input the original input concatenated with all previous layers' feature maps:"
      ]
    },
    {
      "cell_type": "code",
      "execution_count": null,
      "id": "f0d894d9",
      "metadata": {
        "execution": {
          "iopub.execute_input": "2023-03-24T16:00:47.292510Z",
          "iopub.status.busy": "2023-03-24T16:00:47.292329Z",
          "iopub.status.idle": "2023-03-24T16:00:47.298097Z",
          "shell.execute_reply": "2023-03-24T16:00:47.297171Z"
        },
        "id": "f0d894d9",
        "lines_to_next_cell": 2,
        "papermill": {
          "duration": 0.02307,
          "end_time": "2023-03-24T16:00:47.299818",
          "exception": false,
          "start_time": "2023-03-24T16:00:47.276748",
          "status": "completed"
        },
        "tags": []
      },
      "outputs": [],
      "source": [
        "class DenseBlock(nn.Module):\n",
        "    def __init__(self, c_in, num_layers, bn_size, growth_rate, act_fn):\n",
        "        \"\"\"Dense Block.\n",
        "\n",
        "        Args:\n",
        "            c_in - Number of input channels\n",
        "            num_layers - Number of dense layers to apply in the block\n",
        "            bn_size - Bottleneck size to use in the dense layers\n",
        "            growth_rate - Growth rate to use in the dense layers\n",
        "            act_fn - Activation function to use in the dense layers\n",
        "        \"\"\"\n",
        "        super().__init__()\n",
        "        layers = []\n",
        "        for layer_idx in range(num_layers):\n",
        "            # Input channels are original plus the feature maps from previous layers\n",
        "            layer_c_in = c_in + layer_idx * growth_rate\n",
        "            layers.append(DenseLayer(c_in=layer_c_in, bn_size=bn_size, growth_rate=growth_rate, act_fn=act_fn))\n",
        "        self.block = nn.Sequential(*layers)\n",
        "\n",
        "    def forward(self, x):\n",
        "        out = self.block(x)\n",
        "        return out"
      ]
    },
    {
      "attachments": {},
      "cell_type": "markdown",
      "id": "11b46705",
      "metadata": {
        "id": "11b46705",
        "lines_to_next_cell": 2,
        "papermill": {
          "duration": 0.014727,
          "end_time": "2023-03-24T16:00:47.334969",
          "exception": false,
          "start_time": "2023-03-24T16:00:47.320242",
          "status": "completed"
        },
        "tags": []
      },
      "source": [
        "Finally, the `TransitionLayer` takes as input the final output of a dense block and reduces its channel dimensionality using a 1x1 convolution.\n",
        "To reduce the height and width dimension, we take a slightly different approach than in ResNet and apply an average pooling with kernel size 2 and stride 2.\n",
        "This is because we don't have an additional connection to the output that would consider the full 2x2 patch instead of a single value.\n",
        "Besides, it is more parameter efficient than using a 3x3 convolution with stride 2.\n",
        "Thus, the layer is implemented as follows:"
      ]
    },
    {
      "cell_type": "code",
      "execution_count": null,
      "id": "92028ae3",
      "metadata": {
        "execution": {
          "iopub.execute_input": "2023-03-24T16:00:47.366285Z",
          "iopub.status.busy": "2023-03-24T16:00:47.365917Z",
          "iopub.status.idle": "2023-03-24T16:00:47.373837Z",
          "shell.execute_reply": "2023-03-24T16:00:47.372756Z"
        },
        "id": "92028ae3",
        "lines_to_next_cell": 2,
        "papermill": {
          "duration": 0.025563,
          "end_time": "2023-03-24T16:00:47.375322",
          "exception": false,
          "start_time": "2023-03-24T16:00:47.349759",
          "status": "completed"
        },
        "tags": []
      },
      "outputs": [],
      "source": [
        "class TransitionLayer(nn.Module):\n",
        "    def __init__(self, c_in, c_out, act_fn):\n",
        "        super().__init__()\n",
        "        self.transition = nn.Sequential(\n",
        "            nn.BatchNorm2d(c_in),\n",
        "            act_fn(),\n",
        "            nn.Conv2d(c_in, c_out, kernel_size=1, bias=False),\n",
        "            nn.AvgPool2d(kernel_size=2, stride=2),  # Average the output for each 2x2 pixel group\n",
        "        )\n",
        "\n",
        "    def forward(self, x):\n",
        "        return self.transition(x)"
      ]
    },
    {
      "attachments": {},
      "cell_type": "markdown",
      "id": "eb6c6ec7",
      "metadata": {
        "id": "eb6c6ec7",
        "lines_to_next_cell": 2,
        "papermill": {
          "duration": 0.014642,
          "end_time": "2023-03-24T16:00:47.409116",
          "exception": false,
          "start_time": "2023-03-24T16:00:47.394474",
          "status": "completed"
        },
        "tags": []
      },
      "source": [
        "Now we can put everything together and create our DenseNet.\n",
        "To specify the number of layers, we use a similar notation as in ResNets and pass on a list of ints representing the number of layers per block.\n",
        "After each dense block except the last one, we apply a transition layer to reduce the dimensionality by 2."
      ]
    },
    {
      "cell_type": "code",
      "execution_count": null,
      "id": "dd848335",
      "metadata": {
        "execution": {
          "iopub.execute_input": "2023-03-24T16:00:47.440593Z",
          "iopub.status.busy": "2023-03-24T16:00:47.439756Z",
          "iopub.status.idle": "2023-03-24T16:00:47.452724Z",
          "shell.execute_reply": "2023-03-24T16:00:47.451772Z"
        },
        "id": "dd848335",
        "papermill": {
          "duration": 0.031272,
          "end_time": "2023-03-24T16:00:47.455093",
          "exception": false,
          "start_time": "2023-03-24T16:00:47.423821",
          "status": "completed"
        },
        "tags": []
      },
      "outputs": [],
      "source": [
        "class DenseNet(nn.Module):\n",
        "    def __init__(\n",
        "        self, num_classes=10, num_layers=[6, 6, 6, 6], bn_size=2, growth_rate=16, act_fn_name=\"relu\", **kwargs\n",
        "    ):\n",
        "        super().__init__()\n",
        "        self.hparams = SimpleNamespace(\n",
        "            num_classes=num_classes,\n",
        "            num_layers=num_layers,\n",
        "            bn_size=bn_size,\n",
        "            growth_rate=growth_rate,\n",
        "            act_fn_name=act_fn_name,\n",
        "            act_fn=act_fn_by_name[act_fn_name],\n",
        "        )\n",
        "        self._create_network()\n",
        "        self._init_params()\n",
        "\n",
        "    def _create_network(self):\n",
        "        c_hidden = self.hparams.growth_rate * self.hparams.bn_size  # The start number of hidden channels\n",
        "\n",
        "        # A first convolution on the original image to scale up the channel size\n",
        "        self.input_net = nn.Sequential(\n",
        "            # No batch norm or activation function as done inside the Dense layers\n",
        "            nn.Conv2d(3, c_hidden, kernel_size=3, padding=1)\n",
        "        )\n",
        "\n",
        "        # Creating the dense blocks, eventually including transition layers\n",
        "        blocks = []\n",
        "        for block_idx, num_layers in enumerate(self.hparams.num_layers):\n",
        "            blocks.append(\n",
        "                DenseBlock(\n",
        "                    c_in=c_hidden,\n",
        "                    num_layers=num_layers,\n",
        "                    bn_size=self.hparams.bn_size,\n",
        "                    growth_rate=self.hparams.growth_rate,\n",
        "                    act_fn=self.hparams.act_fn,\n",
        "                )\n",
        "            )\n",
        "            c_hidden = c_hidden + num_layers * self.hparams.growth_rate  # Overall output of the dense block\n",
        "            if block_idx < len(self.hparams.num_layers) - 1:  # Don't apply transition layer on last block\n",
        "                blocks.append(TransitionLayer(c_in=c_hidden, c_out=c_hidden // 2, act_fn=self.hparams.act_fn))\n",
        "                c_hidden = c_hidden // 2\n",
        "\n",
        "        self.blocks = nn.Sequential(*blocks)\n",
        "\n",
        "        # Mapping to classification output\n",
        "        self.output_net = nn.Sequential(\n",
        "            nn.BatchNorm2d(c_hidden),  # The features have not passed a non-linearity until here.\n",
        "            self.hparams.act_fn(),\n",
        "            nn.AdaptiveAvgPool2d((1, 1)),\n",
        "            nn.Flatten(),\n",
        "            nn.Linear(c_hidden, self.hparams.num_classes),\n",
        "        )\n",
        "\n",
        "    def _init_params(self):\n",
        "        # Based on our discussion in Tutorial 4, we should initialize the\n",
        "        # convolutions according to the activation function\n",
        "        for m in self.modules():\n",
        "            if isinstance(m, nn.Conv2d):\n",
        "                nn.init.kaiming_normal_(m.weight, nonlinearity=self.hparams.act_fn_name)\n",
        "            elif isinstance(m, nn.BatchNorm2d):\n",
        "                nn.init.constant_(m.weight, 1)\n",
        "                nn.init.constant_(m.bias, 0)\n",
        "\n",
        "    def forward(self, x):\n",
        "        x = self.input_net(x)\n",
        "        x = self.blocks(x)\n",
        "        x = self.output_net(x)\n",
        "        return x"
      ]
    },
    {
      "attachments": {},
      "cell_type": "markdown",
      "id": "e5338daf",
      "metadata": {
        "id": "e5338daf",
        "papermill": {
          "duration": 0.01471,
          "end_time": "2023-03-24T16:00:47.489673",
          "exception": false,
          "start_time": "2023-03-24T16:00:47.474963",
          "status": "completed"
        },
        "tags": []
      },
      "source": [
        "Let's also add the DenseNet to our model dictionary:"
      ]
    },
    {
      "cell_type": "code",
      "execution_count": null,
      "id": "4b15f50b",
      "metadata": {
        "execution": {
          "iopub.execute_input": "2023-03-24T16:00:47.520536Z",
          "iopub.status.busy": "2023-03-24T16:00:47.520301Z",
          "iopub.status.idle": "2023-03-24T16:00:47.524683Z",
          "shell.execute_reply": "2023-03-24T16:00:47.523684Z"
        },
        "id": "4b15f50b",
        "papermill": {
          "duration": 0.021556,
          "end_time": "2023-03-24T16:00:47.525968",
          "exception": false,
          "start_time": "2023-03-24T16:00:47.504412",
          "status": "completed"
        },
        "tags": []
      },
      "outputs": [],
      "source": [
        "model_dict[\"DenseNet\"] = DenseNet"
      ]
    },
    {
      "attachments": {},
      "cell_type": "markdown",
      "id": "88ac4c1b",
      "metadata": {
        "id": "88ac4c1b",
        "papermill": {
          "duration": 0.015015,
          "end_time": "2023-03-24T16:00:47.558050",
          "exception": false,
          "start_time": "2023-03-24T16:00:47.543035",
          "status": "completed"
        },
        "tags": []
      },
      "source": [
        "Lastly, we train our network.\n",
        "In contrast to ResNet, DenseNet does not show any issues with Adam, and hence we train it with this optimizer.\n",
        "The other hyperparameters are chosen to result in a network with a similar parameter size as the ResNet and GoogleNet.\n",
        "Commonly, when designing very deep networks, DenseNet is more parameter\n",
        "efficient than ResNet while achieving a similar or even better\n",
        "performance."
      ]
    },
    {
      "cell_type": "code",
      "execution_count": null,
      "id": "3356f7f6",
      "metadata": {
        "execution": {
          "iopub.execute_input": "2023-03-24T16:00:47.590284Z",
          "iopub.status.busy": "2023-03-24T16:00:47.589355Z",
          "iopub.status.idle": "2023-03-24T16:00:53.662606Z",
          "shell.execute_reply": "2023-03-24T16:00:53.661051Z"
        },
        "id": "3356f7f6",
        "papermill": {
          "duration": 6.092502,
          "end_time": "2023-03-24T16:00:53.665582",
          "exception": false,
          "start_time": "2023-03-24T16:00:47.573080",
          "status": "completed"
        },
        "tags": []
      },
      "outputs": [],
      "source": [
        "densenet_model, densenet_results = train_model(\n",
        "    model_name=\"DenseNet\",\n",
        "    model_hparams={\n",
        "        \"num_classes\": 10,\n",
        "        \"num_layers\": [6, 6, 6, 6],\n",
        "        \"bn_size\": 2,\n",
        "        \"growth_rate\": 16,\n",
        "        \"act_fn_name\": \"relu\",\n",
        "    },\n",
        "    optimizer_name=\"Adam\",\n",
        "    optimizer_hparams={\"lr\": 1e-3, \"weight_decay\": 1e-4},\n",
        ")"
      ]
    },
    {
      "attachments": {},
      "cell_type": "markdown",
      "id": "1af4408c",
      "metadata": {
        "id": "1af4408c",
        "papermill": {
          "duration": 0.015626,
          "end_time": "2023-03-24T16:00:53.705606",
          "exception": false,
          "start_time": "2023-03-24T16:00:53.689980",
          "status": "completed"
        },
        "tags": []
      },
      "source": [
        "### Tensorboard log\n",
        "\n",
        "Finally, we also have another TensorBoard for the DenseNet training. We take a look at it below:"
      ]
    },
    {
      "cell_type": "code",
      "execution_count": null,
      "id": "3621e313",
      "metadata": {
        "execution": {
          "iopub.execute_input": "2023-03-24T16:00:53.739706Z",
          "iopub.status.busy": "2023-03-24T16:00:53.738919Z",
          "iopub.status.idle": "2023-03-24T16:00:55.432956Z",
          "shell.execute_reply": "2023-03-24T16:00:55.431436Z"
        },
        "id": "3621e313",
        "papermill": {
          "duration": 1.714319,
          "end_time": "2023-03-24T16:00:55.435798",
          "exception": false,
          "start_time": "2023-03-24T16:00:53.721479",
          "status": "completed"
        },
        "tags": []
      },
      "outputs": [],
      "source": [
        "# Opens tensorboard in notebook. Adjust the path to your CHECKPOINT_PATH! Feel free to change \"ResNet\" to \"ResNetPreAct\"\n",
        "%tensorboard --logdir ../saved_models/tutorial5/tensorboards/DenseNet/"
      ]
    },
    {
      "attachments": {},
      "cell_type": "markdown",
      "id": "46c7dd67",
      "metadata": {
        "id": "46c7dd67",
        "papermill": {
          "duration": 0.015655,
          "end_time": "2023-03-24T16:00:55.472587",
          "exception": false,
          "start_time": "2023-03-24T16:00:55.456932",
          "status": "completed"
        },
        "tags": []
      },
      "source": [
        "<center width=\"100%\"><img src=\"https://github.com/Lightning-AI/lightning-tutorials/raw/main/course_UvA-DL/04-inception-resnet-densenet/tensorboard_screenshot_DenseNet.png\" width=\"1000px\"></center>\n",
        "\n",
        "The overall course of the validation accuracy and training loss resemble the training of GoogleNet, which is also related to training the network with Adam.\n",
        "Feel free to explore the training metrics yourself."
      ]
    },
    {
      "attachments": {},
      "cell_type": "markdown",
      "id": "24de97b8",
      "metadata": {
        "id": "24de97b8",
        "papermill": {
          "duration": 0.015641,
          "end_time": "2023-03-24T16:00:55.503867",
          "exception": false,
          "start_time": "2023-03-24T16:00:55.488226",
          "status": "completed"
        },
        "tags": []
      },
      "source": [
        "## Conclusion and Comparison\n",
        "\n",
        "After discussing each model separately, and training all of them, we can finally compare them.\n",
        "First, let's organize the results of all models in a table:"
      ]
    },
    {
      "cell_type": "code",
      "execution_count": null,
      "id": "b3d35fd1",
      "metadata": {
        "execution": {
          "iopub.execute_input": "2023-03-24T16:00:55.537108Z",
          "iopub.status.busy": "2023-03-24T16:00:55.536715Z",
          "iopub.status.idle": "2023-03-24T16:00:55.546000Z",
          "shell.execute_reply": "2023-03-24T16:00:55.544960Z"
        },
        "id": "b3d35fd1",
        "papermill": {
          "duration": 0.029088,
          "end_time": "2023-03-24T16:00:55.548587",
          "exception": false,
          "start_time": "2023-03-24T16:00:55.519499",
          "status": "completed"
        },
        "tags": []
      },
      "outputs": [],
      "source": [
        "%%html\n",
        "<!-- Some HTML code to increase font size in the following table -->\n",
        "<style>\n",
        "th {font-size: 120%;}\n",
        "td {font-size: 120%;}\n",
        "</style>"
      ]
    },
    {
      "cell_type": "code",
      "execution_count": null,
      "id": "a99eebe2",
      "metadata": {
        "execution": {
          "iopub.execute_input": "2023-03-24T16:00:55.587845Z",
          "iopub.status.busy": "2023-03-24T16:00:55.587534Z",
          "iopub.status.idle": "2023-03-24T16:00:55.603934Z",
          "shell.execute_reply": "2023-03-24T16:00:55.602993Z"
        },
        "id": "a99eebe2",
        "papermill": {
          "duration": 0.035688,
          "end_time": "2023-03-24T16:00:55.606214",
          "exception": false,
          "start_time": "2023-03-24T16:00:55.570526",
          "status": "completed"
        },
        "tags": []
      },
      "outputs": [],
      "source": [
        "all_models = [\n",
        "    (\"GoogleNet\", googlenet_results, googlenet_model),\n",
        "    (\"ResNet\", resnet_results, resnet_model),\n",
        "    (\"ResNetPreAct\", resnetpreact_results, resnetpreact_model),\n",
        "    (\"DenseNet\", densenet_results, densenet_model),\n",
        "]\n",
        "table = [\n",
        "    [\n",
        "        model_name,\n",
        "        f\"{100.0*model_results['val']:4.2f}%\",\n",
        "        f\"{100.0*model_results['test']:4.2f}%\",\n",
        "        f\"{sum(np.prod(p.shape) for p in model.parameters()):,}\",\n",
        "    ]\n",
        "    for model_name, model_results, model in all_models\n",
        "]\n",
        "display(\n",
        "    HTML(\n",
        "        tabulate.tabulate(table, tablefmt=\"html\", headers=[\"Model\", \"Val Accuracy\", \"Test Accuracy\", \"Num Parameters\"])\n",
        "    )\n",
        ")"
      ]
    },
    {
      "attachments": {},
      "cell_type": "markdown",
      "id": "fb6c5ef5",
      "metadata": {
        "id": "fb6c5ef5",
        "papermill": {
          "duration": 0.015875,
          "end_time": "2023-03-24T16:00:55.642811",
          "exception": false,
          "start_time": "2023-03-24T16:00:55.626936",
          "status": "completed"
        },
        "tags": []
      },
      "source": [
        "First of all, we see that all models are performing reasonably well.\n",
        "Simple models as you have implemented them in the practical achieve considerably lower performance, which is beside the lower number of parameters also attributed to the architecture design choice.\n",
        "GoogleNet is the model to obtain the lowest performance on the validation and test set, although it is very close to DenseNet.\n",
        "A proper hyperparameter search over all the channel sizes in GoogleNet would likely improve the accuracy of the model to a similar level, but this is also expensive given a large number of hyperparameters.\n",
        "ResNet outperforms both DenseNet and GoogleNet by more than 1% on the validation set, while there is a minor difference between both versions, original and pre-activation.\n",
        "We can conclude that for shallow networks, the place of the activation function does not seem to be crucial, although papers have reported the contrary for very deep networks (e.g. [He et al. ](https://arxiv.org/abs/1603.05027)).\n",
        "\n",
        "In general, we can conclude that ResNet is a simple, but powerful architecture.\n",
        "If we would apply the models on more complex tasks with larger images and more layers inside the networks, we would likely see a bigger gap between GoogleNet and skip-connection architectures like ResNet and DenseNet.\n",
        "A comparison with deeper models on CIFAR10 can be for example found [here](https://github.com/kuangliu/pytorch-cifar).\n",
        "Interestingly, DenseNet outperforms the original ResNet on their setup but comes closely behind the Pre-Activation ResNet.\n",
        "The best model, a Dual Path Network ([Chen et.\n",
        "al](https://arxiv.org/abs/1707.01629)), is actually a combination of\n",
        "ResNet and DenseNet showing that both offer different advantages."
      ]
    },
    {
      "attachments": {},
      "cell_type": "markdown",
      "id": "d3a796e6",
      "metadata": {
        "id": "d3a796e6",
        "papermill": {
          "duration": 0.015952,
          "end_time": "2023-03-24T16:00:55.674691",
          "exception": false,
          "start_time": "2023-03-24T16:00:55.658739",
          "status": "completed"
        },
        "tags": []
      },
      "source": [
        "### Which model should I choose for my task?\n",
        "\n",
        "We have reviewed four different models.\n",
        "So, which one should we choose if have given a new task?\n",
        "Usually, starting with a ResNet is a good idea given the superior performance of the CIFAR dataset and its simple implementation.\n",
        "Besides, for the parameter number we have chosen here, ResNet is the fastest as DenseNet and GoogleNet have many more layers that are applied in sequence in our primitive implementation.\n",
        "However, if you have a really difficult task, such as semantic\n",
        "segmentation on HD images, more complex variants of ResNet and DenseNet\n",
        "are recommended."
      ]
    },
    {
      "attachments": {},
      "cell_type": "markdown",
      "id": "da20bd3a",
      "metadata": {
        "id": "da20bd3a",
        "papermill": {
          "duration": 0.016199,
          "end_time": "2023-03-24T16:00:55.706931",
          "exception": false,
          "start_time": "2023-03-24T16:00:55.690732",
          "status": "completed"
        },
        "tags": []
      },
      "source": [
        "## Congratulations - Time to Join the Community!\n",
        "\n",
        "Congratulations on completing this notebook tutorial! If you enjoyed this and would like to join the Lightning\n",
        "movement, you can do so in the following ways!\n",
        "\n",
        "### Star [Lightning](https://github.com/Lightning-AI/lightning) on GitHub\n",
        "The easiest way to help our community is just by starring the GitHub repos! This helps raise awareness of the cool\n",
        "tools we're building.\n",
        "\n",
        "### Join our [Slack](https://www.pytorchlightning.ai/community)!\n",
        "The best way to keep up to date on the latest advancements is to join our community! Make sure to introduce yourself\n",
        "and share your interests in `#general` channel\n",
        "\n",
        "\n",
        "### Contributions !\n",
        "The best way to contribute to our community is to become a code contributor! At any time you can go to\n",
        "[Lightning](https://github.com/Lightning-AI/lightning) or [Bolt](https://github.com/Lightning-AI/lightning-bolts)\n",
        "GitHub Issues page and filter for \"good first issue\".\n",
        "\n",
        "* [Lightning good first issue](https://github.com/Lightning-AI/lightning/issues?q=is%3Aopen+is%3Aissue+label%3A%22good+first+issue%22)\n",
        "* [Bolt good first issue](https://github.com/Lightning-AI/lightning-bolts/issues?q=is%3Aopen+is%3Aissue+label%3A%22good+first+issue%22)\n",
        "* You can also contribute your own notebooks with useful examples !\n",
        "\n",
        "### Great thanks from the entire Pytorch Lightning Team for your interest !\n",
        "\n",
        "[![Pytorch Lightning](data:image/png;base64,NDA0OiBOb3QgRm91bmQ=){height=\"60px\" width=\"240px\"}](https://pytorchlightning.ai)"
      ]
    }
  ],
  "metadata": {
    "accelerator": "GPU",
    "colab": {
      "gpuType": "T4",
      "include_colab_link": true,
      "provenance": []
    },
    "gpuClass": "standard",
    "jupytext": {
      "cell_metadata_filter": "colab_type,id,colab,-all",
      "formats": "ipynb,py:percent",
      "main_language": "python"
    },
    "kernelspec": {
      "display_name": "Python 3",
      "name": "python3"
    },
    "language_info": {
      "codemirror_mode": {
        "name": "ipython",
        "version": 3
      },
      "file_extension": ".py",
      "mimetype": "text/x-python",
      "name": "python",
      "nbconvert_exporter": "python",
      "pygments_lexer": "ipython3",
      "version": "3.8.16"
    },
    "papermill": {
      "default_parameters": {},
      "duration": 163.488316,
      "end_time": "2023-03-24T16:00:58.646397",
      "environment_variables": {},
      "exception": null,
      "input_path": "course_UvA-DL/04-inception-resnet-densenet/Inception_ResNet_DenseNet.ipynb",
      "output_path": ".notebooks/course_UvA-DL/04-inception-resnet-densenet.ipynb",
      "parameters": {},
      "start_time": "2023-03-24T15:58:15.158081",
      "version": "2.4.0"
    }
  },
  "nbformat": 4,
  "nbformat_minor": 5
}
